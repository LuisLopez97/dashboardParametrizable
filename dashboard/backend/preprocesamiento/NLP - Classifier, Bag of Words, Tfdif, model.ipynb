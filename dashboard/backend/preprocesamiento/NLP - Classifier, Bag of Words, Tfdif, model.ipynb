{
 "cells": [
  {
   "cell_type": "markdown",
   "metadata": {},
   "source": [
    "# Construyendo un Bag of Words"
   ]
  },
  {
   "cell_type": "markdown",
   "metadata": {},
   "source": [
    "## Importar librerias"
   ]
  },
  {
   "cell_type": "code",
   "execution_count": 1,
   "metadata": {},
   "outputs": [],
   "source": [
    "import pandas as pd\n",
    "import numpy as np\n",
    "from sklearn.model_selection import train_test_split\n",
    "from sklearn.feature_extraction.text import CountVectorizer"
   ]
  },
  {
   "cell_type": "markdown",
   "metadata": {},
   "source": [
    "## Leer Dataset"
   ]
  },
  {
   "cell_type": "code",
   "execution_count": 2,
   "metadata": {},
   "outputs": [],
   "source": [
    "pd.set_option('display.max_colwidth', -1)\n",
    "df = pd.read_csv(\"data_lemmatized.csv\")\n",
    "y = df['sentiment']"
   ]
  },
  {
   "cell_type": "markdown",
   "metadata": {},
   "source": [
    "## Crear conjunto de entrenamiento y pruebas"
   ]
  },
  {
   "cell_type": "markdown",
   "metadata": {},
   "source": [
    "### variables de salida (listas)\n",
    "- **x_train**: conjunto de entrenamiento con todas las columnas excepto la que se quiere predecir ('sentiment'). A esas demás columnas se le conocen como 'features' o 'variables'\n",
    "- **x_test**: conjunto de entrenamiento, solo con la columna que se quiere predecir ('sentiment'). A esa columna se le llama 'labels'\n",
    "- **y_train**: conjunto de prueba, solo con los 'features'\n",
    "- **y_test**: conjunto de prueba, solo con los 'labels'\n",
    "--------------------------------------------------------\n",
    "### parametros\n",
    "- **test_size**: porcentaje en que utilizara el conjunto de entrenamiento en todo el dataset\n",
    "- **random_state**: es la semilla de aleatoridad. Permite revolver las filas y columnas, pero siempre dando el mismo resultado"
   ]
  },
  {
   "cell_type": "code",
   "execution_count": 3,
   "metadata": {},
   "outputs": [],
   "source": [
    "x_train, x_test, y_train, y_test = train_test_split(df['data_lemmatized'], y, test_size = 0.33, random_state = 53)"
   ]
  },
  {
   "cell_type": "markdown",
   "metadata": {},
   "source": [
    "## Transformar textos a Vectores de Bag of Words "
   ]
  },
  {
   "cell_type": "markdown",
   "metadata": {},
   "source": [
    "### Inicializacion de la clase CountVectorizer\n",
    "Aplica preprocesamiento removiendo stopwords\n",
    "\n",
    ".values.astype('U'):\n",
    "https://stackoverflow.com/questions/39303912/tfidfvectorizer-in-scikit-learn-valueerror-np-nan-is-an-invalid-document"
   ]
  },
  {
   "cell_type": "code",
   "execution_count": 4,
   "metadata": {},
   "outputs": [],
   "source": [
    "count_vectorizer = CountVectorizer(stop_words='english')"
   ]
  },
  {
   "cell_type": "markdown",
   "metadata": {},
   "source": [
    "### Fit y Transform"
   ]
  },
  {
   "cell_type": "code",
   "execution_count": 5,
   "metadata": {},
   "outputs": [],
   "source": [
    "# Conjunto de Entrenamiento\n",
    "count_train = count_vectorizer.fit_transform(x_train.values.astype('U'))"
   ]
  },
  {
   "cell_type": "code",
   "execution_count": 6,
   "metadata": {},
   "outputs": [],
   "source": [
    "# Conjunto de pruebas\n",
    "count_test = count_vectorizer.transform(x_test.values.astype('U'))"
   ]
  },
  {
   "cell_type": "code",
   "execution_count": 7,
   "metadata": {},
   "outputs": [
    {
     "name": "stdout",
     "output_type": "stream",
     "text": [
      "['aa', 'aadavantage', 'aadfw', 'aadv', 'aadvantage', 'aal', 'aand', 'aano', 'aas', 'aaso', 'aaus', 'ab', 'aback', 'abandon', 'abandonment', 'abassinet', 'abbreve', 'abc', 'abcdef', 'abcs', 'abduct', 'abilities', 'ability', 'able', 'aboard', 'aboout', 'abound', 'abq', 'abroad', 'absolute']\n"
     ]
    }
   ],
   "source": [
    "print(count_vectorizer.get_feature_names()[:30])"
   ]
  },
  {
   "cell_type": "markdown",
   "metadata": {},
   "source": [
    "# Construyendo un TfidfVectorizer"
   ]
  },
  {
   "cell_type": "code",
   "execution_count": 8,
   "metadata": {},
   "outputs": [],
   "source": [
    "# Importar TfidfVectorizer\n",
    "from sklearn.feature_extraction.text import TfidfVectorizer"
   ]
  },
  {
   "cell_type": "code",
   "execution_count": 9,
   "metadata": {},
   "outputs": [],
   "source": [
    "# Inicializar al objeto TfidfVectorizer: tfidf_vectorizer\n",
    "tfidf_vectorizer = TfidfVectorizer(stop_words = \"english\", max_df=0.7)"
   ]
  },
  {
   "cell_type": "code",
   "execution_count": 10,
   "metadata": {},
   "outputs": [],
   "source": [
    "# Transformar los datos de entrenamiento: tfidf_train \n",
    "tfidf_train = tfidf_vectorizer.fit_transform(x_train.values.astype('U'))\n",
    "\n",
    "# Transformar los datos de prueba: tfidf_test \n",
    "tfidf_test = tfidf_vectorizer.transform(x_test.values.astype('U'))"
   ]
  },
  {
   "cell_type": "code",
   "execution_count": 11,
   "metadata": {},
   "outputs": [
    {
     "name": "stdout",
     "output_type": "stream",
     "text": [
      "['aa', 'aadavantage', 'aadfw', 'aadv', 'aadvantage', 'aal', 'aand', 'aano', 'aas', 'aaso']\n"
     ]
    }
   ],
   "source": [
    "# Imprimir las primeros 10 características\n",
    "print(tfidf_vectorizer.get_feature_names()[:10])"
   ]
  },
  {
   "cell_type": "code",
   "execution_count": 12,
   "metadata": {},
   "outputs": [
    {
     "name": "stdout",
     "output_type": "stream",
     "text": [
      "[[0.         0.         0.         ... 0.         0.         0.        ]\n",
      " [0.         0.         0.         ... 0.         0.         0.        ]\n",
      " [0.         0.         0.         ... 0.         0.         0.        ]\n",
      " [0.         0.         0.         ... 0.         0.         0.        ]\n",
      " [0.23671055 0.         0.         ... 0.         0.         0.        ]]\n"
     ]
    }
   ],
   "source": [
    "# Imprimir los primeros 5 vectores de tfidf_train\n",
    "print(tfidf_train.A[:5])"
   ]
  },
  {
   "cell_type": "markdown",
   "metadata": {},
   "source": [
    "# Inspeccionando los vectores (Bag of Words, Tfidf)"
   ]
  },
  {
   "cell_type": "code",
   "execution_count": 13,
   "metadata": {},
   "outputs": [],
   "source": [
    "# Create the CountVectorizer DataFrame: count_df\n",
    "count_df = pd.DataFrame(count_train.A, columns=count_vectorizer.get_feature_names())"
   ]
  },
  {
   "cell_type": "code",
   "execution_count": 14,
   "metadata": {},
   "outputs": [],
   "source": [
    "# Create the TfidfVectorizer DataFrame: tfidf_df\n",
    "tfidf_df = pd.DataFrame(tfidf_train.A, columns=tfidf_vectorizer.get_feature_names())"
   ]
  },
  {
   "cell_type": "code",
   "execution_count": 15,
   "metadata": {},
   "outputs": [
    {
     "name": "stdout",
     "output_type": "stream",
     "text": [
      "   aa  aadavantage  aadfw  aadv  aadvantage  aal  aand  aano  aas  aaso  ...  \\\n",
      "0  0   0            0      0     0           0    0     0     0    0     ...   \n",
      "1  0   0            0      0     0           0    0     0     0    0     ...   \n",
      "2  0   0            0      0     0           0    0     0     0    0     ...   \n",
      "3  0   0            0      0     0           0    0     0     0    0     ...   \n",
      "4  1   0            0      0     0           0    0     0     0    0     ...   \n",
      "\n",
      "   yyzua  zabsonre  zambia  zero  zip  zipper  zone  zoom  zurich  zurichnew  \n",
      "0  0      0         0       0     0    0       0     0     0       0          \n",
      "1  0      0         0       0     0    0       0     0     0       0          \n",
      "2  0      0         0       0     0    0       0     0     0       0          \n",
      "3  0      0         0       0     0    0       0     0     0       0          \n",
      "4  0      0         0       0     0    0       0     0     0       0          \n",
      "\n",
      "[5 rows x 7513 columns]\n"
     ]
    }
   ],
   "source": [
    "# Print the head of count_df\n",
    "print(count_df.head())"
   ]
  },
  {
   "cell_type": "code",
   "execution_count": 16,
   "metadata": {},
   "outputs": [
    {
     "name": "stdout",
     "output_type": "stream",
     "text": [
      "         aa  aadavantage  aadfw  aadv  aadvantage  aal  aand  aano  aas  aaso  \\\n",
      "0  0.000000  0.0          0.0    0.0   0.0         0.0  0.0   0.0   0.0  0.0    \n",
      "1  0.000000  0.0          0.0    0.0   0.0         0.0  0.0   0.0   0.0  0.0    \n",
      "2  0.000000  0.0          0.0    0.0   0.0         0.0  0.0   0.0   0.0  0.0    \n",
      "3  0.000000  0.0          0.0    0.0   0.0         0.0  0.0   0.0   0.0  0.0    \n",
      "4  0.236711  0.0          0.0    0.0   0.0         0.0  0.0   0.0   0.0  0.0    \n",
      "\n",
      "   ...  yyzua  zabsonre  zambia  zero  zip  zipper  zone  zoom  zurich  \\\n",
      "0  ...  0.0    0.0       0.0     0.0   0.0  0.0     0.0   0.0   0.0      \n",
      "1  ...  0.0    0.0       0.0     0.0   0.0  0.0     0.0   0.0   0.0      \n",
      "2  ...  0.0    0.0       0.0     0.0   0.0  0.0     0.0   0.0   0.0      \n",
      "3  ...  0.0    0.0       0.0     0.0   0.0  0.0     0.0   0.0   0.0      \n",
      "4  ...  0.0    0.0       0.0     0.0   0.0  0.0     0.0   0.0   0.0      \n",
      "\n",
      "   zurichnew  \n",
      "0  0.0        \n",
      "1  0.0        \n",
      "2  0.0        \n",
      "3  0.0        \n",
      "4  0.0        \n",
      "\n",
      "[5 rows x 7513 columns]\n"
     ]
    }
   ],
   "source": [
    "# Print the head of tfidf_df\n",
    "print(tfidf_df.head())"
   ]
  },
  {
   "cell_type": "code",
   "execution_count": 17,
   "metadata": {},
   "outputs": [
    {
     "name": "stdout",
     "output_type": "stream",
     "text": [
      "set()\n"
     ]
    }
   ],
   "source": [
    "# Calculate the difference in columns: difference\n",
    "difference = set(count_df.columns) - set(tfidf_df.columns)\n",
    "print(difference)"
   ]
  },
  {
   "cell_type": "code",
   "execution_count": 18,
   "metadata": {},
   "outputs": [
    {
     "name": "stdout",
     "output_type": "stream",
     "text": [
      "False\n"
     ]
    }
   ],
   "source": [
    "# Check whether the DataFrames are equal\n",
    "print(count_df.equals(tfidf_df))"
   ]
  },
  {
   "cell_type": "markdown",
   "metadata": {},
   "source": [
    "# Training and testing a classification model with Scikit-learn (Naive Bayes)"
   ]
  },
  {
   "cell_type": "markdown",
   "metadata": {},
   "source": [
    "## Bag of Words"
   ]
  },
  {
   "cell_type": "code",
   "execution_count": 59,
   "metadata": {},
   "outputs": [],
   "source": [
    "from sklearn.naive_bayes import MultinomialNB\n",
    "from sklearn import metrics\n",
    "from sklearn.metrics import classification_report \n",
    "nb_classifier = MultinomialNB()"
   ]
  },
  {
   "cell_type": "code",
   "execution_count": 60,
   "metadata": {},
   "outputs": [
    {
     "data": {
      "text/plain": [
       "MultinomialNB(alpha=1.0, class_prior=None, fit_prior=True)"
      ]
     },
     "execution_count": 60,
     "metadata": {},
     "output_type": "execute_result"
    }
   ],
   "source": [
    "nb_classifier.fit(count_train, y_train)"
   ]
  },
  {
   "cell_type": "code",
   "execution_count": 61,
   "metadata": {},
   "outputs": [],
   "source": [
    "pred =  nb_classifier.predict(count_test)"
   ]
  },
  {
   "cell_type": "code",
   "execution_count": 64,
   "metadata": {},
   "outputs": [
    {
     "name": "stdout",
     "output_type": "stream",
     "text": [
      "              precision    recall  f1-score   support\n",
      "\n",
      "          -1       0.76      0.94      0.84      3037\n",
      "           0       0.65      0.34      0.45      1031\n",
      "           1       0.76      0.54      0.63       764\n",
      "\n",
      "    accuracy                           0.75      4832\n",
      "   macro avg       0.72      0.61      0.64      4832\n",
      "weighted avg       0.74      0.75      0.72      4832\n",
      "\n"
     ]
    }
   ],
   "source": [
    "score = metrics.classification_report(y_test, pred)\n",
    "print(score)"
   ]
  },
  {
   "cell_type": "code",
   "execution_count": 63,
   "metadata": {},
   "outputs": [
    {
     "data": {
      "text/plain": [
       "array([[2863,  118,   56],\n",
       "       [ 610,  350,   71],\n",
       "       [ 281,   74,  409]], dtype=int64)"
      ]
     },
     "execution_count": 63,
     "metadata": {},
     "output_type": "execute_result"
    }
   ],
   "source": [
    "metrics.confusion_matrix(y_test, pred)"
   ]
  },
  {
   "cell_type": "markdown",
   "metadata": {},
   "source": [
    "## Tf-idf Vectorizer"
   ]
  },
  {
   "cell_type": "code",
   "execution_count": 65,
   "metadata": {},
   "outputs": [],
   "source": [
    "# Create a Multinomial Naive Bayes classifier: nb_classifier\n",
    "nb_classifier = MultinomialNB()"
   ]
  },
  {
   "cell_type": "code",
   "execution_count": 66,
   "metadata": {},
   "outputs": [
    {
     "data": {
      "text/plain": [
       "MultinomialNB(alpha=1.0, class_prior=None, fit_prior=True)"
      ]
     },
     "execution_count": 66,
     "metadata": {},
     "output_type": "execute_result"
    }
   ],
   "source": [
    "# Fit the classifier to the training data\n",
    "nb_classifier.fit(tfidf_train, y_train)"
   ]
  },
  {
   "cell_type": "code",
   "execution_count": 67,
   "metadata": {},
   "outputs": [],
   "source": [
    "# Create the predicted tags: pred\n",
    "pred = nb_classifier.predict(tfidf_test)"
   ]
  },
  {
   "cell_type": "code",
   "execution_count": 68,
   "metadata": {},
   "outputs": [
    {
     "name": "stdout",
     "output_type": "stream",
     "text": [
      "              precision    recall  f1-score   support\n",
      "\n",
      "          -1       0.68      0.99      0.81      3037\n",
      "           0       0.75      0.15      0.25      1031\n",
      "           1       0.85      0.22      0.35       764\n",
      "\n",
      "    accuracy                           0.69      4832\n",
      "   macro avg       0.76      0.46      0.47      4832\n",
      "weighted avg       0.72      0.69      0.62      4832\n",
      "\n"
     ]
    }
   ],
   "source": [
    "# Calculate the accuracy score: score\n",
    "score = metrics.classification_report(y_test, pred)\n",
    "print(score)"
   ]
  },
  {
   "cell_type": "code",
   "execution_count": 28,
   "metadata": {},
   "outputs": [
    {
     "name": "stdout",
     "output_type": "stream",
     "text": [
      "[[3010   21    6]\n",
      " [ 850  157   24]\n",
      " [ 561   32  171]]\n"
     ]
    }
   ],
   "source": [
    "# Calculate the confusion matrix: cm\n",
    "cm = metrics.confusion_matrix(y_test, pred)\n",
    "print(cm)"
   ]
  },
  {
   "cell_type": "markdown",
   "metadata": {},
   "source": [
    "# Improving the model with Tf-idf"
   ]
  },
  {
   "cell_type": "code",
   "execution_count": 29,
   "metadata": {},
   "outputs": [],
   "source": [
    "# Create the list of alphas: alphas\n",
    "alphas = np.arange(start = 0, stop = 1, step = 0.1)"
   ]
  },
  {
   "cell_type": "code",
   "execution_count": 30,
   "metadata": {},
   "outputs": [],
   "source": [
    "# Define train_and_predict()\n",
    "def train_and_predict(alpha):\n",
    "    # Instantiate the classifier: nb_classifier\n",
    "    nb_classifier = MultinomialNB(alpha=alpha)\n",
    "    # Fit to the training data\n",
    "    nb_classifier.fit(tfidf_train, y_train)\n",
    "    # Predict the labels: pred\n",
    "    pred = nb_classifier.predict(tfidf_test)\n",
    "    # Compute accuracy: score\n",
    "    score = metrics.accuracy_score(y_test, pred)\n",
    "    return score"
   ]
  },
  {
   "cell_type": "code",
   "execution_count": 31,
   "metadata": {},
   "outputs": [
    {
     "name": "stdout",
     "output_type": "stream",
     "text": [
      "Alpha:  0.0\n",
      "Score:  0.722682119205298\n",
      "\n",
      "Alpha:  0.1\n",
      "Score:  0.7363410596026491\n",
      "\n",
      "Alpha:  0.2\n",
      "Score:  0.7373758278145696\n",
      "\n",
      "Alpha:  0.30000000000000004\n",
      "Score:  0.7313741721854304\n",
      "\n",
      "Alpha:  0.4\n",
      "Score:  0.7259933774834437\n",
      "\n",
      "Alpha:  0.5\n",
      "Score:  0.7175082781456954\n",
      "\n",
      "Alpha:  0.6000000000000001\n",
      "Score:  0.7117135761589404\n",
      "\n",
      "Alpha:  0.7000000000000001\n",
      "Score:  0.7067466887417219\n",
      "\n",
      "Alpha:  0.8\n",
      "Score:  0.7009519867549668\n",
      "\n",
      "Alpha:  0.9\n",
      "Score:  0.6959850993377483\n",
      "\n"
     ]
    },
    {
     "name": "stderr",
     "output_type": "stream",
     "text": [
      "C:\\Users\\GIYELI\\Anaconda3\\lib\\site-packages\\sklearn\\naive_bayes.py:485: UserWarning: alpha too small will result in numeric errors, setting alpha = 1.0e-10\n",
      "  'setting alpha = %.1e' % _ALPHA_MIN)\n"
     ]
    }
   ],
   "source": [
    "# Iterate over the alphas and print the corresponding score\n",
    "for alpha in alphas:\n",
    "    print('Alpha: ', alpha)\n",
    "    print('Score: ', train_and_predict(alpha))\n",
    "    print()"
   ]
  },
  {
   "cell_type": "markdown",
   "metadata": {},
   "source": [
    "### Alpha = 0.1 dio los mejores resultados"
   ]
  },
  {
   "cell_type": "markdown",
   "metadata": {},
   "source": [
    "## Inspeccionando el Modelo"
   ]
  },
  {
   "cell_type": "code",
   "execution_count": 32,
   "metadata": {},
   "outputs": [],
   "source": [
    "# Get the class labels: class_labels\n",
    "class_labels = nb_classifier.classes_"
   ]
  },
  {
   "cell_type": "code",
   "execution_count": 33,
   "metadata": {},
   "outputs": [],
   "source": [
    "# Extract the features: feature_names\n",
    "feature_names = tfidf_vectorizer.get_feature_names()"
   ]
  },
  {
   "cell_type": "code",
   "execution_count": 34,
   "metadata": {},
   "outputs": [],
   "source": [
    "# Zip the feature names together with the coefficient array and sort by weights: feat_with_weights\n",
    "feat_with_weights = sorted(zip(nb_classifier.coef_[0], feature_names))"
   ]
  },
  {
   "cell_type": "code",
   "execution_count": 35,
   "metadata": {},
   "outputs": [
    {
     "name": "stdout",
     "output_type": "stream",
     "text": [
      "-1 [(-10.064819950644623, 'aadavantage'), (-10.064819950644623, 'aadfw'), (-10.064819950644623, 'ab'), (-10.064819950644623, 'abassinet'), (-10.064819950644623, 'abbreve'), (-10.064819950644623, 'abcdef'), (-10.064819950644623, 'abduct'), (-10.064819950644623, 'absoulutely'), (-10.064819950644623, 'absurdly'), (-10.064819950644623, 'abundance'), (-10.064819950644623, 'acces'), (-10.064819950644623, 'accidentally'), (-10.064819950644623, 'accidents'), (-10.064819950644623, 'accomidating'), (-10.064819950644623, 'accompaniments'), (-10.064819950644623, 'accumulation'), (-10.064819950644623, 'activitiesprevention'), (-10.064819950644623, 'acu'), (-10.064819950644623, 'adapt'), (-10.064819950644623, 'addl')]\n"
     ]
    }
   ],
   "source": [
    "# Print the first class label and the top 20 feat_with_weights entries\n",
    "print(class_labels[0], feat_with_weights[:20])"
   ]
  },
  {
   "cell_type": "code",
   "execution_count": 36,
   "metadata": {},
   "outputs": [
    {
     "name": "stdout",
     "output_type": "stream",
     "text": [
      "0 [(-5.765113491542951, 'say'), (-5.749199228280537, 'phone'), (-5.737797879633019, 'fly'), (-5.729278730640907, 'tell'), (-5.683779453627749, 'need'), (-5.671328525962622, 'plane'), (-5.642023802634073, 'flightled'), (-5.6153583852471405, 'try'), (-5.604893663075322, 'hour'), (-5.478420967711116, 'customer'), (-5.413142502327905, 'bag'), (-5.380728056063614, 'help'), (-5.338866722610818, 'time'), (-5.334363123287932, 'wait'), (-5.325225609498344, 'hours'), (-5.290463318429618, 'service'), (-5.25088721504438, 'hold'), (-5.149358785851589, 'delay'), (-5.130583024648313, 'cancel'), (-4.2269884343363815, 'flight')]\n"
     ]
    }
   ],
   "source": [
    "# Print the second class label and the bottom 20 feat_with_weights entries\n",
    "print(class_labels[1], feat_with_weights[-20:])"
   ]
  },
  {
   "cell_type": "code",
   "execution_count": 37,
   "metadata": {},
   "outputs": [
    {
     "name": "stdout",
     "output_type": "stream",
     "text": [
      "1 [(-10.064819950644623, 'adjust'), (-10.064819950644623, 'admiral'), (-10.064819950644623, 'adolfo'), (-10.064819950644623, 'adore'), (-10.064819950644623, 'adult'), (-10.064819950644623, 'adventure'), (-10.064819950644623, 'advisories'), (-10.064819950644623, 'aeroport'), (-10.064819950644623, 'affordable'), (-10.064819950644623, 'afiliates'), (-10.064819950644623, 'african'), (-10.064819950644623, 'afterall'), (-10.064819950644623, 'agentsno'), (-10.064819950644623, 'agentwhats'), (-10.064819950644623, 'agt'), (-10.064819950644623, 'aha'), (-10.064819950644623, 'ahah'), (-10.064819950644623, 'aiecraft'), (-10.064819950644623, 'ail'), (-10.064819950644623, 'airfares')]\n"
     ]
    }
   ],
   "source": [
    "# Print the second class label and the middle 20 feat_with_weights entries\n",
    "print(class_labels[2], feat_with_weights[20:40])"
   ]
  },
  {
   "cell_type": "markdown",
   "metadata": {},
   "source": [
    "# Tratando las Clases Desbalanceadas"
   ]
  },
  {
   "cell_type": "markdown",
   "metadata": {},
   "source": [
    "## Analisis de Sesgo"
   ]
  },
  {
   "cell_type": "markdown",
   "metadata": {},
   "source": [
    "Se analizaran la cantidad que se tiene de cada sentimiento en todo el dataset"
   ]
  },
  {
   "cell_type": "markdown",
   "metadata": {},
   "source": [
    "### El dataset tiene sesgo"
   ]
  },
  {
   "cell_type": "code",
   "execution_count": 38,
   "metadata": {},
   "outputs": [
    {
     "data": {
      "text/plain": [
       "-1    9178\n",
       " 0    3099\n",
       " 1    2363\n",
       "Name: sentiment, dtype: int64"
      ]
     },
     "execution_count": 38,
     "metadata": {},
     "output_type": "execute_result"
    }
   ],
   "source": [
    "y.value_counts()"
   ]
  },
  {
   "cell_type": "markdown",
   "metadata": {},
   "source": [
    "### Por lo tanto, el conjunto de entrenamiento tambien"
   ]
  },
  {
   "cell_type": "code",
   "execution_count": 39,
   "metadata": {},
   "outputs": [
    {
     "data": {
      "text/plain": [
       "-1    6141\n",
       " 0    2068\n",
       " 1    1599\n",
       "Name: sentiment, dtype: int64"
      ]
     },
     "execution_count": 39,
     "metadata": {},
     "output_type": "execute_result"
    }
   ],
   "source": [
    "y_train.value_counts()"
   ]
  },
  {
   "cell_type": "markdown",
   "metadata": {},
   "source": [
    "## Técnica de Over-sampling: SMOTE"
   ]
  },
  {
   "cell_type": "markdown",
   "metadata": {},
   "source": [
    "A diferencia de ROS, SMOTE no crea copias exactas de las observaciones, sino que crea nuevas muestras sintéticas que son bastante similares a las observaciones existentes en la clase minoritaria. Por lo tanto, SMOTE es un poco más sofisticado que simplemente copiar observaciones"
   ]
  },
  {
   "cell_type": "code",
   "execution_count": 131,
   "metadata": {},
   "outputs": [],
   "source": [
    "from imblearn.over_sampling import SMOTE\n",
    "\n",
    "# Define the resampling method\n",
    "method = SMOTE(kind='regular')"
   ]
  },
  {
   "cell_type": "code",
   "execution_count": 132,
   "metadata": {},
   "outputs": [],
   "source": [
    "# Create the resampled feature set\n",
    "X_resampled, y_resampled = method.fit_sample(count_df.to_numpy(), y_train.to_numpy())"
   ]
  },
  {
   "cell_type": "code",
   "execution_count": 133,
   "metadata": {},
   "outputs": [
    {
     "name": "stdout",
     "output_type": "stream",
     "text": [
      "-1    6141\n",
      " 1    6141\n",
      " 0    6141\n",
      "dtype: int64\n"
     ]
    }
   ],
   "source": [
    "print(pd.value_counts(pd.Series(y_resampled)))"
   ]
  },
  {
   "cell_type": "code",
   "execution_count": 134,
   "metadata": {},
   "outputs": [
    {
     "name": "stdout",
     "output_type": "stream",
     "text": [
      "              precision    recall  f1-score   support\n",
      "\n",
      "          -1       0.82      0.88      0.85      3037\n",
      "           0       0.59      0.49      0.54      1031\n",
      "           1       0.68      0.65      0.67       764\n",
      "\n",
      "    accuracy                           0.76      4832\n",
      "   macro avg       0.70      0.67      0.69      4832\n",
      "weighted avg       0.75      0.76      0.76      4832\n",
      "\n",
      "[[2684  233  120]\n",
      " [ 417  505  109]\n",
      " [ 154  113  497]]\n"
     ]
    }
   ],
   "source": [
    "# Instantiate the classifier: nb_classifier\n",
    "nb_classifier = MultinomialNB()\n",
    "\n",
    "# Fit to the training data\n",
    "nb_classifier.fit(X_resampled, y_resampled)\n",
    "\n",
    "# Predict the labels: pred\n",
    "pred = nb_classifier.predict(count_test)\n",
    "\n",
    "# Compute accuracy: score\n",
    "from sklearn.metrics import classification_report \n",
    "score = classification_report(y_test, pred)\n",
    "print(score)\n",
    "print(metrics.confusion_matrix(y_test, pred))"
   ]
  },
  {
   "cell_type": "markdown",
   "metadata": {},
   "source": [
    "## Técnica de Under-sampling: NearMiss "
   ]
  },
  {
   "cell_type": "code",
   "execution_count": 135,
   "metadata": {},
   "outputs": [],
   "source": [
    "from imblearn.under_sampling import NearMiss \n",
    "nr = NearMiss() "
   ]
  },
  {
   "cell_type": "code",
   "execution_count": 136,
   "metadata": {},
   "outputs": [],
   "source": [
    "X_train_miss, y_train_miss = nr.fit_sample(count_df.to_numpy(), y_train.to_numpy()) "
   ]
  },
  {
   "cell_type": "code",
   "execution_count": 137,
   "metadata": {},
   "outputs": [
    {
     "name": "stdout",
     "output_type": "stream",
     "text": [
      "-1    1599\n",
      " 1    1599\n",
      " 0    1599\n",
      "dtype: int64\n"
     ]
    }
   ],
   "source": [
    "print(pd.value_counts(pd.Series(y_train_miss)))"
   ]
  },
  {
   "cell_type": "code",
   "execution_count": 138,
   "metadata": {},
   "outputs": [
    {
     "name": "stdout",
     "output_type": "stream",
     "text": [
      "              precision    recall  f1-score   support\n",
      "\n",
      "          -1       0.89      0.66      0.76      3037\n",
      "           0       0.47      0.57      0.51      1031\n",
      "           1       0.47      0.80      0.59       764\n",
      "\n",
      "    accuracy                           0.67      4832\n",
      "   macro avg       0.61      0.68      0.62      4832\n",
      "weighted avg       0.73      0.67      0.68      4832\n",
      "\n",
      "[[2015  579  443]\n",
      " [ 199  591  241]\n",
      " [  56   98  610]]\n"
     ]
    }
   ],
   "source": [
    "# Instantiate the classifier: nb_clasifier\n",
    "nb_classifier = MultinomialNB()\n",
    "\n",
    "# Fit to the training data\n",
    "nb_classifier.fit(X_train_miss, y_train_miss)\n",
    "\n",
    "# Predict the labels: pred\n",
    "pred = nb_classifier.predict(count_test)\n",
    "\n",
    "# Compute accuracy: score\n",
    "from sklearn.metrics import classification_report \n",
    "score = classification_report(y_test, pred)\n",
    "print(score)\n",
    "print(metrics.confusion_matrix(y_test, pred))"
   ]
  },
  {
   "cell_type": "markdown",
   "metadata": {},
   "source": [
    "## En conclusión, la técnica SMOTE fue mejor en general"
   ]
  },
  {
   "cell_type": "markdown",
   "metadata": {},
   "source": [
    "# Otras Métricas"
   ]
  },
  {
   "cell_type": "markdown",
   "metadata": {},
   "source": [
    "## ROC Curve para Multiclases"
   ]
  },
  {
   "cell_type": "markdown",
   "metadata": {},
   "source": [
    "Para calcular la curva ROC en multiclases, necesitas dos cosas:\n",
    "- Realizar una prediccion que devuelva probabilidades\n",
    "- Binarizar las clases con el esquema \"Uno vs todos\""
   ]
  },
  {
   "cell_type": "code",
   "execution_count": 121,
   "metadata": {},
   "outputs": [],
   "source": [
    "import numpy as np\n",
    "import matplotlib.pyplot as plt\n",
    "from itertools import cycle\n",
    "\n",
    "from sklearn import svm, datasets\n",
    "from sklearn.metrics import roc_curve, auc\n",
    "from sklearn.model_selection import train_test_split\n",
    "from sklearn.preprocessing import label_binarize\n",
    "from sklearn.multiclass import OneVsRestClassifier\n",
    "from scipy import interp"
   ]
  },
  {
   "cell_type": "code",
   "execution_count": 122,
   "metadata": {},
   "outputs": [],
   "source": [
    "# Binarizando las clases\n",
    "y = label_binarize(y_test, classes=[-1, 0, 1])\n",
    "n_classes = y.shape[1]"
   ]
  },
  {
   "cell_type": "code",
   "execution_count": 123,
   "metadata": {},
   "outputs": [],
   "source": [
    "# Learn to predict each class against the other\n",
    "classifier = OneVsRestClassifier(MultinomialNB())\n",
    "# Instantiate the classifier: nb_clasifier\n",
    "y_score = classifier.fit(X_resampled, y_resampled).predict_proba(count_test)\n",
    "#y_pred_prob = nb_classifier.predict_proba(count_test)"
   ]
  },
  {
   "cell_type": "code",
   "execution_count": 124,
   "metadata": {},
   "outputs": [],
   "source": [
    "# Compute ROC curve and ROC area for each class\n",
    "fpr = dict()\n",
    "tpr = dict()\n",
    "roc_auc = dict()\n",
    "for i in range(n_classes):\n",
    "    fpr[i], tpr[i], _ = roc_curve(y[:,i], y_score[:, i])\n",
    "    roc_auc[i] = auc(fpr[i], tpr[i])"
   ]
  },
  {
   "cell_type": "code",
   "execution_count": 125,
   "metadata": {},
   "outputs": [],
   "source": [
    "# Compute micro-average ROC curve and ROC area\n",
    "fpr[\"micro\"], tpr[\"micro\"], _ = roc_curve(y.ravel(), y_score.ravel())\n",
    "roc_auc[\"micro\"] = auc(fpr[\"micro\"], tpr[\"micro\"])"
   ]
  },
  {
   "cell_type": "code",
   "execution_count": 127,
   "metadata": {},
   "outputs": [
    {
     "data": {
      "image/png": "[encoded data removed]",
      "text/plain": [
       "<Figure size 432x288 with 1 Axes>"
      ]
     },
     "metadata": {
      "needs_background": "light"
     },
     "output_type": "display_data"
    }
   ],
   "source": [
    "plt.figure()\n",
    "lw = 2\n",
    "plt.plot(fpr[2], tpr[2], color='darkorange',\n",
    "         lw=lw, label='ROC curve (area = %0.2f)' % roc_auc[2])\n",
    "plt.plot([0, 1], [0, 1], color='navy', lw=lw, linestyle='--')\n",
    "plt.xlim([0.0, 1.0])\n",
    "plt.ylim([0.0, 1.05])\n",
    "plt.xlabel('False Positive Rate')\n",
    "plt.ylabel('True Positive Rate')\n",
    "plt.title('Receiver operating characteristic example')\n",
    "plt.legend(loc=\"lower right\")\n",
    "plt.show()"
   ]
  },
  {
   "cell_type": "code",
   "execution_count": 130,
   "metadata": {},
   "outputs": [
    {
     "data": {
      "image/png": "[encoded data removed]",
      "text/plain": [
       "<Figure size 432x288 with 1 Axes>"
      ]
     },
     "metadata": {
      "needs_background": "light"
     },
     "output_type": "display_data"
    }
   ],
   "source": [
    "# Compute macro-average ROC curve and ROC area\n",
    "\n",
    "# First aggregate all false positive rates\n",
    "all_fpr = np.unique(np.concatenate([fpr[i] for i in range(n_classes)]))\n",
    "\n",
    "# Then interpolate all ROC curves at this points\n",
    "mean_tpr = np.zeros_like(all_fpr)\n",
    "for i in range(n_classes):\n",
    "    mean_tpr += interp(all_fpr, fpr[i], tpr[i])\n",
    "\n",
    "# Finally average it and compute AUC\n",
    "mean_tpr /= n_classes\n",
    "\n",
    "fpr[\"macro\"] = all_fpr\n",
    "tpr[\"macro\"] = mean_tpr\n",
    "roc_auc[\"macro\"] = auc(fpr[\"macro\"], tpr[\"macro\"])\n",
    "\n",
    "# Plot all ROC curves\n",
    "plt.figure()\n",
    "plt.plot(fpr[\"micro\"], tpr[\"micro\"],\n",
    "         label='micro-average ROC curve (area = {0:0.2f})'\n",
    "               ''.format(roc_auc[\"micro\"]),\n",
    "         color='deeppink', linestyle=':', linewidth=4)\n",
    "\n",
    "plt.plot(fpr[\"macro\"], tpr[\"macro\"],\n",
    "         label='macro-average ROC curve (area = {0:0.2f})'\n",
    "               ''.format(roc_auc[\"macro\"]),\n",
    "         color='navy', linestyle=':', linewidth=4)\n",
    "\n",
    "colors = cycle(['aqua', 'darkorange', 'cornflowerblue'])\n",
    "for i, color in zip(range(n_classes), colors):\n",
    "    plt.plot(fpr[i], tpr[i], color=color, lw=lw,\n",
    "             label='ROC curve of class {0} (area = {1:0.2f})'\n",
    "             ''.format(i-1, roc_auc[i]))\n",
    "\n",
    "plt.plot([0, 1], [0, 1], 'k--', lw=lw)\n",
    "plt.xlim([0.0, 1.0])\n",
    "plt.ylim([0.0, 1.05])\n",
    "plt.xlabel('False Positive Rate')\n",
    "plt.ylabel('True Positive Rate')\n",
    "plt.title('Some extension of Receiver operating characteristic to multi-class')\n",
    "plt.legend(loc=\"lower right\")\n",
    "plt.show()"
   ]
  },
  {
   "cell_type": "markdown",
   "metadata": {},
   "source": [
    "## F1 Score"
   ]
  },
  {
   "cell_type": "code",
   "execution_count": null,
   "metadata": {},
   "outputs": [],
   "source": [
    "from sklearn.metrics import f1_score\n",
    "# Print the F1 score\n",
    "#print(f1_score(count_test, y_pred))"
   ]
  }
 ],
 "metadata": {
  "kernelspec": {
   "display_name": "Python 3",
   "language": "python",
   "name": "python3"
  },
  "language_info": {
   "codemirror_mode": {
    "name": "ipython",
    "version": 3
   },
   "file_extension": ".py",
   "mimetype": "text/x-python",
   "name": "python",
   "nbconvert_exporter": "python",
   "pygments_lexer": "ipython3",
   "version": "3.7.3"
  }
 },
 "nbformat": 4,
 "nbformat_minor": 2
}
