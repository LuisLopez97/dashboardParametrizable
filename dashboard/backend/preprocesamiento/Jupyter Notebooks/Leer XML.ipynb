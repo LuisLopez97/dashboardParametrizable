{
 "cells": [
  {
   "cell_type": "markdown",
   "metadata": {},
   "source": [
    "# Leer XML (manual)"
   ]
  },
  {
   "cell_type": "code",
   "execution_count": 2,
   "metadata": {},
   "outputs": [],
   "source": [
    "import pandas as pd\n",
    "import xml.etree.ElementTree as et \n",
    "\n",
    "xtree = et.parse(\"tweets_es_interTASS.xml\")\n",
    "xroot = xtree.getroot()\n",
    "\n",
    "df_cols = [\"tweetid\", \"user\", \"content\", \"date\", \"lang\", \"sentiment\"]\n",
    "rows = []\n",
    "pd.set_option('display.max_colwidth', -1)"
   ]
  },
  {
   "cell_type": "code",
   "execution_count": 44,
   "metadata": {},
   "outputs": [],
   "source": [
    "for node in xroot: \n",
    "    t_id = node.find(\"tweetid\").text\n",
    "    t_user = node.find(\"user\").text\n",
    "    t_content = node.find(\"content\").text\n",
    "    t_date = node.find(\"date\").text\n",
    "    t_lang = node.find(\"lang\").text\n",
    "    t_sentiment = node.find(\"./sentiment/polarity/value\").text\n",
    "    \n",
    "    rows.append({\"tweetid\": t_id, \"user\":t_user, \"content\": t_content, \"date\": t_date, \"lang\": t_lang, \"sentiment\": t_sentiment})\n",
    "    out_df = pd.DataFrame(rows, columns=df_cols)"
   ]
  },
  {
   "cell_type": "code",
   "execution_count": 48,
   "metadata": {},
   "outputs": [],
   "source": [
    "out_df.to_csv(\"tweets_TAAS.csv\", index = None, header=True)"
   ]
  },
  {
   "cell_type": "markdown",
   "metadata": {},
   "source": [
    "# Funcion general"
   ]
  },
  {
   "cell_type": "code",
   "execution_count": 20,
   "metadata": {},
   "outputs": [],
   "source": [
    "import pandas as pd\n",
    "import xml.etree.ElementTree as et\n",
    "\n",
    "def parse_XML(xml_file, df_cols): \n",
    "    \"\"\"Parse the input XML file and store the result in a pandas \n",
    "    DataFrame with the given columns. \n",
    "    \n",
    "    The first element of df_cols is supposed to be the identifier \n",
    "    variable, which is an attribute of each node element in the \n",
    "    XML data; other features will be parsed from the text content \n",
    "    of each sub-element. \n",
    "    \"\"\"\n",
    "    \n",
    "    xtree = et.parse(xml_file)\n",
    "    xroot = xtree.getroot()\n",
    "    rows = []\n",
    "    \n",
    "    for node in xroot: \n",
    "        res = []\n",
    "        for el in df_cols: \n",
    "            if node is not None and node.find(el) is not None:\n",
    "                if el == df_cols[-1]:\n",
    "                    res.append(node.find(\"./sentiments/polarity/value\").text)\n",
    "                else:\n",
    "                    res.append(node.find(el).text)\n",
    "            else: \n",
    "                res.append(None)\n",
    "        rows.append({df_cols[i]: res[i] \n",
    "                     for i, _ in enumerate(df_cols)})\n",
    "    \n",
    "    out_df = pd.DataFrame(rows, columns=df_cols)\n",
    "        \n",
    "    return out_df"
   ]
  },
  {
   "cell_type": "code",
   "execution_count": 21,
   "metadata": {},
   "outputs": [],
   "source": [
    "df_cols = [\"tweetid\", \"user\", \"content\", \"date\", \"lang\", \"sentiments\"]\n",
    "out_df = parse_XML(\"general-test-tagged-3l.xml\", df_cols)"
   ]
  },
  {
   "cell_type": "code",
   "execution_count": 22,
   "metadata": {},
   "outputs": [],
   "source": [
    "out_df.rename(columns = {\"sentiments\": \"sentiment\"}, inplace =True)\n",
    "#out_df.columns"
   ]
  },
  {
   "cell_type": "code",
   "execution_count": 23,
   "metadata": {},
   "outputs": [
    {
     "data": {
      "text/html": [
       "<div>\n",
       "<style scoped>\n",
       "    .dataframe tbody tr th:only-of-type {\n",
       "        vertical-align: middle;\n",
       "    }\n",
       "\n",
       "    .dataframe tbody tr th {\n",
       "        vertical-align: top;\n",
       "    }\n",
       "\n",
       "    .dataframe thead th {\n",
       "        text-align: right;\n",
       "    }\n",
       "</style>\n",
       "<table border=\"1\" class=\"dataframe\">\n",
       "  <thead>\n",
       "    <tr style=\"text-align: right;\">\n",
       "      <th></th>\n",
       "      <th>tweetid</th>\n",
       "      <th>user</th>\n",
       "      <th>content</th>\n",
       "      <th>date</th>\n",
       "      <th>lang</th>\n",
       "      <th>sentiment</th>\n",
       "    </tr>\n",
       "  </thead>\n",
       "  <tbody>\n",
       "    <tr>\n",
       "      <th>0</th>\n",
       "      <td>142378325086715906</td>\n",
       "      <td>jesusmarana</td>\n",
       "      <td>Portada 'Público', viernes. Fabra al banquillo...</td>\n",
       "      <td>2011-12-02T00:03:32</td>\n",
       "      <td>es</td>\n",
       "      <td>N</td>\n",
       "    </tr>\n",
       "    <tr>\n",
       "      <th>1</th>\n",
       "      <td>142379080808013825</td>\n",
       "      <td>EvaORegan</td>\n",
       "      <td>Grande! RT @veronicacalderon \"El periodista es...</td>\n",
       "      <td>2011-12-02T00:06:32</td>\n",
       "      <td>es</td>\n",
       "      <td>NONE</td>\n",
       "    </tr>\n",
       "    <tr>\n",
       "      <th>2</th>\n",
       "      <td>142379173120442368</td>\n",
       "      <td>LosadaPescador</td>\n",
       "      <td>Gonzalo Altozano tras la presentación de su li...</td>\n",
       "      <td>2011-12-02T00:06:55</td>\n",
       "      <td>es</td>\n",
       "      <td>P</td>\n",
       "    </tr>\n",
       "    <tr>\n",
       "      <th>3</th>\n",
       "      <td>142379815708803072</td>\n",
       "      <td>mgilguerrero</td>\n",
       "      <td>Mañana en Gaceta: TVE, la que pagamos tú y yo,...</td>\n",
       "      <td>2011-12-02T00:09:28</td>\n",
       "      <td>es</td>\n",
       "      <td>N</td>\n",
       "    </tr>\n",
       "    <tr>\n",
       "      <th>4</th>\n",
       "      <td>142381190123499520</td>\n",
       "      <td>pedroj_ramirez</td>\n",
       "      <td>Qué envidia “@mfcastineiras: Pedro mañana x la...</td>\n",
       "      <td>2011-12-02T00:14:55</td>\n",
       "      <td>es</td>\n",
       "      <td>NONE</td>\n",
       "    </tr>\n",
       "    <tr>\n",
       "      <th>5</th>\n",
       "      <td>142382515380961280</td>\n",
       "      <td>mgilguerrero</td>\n",
       "      <td>Más mañana en Gaceta. Amaiur depende de Uxue B...</td>\n",
       "      <td>2011-12-02T00:20:11</td>\n",
       "      <td>es</td>\n",
       "      <td>N</td>\n",
       "    </tr>\n",
       "    <tr>\n",
       "      <th>6</th>\n",
       "      <td>142382561501511680</td>\n",
       "      <td>SSantiagosegura</td>\n",
       "      <td>Muy buenas noches followercetes, mañana va a s...</td>\n",
       "      <td>2011-12-02T00:20:23</td>\n",
       "      <td>es</td>\n",
       "      <td>P</td>\n",
       "    </tr>\n",
       "    <tr>\n",
       "      <th>7</th>\n",
       "      <td>142382722910912512</td>\n",
       "      <td>mgilguerrero</td>\n",
       "      <td>Más de mañana en Gaceta. UPyD contará casi seg...</td>\n",
       "      <td>2011-12-02T00:21:01</td>\n",
       "      <td>es</td>\n",
       "      <td>P</td>\n",
       "    </tr>\n",
       "    <tr>\n",
       "      <th>8</th>\n",
       "      <td>142384554206961664</td>\n",
       "      <td>mariviromero</td>\n",
       "      <td>La felicidad no esta en los grandes anhelos , ...</td>\n",
       "      <td>2011-12-02T00:28:17</td>\n",
       "      <td>es</td>\n",
       "      <td>P</td>\n",
       "    </tr>\n",
       "    <tr>\n",
       "      <th>9</th>\n",
       "      <td>142386873539637248</td>\n",
       "      <td>mgilguerrero</td>\n",
       "      <td>\"Ya lo veremos, ya lo veremos...\" les ha respo...</td>\n",
       "      <td>2011-12-02T00:37:30</td>\n",
       "      <td>es</td>\n",
       "      <td>N</td>\n",
       "    </tr>\n",
       "  </tbody>\n",
       "</table>\n",
       "</div>"
      ],
      "text/plain": [
       "              tweetid             user  \\\n",
       "0  142378325086715906      jesusmarana   \n",
       "1  142379080808013825        EvaORegan   \n",
       "2  142379173120442368   LosadaPescador   \n",
       "3  142379815708803072     mgilguerrero   \n",
       "4  142381190123499520   pedroj_ramirez   \n",
       "5  142382515380961280     mgilguerrero   \n",
       "6  142382561501511680  SSantiagosegura   \n",
       "7  142382722910912512     mgilguerrero   \n",
       "8  142384554206961664     mariviromero   \n",
       "9  142386873539637248     mgilguerrero   \n",
       "\n",
       "                                             content                 date  \\\n",
       "0  Portada 'Público', viernes. Fabra al banquillo...  2011-12-02T00:03:32   \n",
       "1  Grande! RT @veronicacalderon \"El periodista es...  2011-12-02T00:06:32   \n",
       "2  Gonzalo Altozano tras la presentación de su li...  2011-12-02T00:06:55   \n",
       "3  Mañana en Gaceta: TVE, la que pagamos tú y yo,...  2011-12-02T00:09:28   \n",
       "4  Qué envidia “@mfcastineiras: Pedro mañana x la...  2011-12-02T00:14:55   \n",
       "5  Más mañana en Gaceta. Amaiur depende de Uxue B...  2011-12-02T00:20:11   \n",
       "6  Muy buenas noches followercetes, mañana va a s...  2011-12-02T00:20:23   \n",
       "7  Más de mañana en Gaceta. UPyD contará casi seg...  2011-12-02T00:21:01   \n",
       "8  La felicidad no esta en los grandes anhelos , ...  2011-12-02T00:28:17   \n",
       "9  \"Ya lo veremos, ya lo veremos...\" les ha respo...  2011-12-02T00:37:30   \n",
       "\n",
       "  lang sentiment  \n",
       "0   es         N  \n",
       "1   es      NONE  \n",
       "2   es         P  \n",
       "3   es         N  \n",
       "4   es      NONE  \n",
       "5   es         N  \n",
       "6   es         P  \n",
       "7   es         P  \n",
       "8   es         P  \n",
       "9   es         N  "
      ]
     },
     "execution_count": 23,
     "metadata": {},
     "output_type": "execute_result"
    }
   ],
   "source": [
    "out_df.to_csv(\"tweets_TASS_General_Development.csv\", index = None, header=True)\n",
    "df = pd.read_csv(\"tweets_TASS_General_Development.csv\")\n",
    "df.head(10)"
   ]
  },
  {
   "cell_type": "code",
   "execution_count": 9,
   "metadata": {},
   "outputs": [
    {
     "name": "stdout",
     "output_type": "stream",
     "text": [
      "(60798, 6)\n"
     ]
    }
   ],
   "source": [
    "print(df.shape)"
   ]
  },
  {
   "cell_type": "markdown",
   "metadata": {},
   "source": [
    "# Juntar los conjuntos de entrenamiento y pruebas "
   ]
  },
  {
   "cell_type": "markdown",
   "metadata": {},
   "source": [
    "## Juntar los train set"
   ]
  },
  {
   "cell_type": "code",
   "execution_count": 1,
   "metadata": {},
   "outputs": [],
   "source": [
    "import pandas as pd"
   ]
  },
  {
   "cell_type": "code",
   "execution_count": 2,
   "metadata": {},
   "outputs": [],
   "source": [
    "tweets_general_df = pd.read_csv(\"tweets_TASS_General.csv\")"
   ]
  },
  {
   "cell_type": "code",
   "execution_count": 3,
   "metadata": {},
   "outputs": [],
   "source": [
    "tweets_intertass_es_df = pd.read_csv(\"tweets_interTAAS_Train_ES.csv\")"
   ]
  },
  {
   "cell_type": "code",
   "execution_count": 4,
   "metadata": {},
   "outputs": [],
   "source": [
    "tweets_intertass_cr_df = pd.read_csv(\"tweets_interTAAS_Train_CR.csv\")"
   ]
  },
  {
   "cell_type": "code",
   "execution_count": 5,
   "metadata": {},
   "outputs": [],
   "source": [
    "tweets_intertass_pe_df = pd.read_csv(\"tweets_interTAAS_Train_PE.csv\")"
   ]
  },
  {
   "cell_type": "code",
   "execution_count": 6,
   "metadata": {},
   "outputs": [
    {
     "name": "stdout",
     "output_type": "stream",
     "text": [
      "(7219, 6)\n",
      "(1008, 6)\n",
      "(800, 6)\n",
      "(1000, 6)\n"
     ]
    }
   ],
   "source": [
    "print(tweets_general_df.shape)\n",
    "print(tweets_intertass_es_df.shape)\n",
    "print(tweets_intertass_cr_df.shape)\n",
    "print(tweets_intertass_pe_df.shape)"
   ]
  },
  {
   "cell_type": "code",
   "execution_count": 7,
   "metadata": {},
   "outputs": [
    {
     "data": {
      "text/plain": [
       "(10027, 6)"
      ]
     },
     "execution_count": 7,
     "metadata": {},
     "output_type": "execute_result"
    }
   ],
   "source": [
    "tweets_es = tweets_general_df.append(tweets_intertass_es_df).append(tweets_intertass_cr_df).append(tweets_intertass_pe_df)\n",
    "tweets_es.shape"
   ]
  },
  {
   "cell_type": "code",
   "execution_count": 8,
   "metadata": {},
   "outputs": [],
   "source": [
    "tweets_es.to_csv(\"tweets_es.csv\", index = None, header=True)"
   ]
  },
  {
   "cell_type": "markdown",
   "metadata": {},
   "source": [
    "## Juntar los test set"
   ]
  },
  {
   "cell_type": "code",
   "execution_count": 24,
   "metadata": {},
   "outputs": [],
   "source": [
    "tweets_general_test_df = pd.read_csv(\"tweets_TASS_General_Development.csv\")"
   ]
  },
  {
   "cell_type": "code",
   "execution_count": 25,
   "metadata": {},
   "outputs": [],
   "source": [
    "tweets_intertass_es_test_df = pd.read_csv(\"tweets_interTASS_Development_ES.csv\")"
   ]
  },
  {
   "cell_type": "code",
   "execution_count": 26,
   "metadata": {},
   "outputs": [],
   "source": [
    "tweets_intertass_cr_test_df = pd.read_csv(\"tweets_interTASS_Development_CR.csv\")"
   ]
  },
  {
   "cell_type": "code",
   "execution_count": 27,
   "metadata": {},
   "outputs": [],
   "source": [
    "tweets_intertass_pe_test_df = pd.read_csv(\"tweets_interTASS_Development_PE.csv\")"
   ]
  },
  {
   "cell_type": "code",
   "execution_count": 28,
   "metadata": {},
   "outputs": [
    {
     "name": "stdout",
     "output_type": "stream",
     "text": [
      "(60798, 6)\n",
      "(506, 6)\n",
      "(300, 6)\n",
      "(500, 6)\n"
     ]
    }
   ],
   "source": [
    "print(tweets_general_test_df.shape)\n",
    "print(tweets_intertass_es_test_df.shape)\n",
    "print(tweets_intertass_cr_test_df.shape)\n",
    "print(tweets_intertass_pe_test_df.shape)"
   ]
  },
  {
   "cell_type": "code",
   "execution_count": 29,
   "metadata": {},
   "outputs": [
    {
     "data": {
      "text/plain": [
       "(62104, 6)"
      ]
     },
     "execution_count": 29,
     "metadata": {},
     "output_type": "execute_result"
    }
   ],
   "source": [
    "tweets_es_test = tweets_general_test_df.append(tweets_intertass_es_test_df).append(tweets_intertass_cr_test_df).append(tweets_intertass_pe_test_df)\n",
    "tweets_es_test.shape"
   ]
  },
  {
   "cell_type": "code",
   "execution_count": 30,
   "metadata": {},
   "outputs": [],
   "source": [
    "#tweets_es_test.rename(columns = {\"content\": \"data_lemmatized\"}, inplace =True)\n",
    "#tweets_es_test.columns"
   ]
  },
  {
   "cell_type": "code",
   "execution_count": 31,
   "metadata": {},
   "outputs": [],
   "source": [
    "tweets_es_test.to_csv(\"tweets_es_development.csv\", index = None, header=True)"
   ]
  },
  {
   "cell_type": "markdown",
   "metadata": {},
   "source": [
    "## Juntar los dataset de entrenamiento y pruebas en uno"
   ]
  },
  {
   "cell_type": "code",
   "execution_count": 32,
   "metadata": {},
   "outputs": [],
   "source": [
    "import pandas as pd\n",
    "tweets_train_es = pd.read_csv(\"tweets_es.csv\")\n",
    "tweets_test_es = pd.read_csv(\"tweets_es_development.csv\")"
   ]
  },
  {
   "cell_type": "code",
   "execution_count": 35,
   "metadata": {},
   "outputs": [
    {
     "data": {
      "text/html": [
       "<div>\n",
       "<style scoped>\n",
       "    .dataframe tbody tr th:only-of-type {\n",
       "        vertical-align: middle;\n",
       "    }\n",
       "\n",
       "    .dataframe tbody tr th {\n",
       "        vertical-align: top;\n",
       "    }\n",
       "\n",
       "    .dataframe thead th {\n",
       "        text-align: right;\n",
       "    }\n",
       "</style>\n",
       "<table border=\"1\" class=\"dataframe\">\n",
       "  <thead>\n",
       "    <tr style=\"text-align: right;\">\n",
       "      <th></th>\n",
       "      <th>tweetid</th>\n",
       "      <th>user</th>\n",
       "      <th>content</th>\n",
       "      <th>date</th>\n",
       "      <th>lang</th>\n",
       "      <th>sentiment</th>\n",
       "    </tr>\n",
       "  </thead>\n",
       "  <tbody>\n",
       "    <tr>\n",
       "      <th>10022</th>\n",
       "      <td>818145435516813312</td>\n",
       "      <td>227902682</td>\n",
       "      <td>@Madame36 Martita mi pueblo es impredecible, c...</td>\n",
       "      <td>Sun Jan 08 17:20:46 +0000 2017</td>\n",
       "      <td>es</td>\n",
       "      <td>NEU</td>\n",
       "    </tr>\n",
       "    <tr>\n",
       "      <th>10023</th>\n",
       "      <td>817810105383157760</td>\n",
       "      <td>125469906</td>\n",
       "      <td>@discolocontilde tanto así? en claro no hay co...</td>\n",
       "      <td>Sat Jan 07 19:08:17 +0000 2017</td>\n",
       "      <td>es</td>\n",
       "      <td>N</td>\n",
       "    </tr>\n",
       "    <tr>\n",
       "      <th>10024</th>\n",
       "      <td>818130147366813696</td>\n",
       "      <td>105705498</td>\n",
       "      <td>Terminarán odiándome, como casi todos los padr...</td>\n",
       "      <td>Sun Jan 08 16:20:01 +0000 2017</td>\n",
       "      <td>es</td>\n",
       "      <td>N</td>\n",
       "    </tr>\n",
       "    <tr>\n",
       "      <th>10025</th>\n",
       "      <td>816876533231079424</td>\n",
       "      <td>1005307664</td>\n",
       "      <td>Necesito urgente entrar a la gimnasia y al gim...</td>\n",
       "      <td>Thu Jan 05 05:18:37 +0000 2017</td>\n",
       "      <td>es</td>\n",
       "      <td>NONE</td>\n",
       "    </tr>\n",
       "    <tr>\n",
       "      <th>10026</th>\n",
       "      <td>816890935808323584</td>\n",
       "      <td>112088294</td>\n",
       "      <td>Lo que me recuerda que @edvergaray me criticar...</td>\n",
       "      <td>Thu Jan 05 06:15:50 +0000 2017</td>\n",
       "      <td>es</td>\n",
       "      <td>NONE</td>\n",
       "    </tr>\n",
       "  </tbody>\n",
       "</table>\n",
       "</div>"
      ],
      "text/plain": [
       "                  tweetid        user  \\\n",
       "10022  818145435516813312   227902682   \n",
       "10023  817810105383157760   125469906   \n",
       "10024  818130147366813696   105705498   \n",
       "10025  816876533231079424  1005307664   \n",
       "10026  816890935808323584   112088294   \n",
       "\n",
       "                                                 content  \\\n",
       "10022  @Madame36 Martita mi pueblo es impredecible, c...   \n",
       "10023  @discolocontilde tanto así? en claro no hay co...   \n",
       "10024  Terminarán odiándome, como casi todos los padr...   \n",
       "10025  Necesito urgente entrar a la gimnasia y al gim...   \n",
       "10026  Lo que me recuerda que @edvergaray me criticar...   \n",
       "\n",
       "                                 date lang sentiment  \n",
       "10022  Sun Jan 08 17:20:46 +0000 2017   es       NEU  \n",
       "10023  Sat Jan 07 19:08:17 +0000 2017   es         N  \n",
       "10024  Sun Jan 08 16:20:01 +0000 2017   es         N  \n",
       "10025  Thu Jan 05 05:18:37 +0000 2017   es      NONE  \n",
       "10026  Thu Jan 05 06:15:50 +0000 2017   es      NONE  "
      ]
     },
     "execution_count": 35,
     "metadata": {},
     "output_type": "execute_result"
    }
   ],
   "source": [
    "tweets_train_es.tail()"
   ]
  },
  {
   "cell_type": "code",
   "execution_count": 36,
   "metadata": {},
   "outputs": [
    {
     "data": {
      "text/html": [
       "<div>\n",
       "<style scoped>\n",
       "    .dataframe tbody tr th:only-of-type {\n",
       "        vertical-align: middle;\n",
       "    }\n",
       "\n",
       "    .dataframe tbody tr th {\n",
       "        vertical-align: top;\n",
       "    }\n",
       "\n",
       "    .dataframe thead th {\n",
       "        text-align: right;\n",
       "    }\n",
       "</style>\n",
       "<table border=\"1\" class=\"dataframe\">\n",
       "  <thead>\n",
       "    <tr style=\"text-align: right;\">\n",
       "      <th></th>\n",
       "      <th>tweetid</th>\n",
       "      <th>user</th>\n",
       "      <th>content</th>\n",
       "      <th>date</th>\n",
       "      <th>lang</th>\n",
       "      <th>sentiment</th>\n",
       "    </tr>\n",
       "  </thead>\n",
       "  <tbody>\n",
       "    <tr>\n",
       "      <th>62099</th>\n",
       "      <td>819397621106221057</td>\n",
       "      <td>346951471</td>\n",
       "      <td>@JohnsitoCb Ya sabía que un chivito se iría a ...</td>\n",
       "      <td>Thu Jan 12 04:16:31 +0000 2017</td>\n",
       "      <td>es</td>\n",
       "      <td>NONE</td>\n",
       "    </tr>\n",
       "    <tr>\n",
       "      <th>62100</th>\n",
       "      <td>819277149274275840</td>\n",
       "      <td>277318489</td>\n",
       "      <td>Hazme un favor y has lo posible por no cruzart...</td>\n",
       "      <td>Wed Jan 11 20:17:48 +0000 2017</td>\n",
       "      <td>es</td>\n",
       "      <td>NONE</td>\n",
       "    </tr>\n",
       "    <tr>\n",
       "      <th>62101</th>\n",
       "      <td>819276021988020230</td>\n",
       "      <td>324579655</td>\n",
       "      <td>Bueeeeno... no me siento bien. Gracias playlis...</td>\n",
       "      <td>Wed Jan 11 20:13:19 +0000 2017</td>\n",
       "      <td>es</td>\n",
       "      <td>N</td>\n",
       "    </tr>\n",
       "    <tr>\n",
       "      <th>62102</th>\n",
       "      <td>819423188580966400</td>\n",
       "      <td>3423300857</td>\n",
       "      <td>D.O eres genial ...Feliz cumpleaños y q sean m...</td>\n",
       "      <td>Thu Jan 12 05:58:06 +0000 2017</td>\n",
       "      <td>es</td>\n",
       "      <td>P</td>\n",
       "    </tr>\n",
       "    <tr>\n",
       "      <th>62103</th>\n",
       "      <td>819390994936369154</td>\n",
       "      <td>54821385</td>\n",
       "      <td>En mi cabeza, en mi cabeza vas dando vueltas! ...</td>\n",
       "      <td>Thu Jan 12 03:50:11 +0000 2017</td>\n",
       "      <td>es</td>\n",
       "      <td>P</td>\n",
       "    </tr>\n",
       "  </tbody>\n",
       "</table>\n",
       "</div>"
      ],
      "text/plain": [
       "                  tweetid        user  \\\n",
       "62099  819397621106221057   346951471   \n",
       "62100  819277149274275840   277318489   \n",
       "62101  819276021988020230   324579655   \n",
       "62102  819423188580966400  3423300857   \n",
       "62103  819390994936369154    54821385   \n",
       "\n",
       "                                                 content  \\\n",
       "62099  @JohnsitoCb Ya sabía que un chivito se iría a ...   \n",
       "62100  Hazme un favor y has lo posible por no cruzart...   \n",
       "62101  Bueeeeno... no me siento bien. Gracias playlis...   \n",
       "62102  D.O eres genial ...Feliz cumpleaños y q sean m...   \n",
       "62103  En mi cabeza, en mi cabeza vas dando vueltas! ...   \n",
       "\n",
       "                                 date lang sentiment  \n",
       "62099  Thu Jan 12 04:16:31 +0000 2017   es      NONE  \n",
       "62100  Wed Jan 11 20:17:48 +0000 2017   es      NONE  \n",
       "62101  Wed Jan 11 20:13:19 +0000 2017   es         N  \n",
       "62102  Thu Jan 12 05:58:06 +0000 2017   es         P  \n",
       "62103  Thu Jan 12 03:50:11 +0000 2017   es         P  "
      ]
     },
     "execution_count": 36,
     "metadata": {},
     "output_type": "execute_result"
    }
   ],
   "source": [
    "#tweets_test_es.rename(columns = {\"data_lemmatized\": \"content\"}, inplace =True)\n",
    "tweets_test_es.tail()"
   ]
  },
  {
   "cell_type": "code",
   "execution_count": 37,
   "metadata": {},
   "outputs": [
    {
     "data": {
      "text/html": [
       "<div>\n",
       "<style scoped>\n",
       "    .dataframe tbody tr th:only-of-type {\n",
       "        vertical-align: middle;\n",
       "    }\n",
       "\n",
       "    .dataframe tbody tr th {\n",
       "        vertical-align: top;\n",
       "    }\n",
       "\n",
       "    .dataframe thead th {\n",
       "        text-align: right;\n",
       "    }\n",
       "</style>\n",
       "<table border=\"1\" class=\"dataframe\">\n",
       "  <thead>\n",
       "    <tr style=\"text-align: right;\">\n",
       "      <th></th>\n",
       "      <th>tweetid</th>\n",
       "      <th>user</th>\n",
       "      <th>content</th>\n",
       "      <th>date</th>\n",
       "      <th>lang</th>\n",
       "      <th>sentiment</th>\n",
       "    </tr>\n",
       "  </thead>\n",
       "  <tbody>\n",
       "    <tr>\n",
       "      <th>0</th>\n",
       "      <td>142389495503925248</td>\n",
       "      <td>ccifuentes</td>\n",
       "      <td>Salgo de #VeoTV , que día más largoooooo...</td>\n",
       "      <td>2011-12-02T00:47:55</td>\n",
       "      <td>es</td>\n",
       "      <td>NONE</td>\n",
       "    </tr>\n",
       "    <tr>\n",
       "      <th>1</th>\n",
       "      <td>142389933619945473</td>\n",
       "      <td>CarmendelRiego</td>\n",
       "      <td>@PauladeLasHeras No te libraras de ayudar me/n...</td>\n",
       "      <td>2011-12-02T00:49:40</td>\n",
       "      <td>es</td>\n",
       "      <td>NEU</td>\n",
       "    </tr>\n",
       "    <tr>\n",
       "      <th>2</th>\n",
       "      <td>142391947707940864</td>\n",
       "      <td>CarmendelRiego</td>\n",
       "      <td>@marodriguezb Gracias MAR</td>\n",
       "      <td>2011-12-02T00:57:40</td>\n",
       "      <td>es</td>\n",
       "      <td>P</td>\n",
       "    </tr>\n",
       "    <tr>\n",
       "      <th>3</th>\n",
       "      <td>142416095012339712</td>\n",
       "      <td>mgilguerrero</td>\n",
       "      <td>Off pensando en el regalito Sinde, la que se v...</td>\n",
       "      <td>2011-12-02T02:33:37</td>\n",
       "      <td>es</td>\n",
       "      <td>N</td>\n",
       "    </tr>\n",
       "    <tr>\n",
       "      <th>4</th>\n",
       "      <td>142422495721562112</td>\n",
       "      <td>paurubio</td>\n",
       "      <td>Conozco a alguien q es adicto al drama! Ja ja ...</td>\n",
       "      <td>2011-12-02T02:59:03</td>\n",
       "      <td>es</td>\n",
       "      <td>P</td>\n",
       "    </tr>\n",
       "  </tbody>\n",
       "</table>\n",
       "</div>"
      ],
      "text/plain": [
       "              tweetid            user  \\\n",
       "0  142389495503925248      ccifuentes   \n",
       "1  142389933619945473  CarmendelRiego   \n",
       "2  142391947707940864  CarmendelRiego   \n",
       "3  142416095012339712    mgilguerrero   \n",
       "4  142422495721562112        paurubio   \n",
       "\n",
       "                                             content                 date  \\\n",
       "0        Salgo de #VeoTV , que día más largoooooo...  2011-12-02T00:47:55   \n",
       "1  @PauladeLasHeras No te libraras de ayudar me/n...  2011-12-02T00:49:40   \n",
       "2                          @marodriguezb Gracias MAR  2011-12-02T00:57:40   \n",
       "3  Off pensando en el regalito Sinde, la que se v...  2011-12-02T02:33:37   \n",
       "4  Conozco a alguien q es adicto al drama! Ja ja ...  2011-12-02T02:59:03   \n",
       "\n",
       "  lang sentiment  \n",
       "0   es      NONE  \n",
       "1   es       NEU  \n",
       "2   es         P  \n",
       "3   es         N  \n",
       "4   es         P  "
      ]
     },
     "execution_count": 37,
     "metadata": {},
     "output_type": "execute_result"
    }
   ],
   "source": [
    "tweets_es_all = tweets_train_es.append(tweets_test_es)\n",
    "tweets_es_all.head()"
   ]
  },
  {
   "cell_type": "code",
   "execution_count": 38,
   "metadata": {},
   "outputs": [],
   "source": [
    "tweets_es_all.to_csv(\"tweets_es_all.csv\", index = None, header=True)"
   ]
  },
  {
   "cell_type": "code",
   "execution_count": null,
   "metadata": {},
   "outputs": [],
   "source": []
  }
 ],
 "metadata": {
  "kernelspec": {
   "display_name": "Python 3",
   "language": "python",
   "name": "python3"
  },
  "language_info": {
   "codemirror_mode": {
    "name": "ipython",
    "version": 3
   },
   "file_extension": ".py",
   "mimetype": "text/x-python",
   "name": "python",
   "nbconvert_exporter": "python",
   "pygments_lexer": "ipython3",
   "version": "3.7.3"
  }
 },
 "nbformat": 4,
 "nbformat_minor": 2
}
