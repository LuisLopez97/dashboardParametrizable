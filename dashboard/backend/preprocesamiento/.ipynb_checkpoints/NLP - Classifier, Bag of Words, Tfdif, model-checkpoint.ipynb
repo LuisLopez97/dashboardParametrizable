{
 "cells": [
  {
   "cell_type": "markdown",
   "metadata": {},
   "source": [
    "# Construyendo un Bag of Words"
   ]
  },
  {
   "cell_type": "markdown",
   "metadata": {},
   "source": [
    "## Importar librerias"
   ]
  },
  {
   "cell_type": "code",
   "execution_count": 1,
   "metadata": {},
   "outputs": [],
   "source": [
    "import pandas as pd\n",
    "from sklearn.model_selection import train_test_split\n",
    "from sklearn.feature_extraction.text import CountVectorizer"
   ]
  },
  {
   "cell_type": "markdown",
   "metadata": {},
   "source": [
    "## Leer Dataset"
   ]
  },
  {
   "cell_type": "code",
   "execution_count": 2,
   "metadata": {},
   "outputs": [],
   "source": [
    "pd.set_option('display.max_colwidth', -1)\n",
    "df = pd.read_csv(\"data_lemmatized.csv\")\n",
    "y = df['sentiment']"
   ]
  },
  {
   "cell_type": "markdown",
   "metadata": {},
   "source": [
    "## Crear conjunto de entrenamiento y pruebas"
   ]
  },
  {
   "cell_type": "markdown",
   "metadata": {},
   "source": [
    "### variables de salida (listas)\n",
    "- **x_train**: conjunto de entrenamiento con todas las columnas excepto la que se quiere predecir ('sentiment'). A esas demás columnas se le conocen como 'features' o 'variables'\n",
    "- **x_test**: conjunto de entrenamiento, solo con la columna que se quiere predecir ('sentiment'). A esa columna se le llama 'labels'\n",
    "- **y_train**: conjunto de prueba, solo con los 'features'\n",
    "- **y_test**: conjunto de prueba, solo con los 'labels'\n",
    "--------------------------------------------------------\n",
    "### parametros\n",
    "- **test_size**: porcentaje en que utilizara el conjunto de entrenamiento en todo el dataset\n",
    "- **random_state**: es la semilla de aleatoridad. Permite revolver las filas y columnas, pero siempre dando el mismo resultado"
   ]
  },
  {
   "cell_type": "code",
   "execution_count": 3,
   "metadata": {},
   "outputs": [],
   "source": [
    "x_train, x_test, y_train, y_test = train_test_split(df['data_lemmatized'], y, test_size = 0.33, random_state = 53)"
   ]
  },
  {
   "cell_type": "markdown",
   "metadata": {},
   "source": [
    "## Transformar textos a Vectores de Bag of Words "
   ]
  },
  {
   "cell_type": "markdown",
   "metadata": {},
   "source": [
    "### Inicializacion de la clase CountVectorizer\n",
    "Aplica preprocesamiento removiendo stopwords\n",
    "\n",
    ".values.astype('U'):\n",
    "https://stackoverflow.com/questions/39303912/tfidfvectorizer-in-scikit-learn-valueerror-np-nan-is-an-invalid-document"
   ]
  },
  {
   "cell_type": "code",
   "execution_count": 4,
   "metadata": {},
   "outputs": [],
   "source": [
    "count_vectorizer = CountVectorizer(stop_words='english')"
   ]
  },
  {
   "cell_type": "markdown",
   "metadata": {},
   "source": [
    "### Fit y Transform"
   ]
  },
  {
   "cell_type": "code",
   "execution_count": 5,
   "metadata": {},
   "outputs": [],
   "source": [
    "# Conjunto de Entrenamiento\n",
    "count_train = count_vectorizer.fit_transform(x_train.values.astype('U'))"
   ]
  },
  {
   "cell_type": "code",
   "execution_count": 6,
   "metadata": {},
   "outputs": [],
   "source": [
    "# Conjunto de pruebas\n",
    "count_test = count_vectorizer.transform(x_test.values.astype('U'))"
   ]
  },
  {
   "cell_type": "code",
   "execution_count": 7,
   "metadata": {},
   "outputs": [
    {
     "name": "stdout",
     "output_type": "stream",
     "text": [
      "['aa', 'aadavantage', 'aadfw', 'aadv', 'aadvantage', 'aal', 'aand', 'aano', 'aas', 'aaso', 'aaus', 'ab', 'aback', 'abandon', 'abandonment', 'abassinet', 'abbreve', 'abc', 'abcdef', 'abcs', 'abduct', 'abilities', 'ability', 'able', 'aboard', 'aboout', 'abound', 'abq', 'abroad', 'absolute']\n"
     ]
    }
   ],
   "source": [
    "print(count_vectorizer.get_feature_names()[:30])"
   ]
  },
  {
   "cell_type": "markdown",
   "metadata": {},
   "source": [
    "# Construyendo un TfidfVectorizer"
   ]
  },
  {
   "cell_type": "code",
   "execution_count": 8,
   "metadata": {},
   "outputs": [],
   "source": [
    "# Importar TfidfVectorizer\n",
    "from sklearn.feature_extraction.text import TfidfVectorizer"
   ]
  },
  {
   "cell_type": "code",
   "execution_count": 9,
   "metadata": {},
   "outputs": [],
   "source": [
    "# Inicializar al objeto TfidfVectorizer: tfidf_vectorizer\n",
    "tfidf_vectorizer = TfidfVectorizer(stop_words = \"english\", max_df=0.7)"
   ]
  },
  {
   "cell_type": "code",
   "execution_count": 10,
   "metadata": {},
   "outputs": [],
   "source": [
    "# Transformar los datos de entrenamiento: tfidf_train \n",
    "tfidf_train = tfidf_vectorizer.fit_transform(x_train.values.astype('U'))\n",
    "\n",
    "# Transformar los datos de prueba: tfidf_test \n",
    "tfidf_test = tfidf_vectorizer.transform(x_test.values.astype('U'))"
   ]
  },
  {
   "cell_type": "code",
   "execution_count": 11,
   "metadata": {},
   "outputs": [
    {
     "name": "stdout",
     "output_type": "stream",
     "text": [
      "['aa', 'aadavantage', 'aadfw', 'aadv', 'aadvantage', 'aal', 'aand', 'aano', 'aas', 'aaso']\n"
     ]
    }
   ],
   "source": [
    "# Imprimir las primeros 10 características\n",
    "print(tfidf_vectorizer.get_feature_names()[:10])"
   ]
  },
  {
   "cell_type": "code",
   "execution_count": 12,
   "metadata": {},
   "outputs": [
    {
     "name": "stdout",
     "output_type": "stream",
     "text": [
      "[[0.         0.         0.         ... 0.         0.         0.        ]\n",
      " [0.         0.         0.         ... 0.         0.         0.        ]\n",
      " [0.         0.         0.         ... 0.         0.         0.        ]\n",
      " [0.         0.         0.         ... 0.         0.         0.        ]\n",
      " [0.23671055 0.         0.         ... 0.         0.         0.        ]]\n"
     ]
    }
   ],
   "source": [
    "# Imprimir los primeros 5 vectores de tfidf_train\n",
    "print(tfidf_train.A[:5])"
   ]
  },
  {
   "cell_type": "markdown",
   "metadata": {},
   "source": [
    "# Inspeccionando los vectores (Bag of Words, Tfidf)"
   ]
  },
  {
   "cell_type": "code",
   "execution_count": 13,
   "metadata": {},
   "outputs": [],
   "source": [
    "# Create the CountVectorizer DataFrame: count_df\n",
    "count_df = pd.DataFrame(count_train.A, columns=count_vectorizer.get_feature_names())"
   ]
  },
  {
   "cell_type": "code",
   "execution_count": 14,
   "metadata": {},
   "outputs": [],
   "source": [
    "# Create the TfidfVectorizer DataFrame: tfidf_df\n",
    "tfidf_df = pd.DataFrame(tfidf_train.A, columns=tfidf_vectorizer.get_feature_names())"
   ]
  },
  {
   "cell_type": "code",
   "execution_count": 15,
   "metadata": {},
   "outputs": [
    {
     "name": "stdout",
     "output_type": "stream",
     "text": [
      "   aa  aadavantage  aadfw  aadv  aadvantage  aal  aand  aano  aas  aaso  ...  \\\n",
      "0  0   0            0      0     0           0    0     0     0    0     ...   \n",
      "1  0   0            0      0     0           0    0     0     0    0     ...   \n",
      "2  0   0            0      0     0           0    0     0     0    0     ...   \n",
      "3  0   0            0      0     0           0    0     0     0    0     ...   \n",
      "4  1   0            0      0     0           0    0     0     0    0     ...   \n",
      "\n",
      "   yyzua  zabsonre  zambia  zero  zip  zipper  zone  zoom  zurich  zurichnew  \n",
      "0  0      0         0       0     0    0       0     0     0       0          \n",
      "1  0      0         0       0     0    0       0     0     0       0          \n",
      "2  0      0         0       0     0    0       0     0     0       0          \n",
      "3  0      0         0       0     0    0       0     0     0       0          \n",
      "4  0      0         0       0     0    0       0     0     0       0          \n",
      "\n",
      "[5 rows x 7513 columns]\n"
     ]
    }
   ],
   "source": [
    "# Print the head of count_df\n",
    "print(count_df.head())"
   ]
  },
  {
   "cell_type": "code",
   "execution_count": 16,
   "metadata": {},
   "outputs": [
    {
     "name": "stdout",
     "output_type": "stream",
     "text": [
      "         aa  aadavantage  aadfw  aadv  aadvantage  aal  aand  aano  aas  aaso  \\\n",
      "0  0.000000  0.0          0.0    0.0   0.0         0.0  0.0   0.0   0.0  0.0    \n",
      "1  0.000000  0.0          0.0    0.0   0.0         0.0  0.0   0.0   0.0  0.0    \n",
      "2  0.000000  0.0          0.0    0.0   0.0         0.0  0.0   0.0   0.0  0.0    \n",
      "3  0.000000  0.0          0.0    0.0   0.0         0.0  0.0   0.0   0.0  0.0    \n",
      "4  0.236711  0.0          0.0    0.0   0.0         0.0  0.0   0.0   0.0  0.0    \n",
      "\n",
      "   ...  yyzua  zabsonre  zambia  zero  zip  zipper  zone  zoom  zurich  \\\n",
      "0  ...  0.0    0.0       0.0     0.0   0.0  0.0     0.0   0.0   0.0      \n",
      "1  ...  0.0    0.0       0.0     0.0   0.0  0.0     0.0   0.0   0.0      \n",
      "2  ...  0.0    0.0       0.0     0.0   0.0  0.0     0.0   0.0   0.0      \n",
      "3  ...  0.0    0.0       0.0     0.0   0.0  0.0     0.0   0.0   0.0      \n",
      "4  ...  0.0    0.0       0.0     0.0   0.0  0.0     0.0   0.0   0.0      \n",
      "\n",
      "   zurichnew  \n",
      "0  0.0        \n",
      "1  0.0        \n",
      "2  0.0        \n",
      "3  0.0        \n",
      "4  0.0        \n",
      "\n",
      "[5 rows x 7513 columns]\n"
     ]
    }
   ],
   "source": [
    "# Print the head of tfidf_df\n",
    "print(tfidf_df.head())"
   ]
  },
  {
   "cell_type": "code",
   "execution_count": 17,
   "metadata": {},
   "outputs": [
    {
     "name": "stdout",
     "output_type": "stream",
     "text": [
      "set()\n"
     ]
    }
   ],
   "source": [
    "# Calculate the difference in columns: difference\n",
    "difference = set(count_df.columns) - set(tfidf_df.columns)\n",
    "print(difference)"
   ]
  },
  {
   "cell_type": "code",
   "execution_count": 18,
   "metadata": {},
   "outputs": [
    {
     "name": "stdout",
     "output_type": "stream",
     "text": [
      "False\n"
     ]
    }
   ],
   "source": [
    "# Check whether the DataFrames are equal\n",
    "print(count_df.equals(tfidf_df))"
   ]
  },
  {
   "cell_type": "markdown",
   "metadata": {},
   "source": [
    "# Training and testing a classification model with Scikit-learn"
   ]
  },
  {
   "cell_type": "code",
   "execution_count": null,
   "metadata": {},
   "outputs": [],
   "source": [
    "## WIP"
   ]
  }
 ],
 "metadata": {
  "kernelspec": {
   "display_name": "Python 3",
   "language": "python",
   "name": "python3"
  },
  "language_info": {
   "codemirror_mode": {
    "name": "ipython",
    "version": 3
   },
   "file_extension": ".py",
   "mimetype": "text/x-python",
   "name": "python",
   "nbconvert_exporter": "python",
   "pygments_lexer": "ipython3",
   "version": "3.7.3"
  }
 },
 "nbformat": 4,
 "nbformat_minor": 2
}
