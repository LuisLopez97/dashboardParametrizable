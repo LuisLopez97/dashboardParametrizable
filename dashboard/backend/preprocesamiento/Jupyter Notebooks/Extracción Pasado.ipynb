{
 "cells": [
  {
   "cell_type": "code",
   "execution_count": 1,
   "metadata": {},
   "outputs": [
    {
     "name": "stderr",
     "output_type": "stream",
     "text": [
      "INFO: {'User-Agent': 'Mozilla/5.0 (Windows; U; Windows NT 6.1; rv:2.2) Gecko/20110201'}\n"
     ]
    }
   ],
   "source": [
    "from twitterscraper import query_tweets"
   ]
  },
  {
   "cell_type": "code",
   "execution_count": 9,
   "metadata": {},
   "outputs": [
    {
     "name": "stderr",
     "output_type": "stream",
     "text": [
      "INFO: queries: ['DBFZ since:2006-03-21 until:2006-11-25', 'DBFZ since:2006-11-25 until:2007-08-01', 'DBFZ since:2007-08-01 until:2008-04-07', 'DBFZ since:2008-04-07 until:2008-12-12', 'DBFZ since:2008-12-12 until:2009-08-19', 'DBFZ since:2009-08-19 until:2010-04-25', 'DBFZ since:2010-04-25 until:2010-12-31', 'DBFZ since:2010-12-31 until:2011-09-06', 'DBFZ since:2011-09-06 until:2012-05-13', 'DBFZ since:2012-05-13 until:2013-01-17', 'DBFZ since:2013-01-17 until:2013-09-23', 'DBFZ since:2013-09-23 until:2014-05-31', 'DBFZ since:2014-05-31 until:2015-02-04', 'DBFZ since:2015-02-04 until:2015-10-12', 'DBFZ since:2015-10-12 until:2016-06-17', 'DBFZ since:2016-06-17 until:2017-02-22', 'DBFZ since:2017-02-22 until:2017-10-29', 'DBFZ since:2017-10-29 until:2018-07-06', 'DBFZ since:2018-07-06 until:2019-03-12', 'DBFZ since:2019-03-12 until:2019-11-17']\n",
      "INFO: Got 9 tweets (9 new).\n",
      "INFO: Got 29 tweets (20 new).\n",
      "INFO: Got 33 tweets (4 new).\n",
      "INFO: Got 52 tweets (19 new).\n",
      "INFO: Got 72 tweets (20 new).\n",
      "INFO: Got 92 tweets (20 new).\n",
      "INFO: Got 111 tweets (19 new).\n",
      "INFO: Got 131 tweets (20 new).\n",
      "INFO: Got 151 tweets (20 new).\n",
      "INFO: Got 169 tweets (18 new).\n",
      "INFO: Got 170 tweets (1 new).\n",
      "INFO: Got 189 tweets (19 new).\n",
      "INFO: Got 205 tweets (16 new).\n",
      "INFO: Got 222 tweets (17 new).\n",
      "INFO: Got 242 tweets (20 new).\n",
      "INFO: Got 262 tweets (20 new).\n",
      "INFO: Got 279 tweets (17 new).\n",
      "INFO: Got 279 tweets (0 new).\n",
      "INFO: Got 279 tweets (0 new).\n",
      "INFO: Got 279 tweets (0 new).\n"
     ]
    },
    {
     "ename": "AttributeError",
     "evalue": "'Tweet' object has no attribute 'encode'",
     "output_type": "error",
     "traceback": [
      "\u001b[1;31m---------------------------------------------------------------------------\u001b[0m",
      "\u001b[1;31mAttributeError\u001b[0m                            Traceback (most recent call last)",
      "\u001b[1;32m<ipython-input-9-78cc9e7539cd>\u001b[0m in \u001b[0;36m<module>\u001b[1;34m\u001b[0m\n\u001b[0;32m      1\u001b[0m \u001b[0mfile\u001b[0m \u001b[1;33m=\u001b[0m \u001b[0mopen\u001b[0m\u001b[1;33m(\u001b[0m\u001b[1;34m\"DBFZ.txt\"\u001b[0m\u001b[1;33m,\u001b[0m\u001b[1;34m\"w\"\u001b[0m\u001b[1;33m)\u001b[0m\u001b[1;33m\u001b[0m\u001b[1;33m\u001b[0m\u001b[0m\n\u001b[0;32m      2\u001b[0m \u001b[1;32mfor\u001b[0m \u001b[0mtweet\u001b[0m \u001b[1;32min\u001b[0m \u001b[0mquery_tweets\u001b[0m\u001b[1;33m(\u001b[0m\u001b[1;34m\"DBFZ\"\u001b[0m\u001b[1;33m,\u001b[0m \u001b[1;36m10\u001b[0m\u001b[1;33m)\u001b[0m\u001b[1;33m:\u001b[0m\u001b[1;33m\u001b[0m\u001b[1;33m\u001b[0m\u001b[0m\n\u001b[1;32m----> 3\u001b[1;33m     \u001b[0mfile\u001b[0m\u001b[1;33m.\u001b[0m\u001b[0mwrite\u001b[0m\u001b[1;33m(\u001b[0m\u001b[0mtweet\u001b[0m\u001b[1;33m.\u001b[0m\u001b[0mencode\u001b[0m\u001b[1;33m(\u001b[0m\u001b[1;34m'utf-8'\u001b[0m\u001b[1;33m)\u001b[0m\u001b[1;33m)\u001b[0m\u001b[1;33m\u001b[0m\u001b[1;33m\u001b[0m\u001b[0m\n\u001b[0m\u001b[0;32m      4\u001b[0m \u001b[0mfile\u001b[0m\u001b[1;33m.\u001b[0m\u001b[0mclose\u001b[0m\u001b[1;33m(\u001b[0m\u001b[1;33m)\u001b[0m\u001b[1;33m\u001b[0m\u001b[1;33m\u001b[0m\u001b[0m\n",
      "\u001b[1;31mAttributeError\u001b[0m: 'Tweet' object has no attribute 'encode'"
     ]
    }
   ],
   "source": [
    "file = open(\"DBFZ.txt\",\"w\")\n",
    "for tweet in query_tweets(\"DBFZ\", 10):\n",
    "    file.write(tweet.encode('utf-8'))\n",
    "file.close()"
   ]
  },
  {
   "cell_type": "code",
   "execution_count": null,
   "metadata": {},
   "outputs": [],
   "source": []
  }
 ],
 "metadata": {
  "kernelspec": {
   "display_name": "Python 3",
   "language": "python",
   "name": "python3"
  },
  "language_info": {
   "codemirror_mode": {
    "name": "ipython",
    "version": 3
   },
   "file_extension": ".py",
   "mimetype": "text/x-python",
   "name": "python",
   "nbconvert_exporter": "python",
   "pygments_lexer": "ipython3",
   "version": "3.7.3"
  }
 },
 "nbformat": 4,
 "nbformat_minor": 2
}
