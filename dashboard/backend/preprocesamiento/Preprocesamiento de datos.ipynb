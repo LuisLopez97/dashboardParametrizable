{
 "cells": [
  {
   "cell_type": "markdown",
   "metadata": {},
   "source": [
    "# Preprocesamiento con Python"
   ]
  },
  {
   "cell_type": "markdown",
   "metadata": {},
   "source": [
    "Para el preprocesamiento de texto utilizaremos las librerías de Python:\n",
    "- **Numpy**: para el procesamiento de las operaciones en los Dataframes y Series de Pandas\n",
    "- **Pandas**: para la manipulación de los datos\n",
    "- **NLTK**: para el procesamiento de texto por medio de las StopWords, Stemming, Lemmatization y POS tag\n",
    "- **re**: filtrar datos con para expresiones regulares "
   ]
  },
  {
   "cell_type": "markdown",
   "metadata": {},
   "source": [
    "## Lectura de datos con Pandas"
   ]
  },
  {
   "cell_type": "code",
   "execution_count": 1,
   "metadata": {},
   "outputs": [],
   "source": [
    "# Importacion de librerias\n",
    "import numpy as np\n",
    "import pandas as pd\n",
    "import nltk\n",
    "from nltk.corpus import stopwords\n",
    "from nltk.stem import PorterStemmer\n",
    "from nltk.stem import LancasterStemmer\n",
    "from nltk.tokenize import sent_tokenize, word_tokenize\n",
    "from nltk.stem import WordNetLemmatizer\n",
    "import re\n",
    "# Permite desplegar el texto completo en Jupyter\n",
    "pd.set_option('display.max_colwidth', -1)"
   ]
  },
  {
   "cell_type": "code",
   "execution_count": 2,
   "metadata": {},
   "outputs": [],
   "source": [
    "# Lectura de CSV\n",
    "df = pd.read_csv(\"Tweets_pg_prepared.csv\")\n",
    "data = df.tail() # Muestra los datos"
   ]
  },
  {
   "cell_type": "code",
   "execution_count": 3,
   "metadata": {},
   "outputs": [
    {
     "data": {
      "text/plain": [
       "14635    @AmericanAir thank you we got on a different flight to Chicago.                                                                                       \n",
       "14636    @AmericanAir leaving over 20 minutes Late Flight. No warnings or communication until we were 15 minutes Late Flight. That's called shitty customer svc\n",
       "14637    @AmericanAir Please bring American Airlines to #BlackBerry10                                                                                          \n",
       "14638    @AmericanAir you have my money, you change my flight, and don't answer your phones! Any other suggestions so I can make my commitment??               \n",
       "14639    @AmericanAir we have 8 ppl so we need 2 know how many seats are on the next flight. Plz put us on standby for 4 people on the next flight?            \n",
       "Name: text, dtype: object"
      ]
     },
     "execution_count": 3,
     "metadata": {},
     "output_type": "execute_result"
    }
   ],
   "source": [
    "data[\"text\"] # Mostrar los datos de la columna \"text\""
   ]
  },
  {
   "cell_type": "markdown",
   "metadata": {},
   "source": [
    "## Convertir mayúsculas a minúsculas"
   ]
  },
  {
   "cell_type": "code",
   "execution_count": 4,
   "metadata": {},
   "outputs": [
    {
     "data": {
      "text/plain": [
       "14635    @americanair thank you we got on a different flight to chicago.                                                                                       \n",
       "14636    @americanair leaving over 20 minutes late flight. no warnings or communication until we were 15 minutes late flight. that's called shitty customer svc\n",
       "14637    @americanair please bring american airlines to #blackberry10                                                                                          \n",
       "14638    @americanair you have my money, you change my flight, and don't answer your phones! any other suggestions so i can make my commitment??               \n",
       "14639    @americanair we have 8 ppl so we need 2 know how many seats are on the next flight. plz put us on standby for 4 people on the next flight?            \n",
       "Name: text, dtype: object"
      ]
     },
     "execution_count": 4,
     "metadata": {},
     "output_type": "execute_result"
    }
   ],
   "source": [
    "data_lower = data[\"text\"].str.lower() # Convertir todo el texto de la columna \"text\" a minusculas\n",
    "data_lower # Mostrar"
   ]
  },
  {
   "cell_type": "markdown",
   "metadata": {},
   "source": [
    "## Remover URLs (Regex)"
   ]
  },
  {
   "cell_type": "markdown",
   "metadata": {},
   "source": [
    "Explicación de Regex\n",
    "1. **(http|https|ftp)**: Detectar si empieza con alguno de estos protocolos\n",
    "2. **://**: Seguido de un \"://\"\n",
    "3. **[a-zA-Z0-9\\\\./]**: E inmediatamente empieza una palabra seguido de un punto (.) una o mas veces (de esta manera se incluye el (.com y variantes)"
   ]
  },
  {
   "cell_type": "code",
   "execution_count": 5,
   "metadata": {},
   "outputs": [
    {
     "data": {
      "text/plain": [
       "14635    @americanair thank you we got on a different flight to chicago.                                                                                       \n",
       "14636    @americanair leaving over 20 minutes late flight. no warnings or communication until we were 15 minutes late flight. that's called shitty customer svc\n",
       "14637    @americanair please bring american airlines to #blackberry10                                                                                          \n",
       "14638    @americanair you have my money, you change my flight, and don't answer your phones! any other suggestions so i can make my commitment??               \n",
       "14639    @americanair we have 8 ppl so we need 2 know how many seats are on the next flight. plz put us on standby for 4 people on the next flight?            \n",
       "Name: text, dtype: object"
      ]
     },
     "execution_count": 5,
     "metadata": {},
     "output_type": "execute_result"
    }
   ],
   "source": [
    "data_noURL = data_lower.str.replace('(http|https|ftp)://[a-zA-Z0-9\\\\./]+',\"\")\n",
    "data_noURL"
   ]
  },
  {
   "cell_type": "markdown",
   "metadata": {},
   "source": [
    "## Remover referencias (@Usernames)"
   ]
  },
  {
   "cell_type": "markdown",
   "metadata": {},
   "source": [
    "Explicación regex\n",
    "1. **@**: Si empieza con arroba (@)\n",
    "2. **(\\w+)**: y le sigue una o más palabras"
   ]
  },
  {
   "cell_type": "code",
   "execution_count": 6,
   "metadata": {},
   "outputs": [
    {
     "data": {
      "text/plain": [
       "14635     thank you we got on a different flight to chicago.                                                                                       \n",
       "14636     leaving over 20 minutes late flight. no warnings or communication until we were 15 minutes late flight. that's called shitty customer svc\n",
       "14637     please bring american airlines to #blackberry10                                                                                          \n",
       "14638     you have my money, you change my flight, and don't answer your phones! any other suggestions so i can make my commitment??               \n",
       "14639     we have 8 ppl so we need 2 know how many seats are on the next flight. plz put us on standby for 4 people on the next flight?            \n",
       "Name: text, dtype: object"
      ]
     },
     "execution_count": 6,
     "metadata": {},
     "output_type": "execute_result"
    }
   ],
   "source": [
    "data_noUser = data_noURL.str.replace('@(\\w+)',\"\")\n",
    "data_noUser"
   ]
  },
  {
   "cell_type": "markdown",
   "metadata": {},
   "source": [
    "## Remover hashtags"
   ]
  },
  {
   "cell_type": "markdown",
   "metadata": {},
   "source": [
    "Explicación regex\n",
    "1. **#**: Si empieza con arroba (#)\n",
    "2. **(\\w+)**: y le sigue una o más palabras"
   ]
  },
  {
   "cell_type": "code",
   "execution_count": 7,
   "metadata": {},
   "outputs": [
    {
     "data": {
      "text/plain": [
       "14635     thank you we got on a different flight to chicago.                                                                                       \n",
       "14636     leaving over 20 minutes late flight. no warnings or communication until we were 15 minutes late flight. that's called shitty customer svc\n",
       "14637     please bring american airlines to                                                                                                        \n",
       "14638     you have my money, you change my flight, and don't answer your phones! any other suggestions so i can make my commitment??               \n",
       "14639     we have 8 ppl so we need 2 know how many seats are on the next flight. plz put us on standby for 4 people on the next flight?            \n",
       "Name: text, dtype: object"
      ]
     },
     "execution_count": 7,
     "metadata": {},
     "output_type": "execute_result"
    }
   ],
   "source": [
    "data_noHashtag = data_noUser.str.replace('#(\\w+)',\"\")\n",
    "data_noHashtag"
   ]
  },
  {
   "cell_type": "markdown",
   "metadata": {},
   "source": [
    "## Remover emoticones"
   ]
  },
  {
   "cell_type": "markdown",
   "metadata": {},
   "source": [
    "NOTA: Falta averiguar si algún analizador de sentimientos le sirven los emoticones, o tal vez se puedan traducir los emojis por alguna palabra que exprese su sentimiento."
   ]
  },
  {
   "cell_type": "code",
   "execution_count": 8,
   "metadata": {},
   "outputs": [
    {
     "data": {
      "text/plain": [
       "14635     thank you we got on a different flight to chicago.                                                                                       \n",
       "14636     leaving over 20 minutes late flight. no warnings or communication until we were 15 minutes late flight. that's called shitty customer svc\n",
       "14637     please bring american airlines to                                                                                                        \n",
       "14638     you have my money, you change my flight, and don't answer your phones! any other suggestions so i can make my commitment??               \n",
       "14639     we have 8 ppl so we need 2 know how many seats are on the next flight. plz put us on standby for 4 people on the next flight?            \n",
       "Name: text, dtype: object"
      ]
     },
     "execution_count": 8,
     "metadata": {},
     "output_type": "execute_result"
    }
   ],
   "source": [
    "\n",
    "data_noEmoji = data_noHashtag.str.replace(\"[\"\n",
    "                           u\"\\U0001F600-\\U0001F64F\"  # emoticones\n",
    "                           u\"\\U0001F300-\\U0001F5FF\"  # simbolos & pictografos\n",
    "                           u\"\\U0001F680-\\U0001F6FF\"  # simbolos de transporte y mapas\n",
    "                           u\"\\U0001F1E0-\\U0001F1FF\"  # banderas (iOS)\n",
    "                           u\"\\U00002702-\\U000027B0\"\n",
    "                           u\"\\U000024C2-\\U0001F251\"\n",
    "                           \"]+\", \"\")\n",
    "data_noEmoji"
   ]
  },
  {
   "cell_type": "markdown",
   "metadata": {},
   "source": [
    "## Remover StopWords"
   ]
  },
  {
   "cell_type": "markdown",
   "metadata": {},
   "source": [
    "Son palabras que no aportan valor al analizar sentimientos, en Inglés serían palabras como \"are, you, have, etc\""
   ]
  },
  {
   "cell_type": "code",
   "execution_count": 9,
   "metadata": {},
   "outputs": [
    {
     "data": {
      "text/plain": [
       "14635    thank got different flight chicago.                                                                             \n",
       "14636    leaving 20 minutes late flight. warnings communication 15 minutes late flight. that's called shitty customer svc\n",
       "14637    please bring american airlines                                                                                  \n",
       "14638    money, change flight, answer phones! suggestions make commitment??                                              \n",
       "14639    8 ppl need 2 know many seats next flight. plz put us standby 4 people next flight?                              \n",
       "Name: text, dtype: object"
      ]
     },
     "execution_count": 9,
     "metadata": {},
     "output_type": "execute_result"
    }
   ],
   "source": [
    "#import nltk\n",
    "#nltk.download('stopwords')\n",
    "#from nltk.corpus import stopwords\n",
    "stop = stopwords.words(\"english\")\n",
    "stop_set = set(stop)\n",
    "data_noStopwords = data_noEmoji.apply(lambda x: ' '.join([word for word in x.split() if word not in (stop_set)]))\n",
    "data_noStopwords"
   ]
  },
  {
   "cell_type": "markdown",
   "metadata": {},
   "source": [
    "## Interpretación de Slang (abreviaturas)"
   ]
  },
  {
   "cell_type": "markdown",
   "metadata": {},
   "source": [
    "### Web Scrapping de los acronimos de Netlingo"
   ]
  },
  {
   "cell_type": "code",
   "execution_count": 10,
   "metadata": {},
   "outputs": [],
   "source": [
    "#from bs4 import BeautifulSoup\n",
    "#import requests, json\n",
    "#resp = requests.get(\"http://www.netlingo.com/acronyms.php\")\n",
    "#soup = BeautifulSoup(resp.text, \"html.parser\")\n",
    "#slangdict = {}\n",
    "#key = \"\"\n",
    "#value = \"\"\n",
    "#for div in soup.findAll('div', attrs={'class':'list_box3'}):\n",
    "#    for li in div.findAll('li'):\n",
    "#        for a in li.findAll('a'):\n",
    "#            key = a.text\n",
    "#        value = li.text.split(key)[1]\n",
    "#        slangdict[key.upper()] = value\n",
    "#with open('myslang.json','w') as find:\n",
    "#    json.dump(slangdict, find, indent = 2)"
   ]
  },
  {
   "cell_type": "markdown",
   "metadata": {},
   "source": [
    "### Leer el archivo de Slang en JSON"
   ]
  },
  {
   "cell_type": "code",
   "execution_count": 11,
   "metadata": {},
   "outputs": [
    {
     "data": {
      "text/plain": [
       "{'FGF',\n",
       " 'MUSM',\n",
       " 'HDGFS',\n",
       " 'OB',\n",
       " 'PDOMA',\n",
       " 'SCUICHT',\n",
       " 'OMDB',\n",
       " 'WWSD',\n",
       " 'M2NY',\n",
       " 'ROTFLMFAO',\n",
       " 'CY',\n",
       " 'SWALBCAKWS',\n",
       " 'YGBSM',\n",
       " 'FOLO',\n",
       " 'GAWD',\n",
       " 'CPC',\n",
       " 'BWI',\n",
       " 'ETA',\n",
       " 'P&C',\n",
       " 'NOFI',\n",
       " 'IMO',\n",
       " 'TEOG',\n",
       " 'BCBS',\n",
       " 'ESH',\n",
       " 'DRB',\n",
       " 'NTYMI',\n",
       " 'RGDS',\n",
       " 'FO',\n",
       " 'WERRU',\n",
       " 'KOK',\n",
       " 'MVA NO PI',\n",
       " 'OK',\n",
       " 'NTH',\n",
       " 'PRW',\n",
       " 'CIAO',\n",
       " 'GALHER',\n",
       " 'LYSOUAQ',\n",
       " 'EFT',\n",
       " 'YM',\n",
       " 'KYR',\n",
       " 'XBF',\n",
       " 'MHBFY',\n",
       " 'OBO',\n",
       " 'BF',\n",
       " 'BLAST',\n",
       " 'IYKWIMAITYD',\n",
       " 'OOI',\n",
       " 'IYFD',\n",
       " 'WAYD',\n",
       " 'CRB',\n",
       " 'S2R',\n",
       " 'WTTP',\n",
       " '^5',\n",
       " 'ATM',\n",
       " 'DEGT',\n",
       " 'ADN',\n",
       " 'DPUP',\n",
       " 'TTYOB',\n",
       " 'COF$',\n",
       " 'LYB',\n",
       " 'WAFB',\n",
       " 'W/E',\n",
       " 'WAW',\n",
       " 'PMFJI',\n",
       " 'OLO',\n",
       " 'WAY',\n",
       " 'SUAKM',\n",
       " 'RPG',\n",
       " 'RFP',\n",
       " 'NATO',\n",
       " 'KYSOTI',\n",
       " 'EVERY1',\n",
       " 'STARS',\n",
       " 'TU',\n",
       " 'AX',\n",
       " 'BBB',\n",
       " 'MLYLT',\n",
       " 'CRAFT',\n",
       " 'GSW',\n",
       " 'WIBAMU',\n",
       " 'HCC',\n",
       " 'OMWT',\n",
       " 'SFAIAA',\n",
       " 'SFX',\n",
       " 'SML',\n",
       " 'RUMORF',\n",
       " 'HOLOGRAM',\n",
       " 'BYOB',\n",
       " 'ND',\n",
       " '123',\n",
       " 'BBFN',\n",
       " 'IYQ',\n",
       " 'SF',\n",
       " 'PDS',\n",
       " 'CUL8R',\n",
       " 'WTG4A\\\\\\\\%/',\n",
       " 'GUD',\n",
       " 'TBD',\n",
       " 'EMI',\n",
       " 'DQMOT',\n",
       " 'NFG',\n",
       " 'SGTM',\n",
       " '2BZ4UQT',\n",
       " 'MSTA',\n",
       " 'IOT',\n",
       " 'RMB',\n",
       " 'B2D',\n",
       " 'RMETTH',\n",
       " 'TCFHOG',\n",
       " 'IHNC',\n",
       " 'TWHAB',\n",
       " 'DOA',\n",
       " 'NGH',\n",
       " 'BOTOH',\n",
       " 'OBX',\n",
       " 'IINM',\n",
       " 'KMRIA',\n",
       " 'PD',\n",
       " 'ATAB',\n",
       " 'VWP',\n",
       " 'TXT IM',\n",
       " 'BBW',\n",
       " 'FML',\n",
       " 'LFTI',\n",
       " 'BYKT',\n",
       " 'FWD',\n",
       " 'T4P',\n",
       " 'PMSL',\n",
       " 'PAW',\n",
       " 'BFF',\n",
       " 'FCOL',\n",
       " 'A3',\n",
       " 'BIF',\n",
       " 'NRG',\n",
       " 'W4M',\n",
       " 'DETWEET',\n",
       " 'LBR AND LGR',\n",
       " 'WETSU',\n",
       " 'JHOM',\n",
       " 'INPO',\n",
       " 'JTOU',\n",
       " 'SIN',\n",
       " 'WOMOBIJO',\n",
       " 'IIR',\n",
       " 'N/T',\n",
       " 'LDTTWA',\n",
       " 'SMAO',\n",
       " 'TRAM',\n",
       " 'CRDTCHCK',\n",
       " 'KMA',\n",
       " 'YOCO',\n",
       " 'IPN',\n",
       " 'FOUO',\n",
       " 'NG',\n",
       " 'BDSM',\n",
       " 'FMLTWIA',\n",
       " 'EMFBI',\n",
       " 'WGAFF',\n",
       " 'HOT PIC',\n",
       " 'NTIM',\n",
       " 'LH6',\n",
       " 'SSDD',\n",
       " 'KYBC',\n",
       " 'XLNT',\n",
       " 'RBF',\n",
       " 'LH',\n",
       " 'YRYOCC',\n",
       " 'HAR',\n",
       " 'POD',\n",
       " 'RYFM',\n",
       " 'SIY',\n",
       " 'AWOL',\n",
       " 'HAND',\n",
       " 'GFTU',\n",
       " '@+',\n",
       " 'NB4T',\n",
       " 'ONID',\n",
       " 'ONUD',\n",
       " 'NBFAB',\n",
       " 'NTA',\n",
       " 'IMEZRU',\n",
       " 'LSHMBH',\n",
       " 'LM4A~##ZZZZ>',\n",
       " 'VIV',\n",
       " 'J/W',\n",
       " 'U-L',\n",
       " 'YABA',\n",
       " 'IGERS',\n",
       " 'BAESBO',\n",
       " 'APU',\n",
       " ',!!!!',\n",
       " '@',\n",
       " 'NTW',\n",
       " 'TY',\n",
       " 'AOB',\n",
       " 'WAI',\n",
       " 'BKA',\n",
       " 'DISTO',\n",
       " 'GWS',\n",
       " 'J/O',\n",
       " 'NIH',\n",
       " 'MFG',\n",
       " 'J/K',\n",
       " 'NJAPF',\n",
       " 'RFS',\n",
       " 'YTS',\n",
       " 'TQRT',\n",
       " 'DGT',\n",
       " 'WLU',\n",
       " 'WYTB',\n",
       " 'KEWL',\n",
       " 'GFN',\n",
       " 'G2GLYS',\n",
       " 'LB?W/C',\n",
       " '411',\n",
       " 'IC',\n",
       " 'BOH',\n",
       " 'GD&R',\n",
       " 'TYFF',\n",
       " '1V4',\n",
       " 'GFYMF',\n",
       " 'FCS',\n",
       " 'IDIFTL',\n",
       " 'ISO',\n",
       " 'IYNAEGBTM',\n",
       " 'CYT',\n",
       " 'DL',\n",
       " 'SIUP',\n",
       " 'AUNTM',\n",
       " '143',\n",
       " 'PLOS',\n",
       " 'PSA',\n",
       " 'BSF',\n",
       " 'AYCE',\n",
       " 'GAFYK',\n",
       " 'CICYHW',\n",
       " 'NIGYYSOB',\n",
       " 'LLY',\n",
       " 'FUBYOYO',\n",
       " 'GALGAL',\n",
       " 'BYKI',\n",
       " 'RM',\n",
       " 'SU',\n",
       " '420',\n",
       " 'JGH',\n",
       " 'NAGI',\n",
       " 'STR8',\n",
       " 'IOTTCO',\n",
       " 'TLITBC',\n",
       " 'PANS',\n",
       " 'BYOP',\n",
       " 'SB',\n",
       " 'BHG',\n",
       " 'IDKABTT',\n",
       " 'YGLT',\n",
       " 'FIGS',\n",
       " 'B4YKI',\n",
       " 'LOU',\n",
       " 'WDYT',\n",
       " 'NIDL',\n",
       " 'DBBSWF',\n",
       " 'HPOA',\n",
       " 'TLK2UL8R',\n",
       " 'AFGO',\n",
       " 'UWM',\n",
       " 'NSB',\n",
       " 'TAF',\n",
       " '4NR',\n",
       " 'OTASOIC',\n",
       " 'TMI',\n",
       " 'CSL',\n",
       " 'BC',\n",
       " 'ROTM',\n",
       " 'LUK',\n",
       " 'TFM',\n",
       " 'H4XX0R',\n",
       " 'WUWHIMA',\n",
       " 'HMU',\n",
       " 'WTFYTT',\n",
       " 'PIX',\n",
       " 'LYA',\n",
       " 'KK',\n",
       " 'POTUS',\n",
       " 'DUR',\n",
       " 'RAT',\n",
       " 'FILF',\n",
       " 'BWTM',\n",
       " 'AWLTP',\n",
       " 'TWIT',\n",
       " 'CRBT',\n",
       " 'IYO',\n",
       " 'LOVE',\n",
       " 'OOAK',\n",
       " 'BSAAW',\n",
       " 'BWO',\n",
       " 'LTR',\n",
       " 'RFD',\n",
       " 'OTF',\n",
       " 'IDEWTK',\n",
       " 'OTH',\n",
       " 'SICS',\n",
       " 'ACORN',\n",
       " 'AISB',\n",
       " 'SWIS',\n",
       " 'WIP',\n",
       " 'BLD',\n",
       " 'PBEM',\n",
       " 'RUS',\n",
       " 'AKA OR A.K.A.',\n",
       " 'MSG',\n",
       " 'POETS',\n",
       " 'PAP',\n",
       " 'SKYE',\n",
       " 'WFM',\n",
       " 'TDM',\n",
       " 'BBIAW',\n",
       " 'GBH',\n",
       " 'AMP',\n",
       " 'YACC',\n",
       " 'CF',\n",
       " 'KCCO',\n",
       " 'T+',\n",
       " 'NIFOC',\n",
       " 'LOAL',\n",
       " 'AAMOI',\n",
       " 'OOTB',\n",
       " 'GIST',\n",
       " 'GROBR',\n",
       " 'NTIMM',\n",
       " 'MOTD',\n",
       " 'TIL',\n",
       " 'BBMFIC',\n",
       " 'EG',\n",
       " 'TTIOT',\n",
       " 'RRR',\n",
       " 'GGA',\n",
       " 'SIT',\n",
       " 'GTFO',\n",
       " 'SL',\n",
       " 'STA',\n",
       " 'UCWAP',\n",
       " 'NOY',\n",
       " 'COO',\n",
       " 'WDT',\n",
       " 'NLL',\n",
       " 'IMGC',\n",
       " 'CUWTA',\n",
       " 'EWI',\n",
       " 'KMS',\n",
       " 'COD',\n",
       " 'JAM',\n",
       " 'MM',\n",
       " 'LMBAO',\n",
       " 'LMR',\n",
       " 'P-ZA',\n",
       " 'CRD',\n",
       " 'TFA',\n",
       " 'FTAD',\n",
       " 'GLAWD',\n",
       " 'MIHAP',\n",
       " 'NEWEETER',\n",
       " 'GTRM',\n",
       " 'IASAP4U',\n",
       " 'TNO',\n",
       " 'IFAB',\n",
       " 'YBS',\n",
       " 'LMTA',\n",
       " 'WCA',\n",
       " 'B2E',\n",
       " 'SOW',\n",
       " 'JEOMK',\n",
       " 'TAW',\n",
       " 'WABOM',\n",
       " 'SCNR',\n",
       " 'AFJ',\n",
       " 'HEA',\n",
       " 'UAYA',\n",
       " 'BO',\n",
       " 'GMTA ASDO',\n",
       " 'IBT',\n",
       " 'PEEPS',\n",
       " 'STBX',\n",
       " 'GLGH',\n",
       " 'MISTWEET',\n",
       " 'IHTFP',\n",
       " 'YAFIYGI',\n",
       " '8',\n",
       " 'AAYF',\n",
       " '2B',\n",
       " 'P2U4URAQTP',\n",
       " 'RTB',\n",
       " 'WERUBN',\n",
       " 'GOWI',\n",
       " 'FUMF',\n",
       " 'SEP',\n",
       " 'MUBAR',\n",
       " 'BM',\n",
       " 'BYTME',\n",
       " 'DIFBET',\n",
       " 'ASLMH',\n",
       " 'TYL',\n",
       " 'UR2K',\n",
       " 'BMOC',\n",
       " 'RIMJS',\n",
       " 'PBJ',\n",
       " 'SCOTUS',\n",
       " 'HUH',\n",
       " 'YBYSA',\n",
       " 'ALOTBSOL',\n",
       " '10Q',\n",
       " 'PPPPPPP OR 7P',\n",
       " 'DJM',\n",
       " 'LHOS',\n",
       " 'LSV',\n",
       " 'SSC',\n",
       " 'IYDMMA',\n",
       " '1DAFUL',\n",
       " 'AFU',\n",
       " 'JK',\n",
       " 'FIRE',\n",
       " 'BNF',\n",
       " 'DITR',\n",
       " 'CBF',\n",
       " 'WLMIRL',\n",
       " 'ISTR',\n",
       " 'GSC',\n",
       " 'RLF',\n",
       " 'DW',\n",
       " 'LIS',\n",
       " 'EADD',\n",
       " 'YBF',\n",
       " 'ADVD',\n",
       " 'HTH',\n",
       " 'MMK',\n",
       " 'AMBW',\n",
       " 'OIC',\n",
       " 'NTK',\n",
       " 'SOP',\n",
       " 'BEOS',\n",
       " 'LWYS',\n",
       " 'AFAIR',\n",
       " 'TTYAWFN',\n",
       " 'HWEVR',\n",
       " 'NN',\n",
       " 'YEPPIES',\n",
       " 'WOMW',\n",
       " 'OCD',\n",
       " 'IHR',\n",
       " 'B4U',\n",
       " 'ROTFLOL',\n",
       " 'BBSL',\n",
       " 'WX',\n",
       " 'IANADBIPOOTV',\n",
       " 'TGIM',\n",
       " 'IANAC',\n",
       " 'NVM',\n",
       " 'VRBS',\n",
       " 'FTR',\n",
       " 'O',\n",
       " 'FF',\n",
       " 'SM',\n",
       " 'TBIU',\n",
       " 'ASAYGT',\n",
       " 'LRT',\n",
       " 'IOW',\n",
       " 'LJBF',\n",
       " 'SEX',\n",
       " 'C YA',\n",
       " 'TISC',\n",
       " 'FITYMI',\n",
       " '2',\n",
       " '2B~NOT2B',\n",
       " 'PSE',\n",
       " 'RNN',\n",
       " 'BTOIYA',\n",
       " '747',\n",
       " 'NE14KFC',\n",
       " 'PDQ',\n",
       " 'SOHO',\n",
       " 'YGM',\n",
       " 'KOTL',\n",
       " 'ASAMOF',\n",
       " 'G4I',\n",
       " 'POV',\n",
       " 'UDM',\n",
       " 'U4E',\n",
       " 'ABC',\n",
       " 'URZ',\n",
       " 'RU',\n",
       " 'AYFKMWTS',\n",
       " 'OAUS',\n",
       " 'STH',\n",
       " 'GLBT',\n",
       " 'LGGBDTTTIQQAAPP',\n",
       " 'TBA',\n",
       " 'EMRTW',\n",
       " 'C-P',\n",
       " 'SUYF',\n",
       " 'FB',\n",
       " 'DBABAI',\n",
       " 'OML',\n",
       " 'PARONYM',\n",
       " 'GTM',\n",
       " 'BHOF',\n",
       " 'PWN',\n",
       " 'IOUD',\n",
       " 'BFR',\n",
       " 'OTT',\n",
       " 'GN8',\n",
       " 'LGTM',\n",
       " 'DGTG',\n",
       " 'PICNIC',\n",
       " 'N',\n",
       " 'UWIWU',\n",
       " 'ITMFA',\n",
       " 'Q4U',\n",
       " 'LMP',\n",
       " 'SRLB',\n",
       " 'FOFL',\n",
       " 'BUHBYE',\n",
       " 'HUYA',\n",
       " 'TOM',\n",
       " 'SDFS',\n",
       " 'LOLOLOL',\n",
       " 'SDFB',\n",
       " 'SOME1',\n",
       " 'TWU',\n",
       " 'VOD',\n",
       " 'IGWST',\n",
       " 'URW',\n",
       " 'BIOIYA',\n",
       " 'SFB',\n",
       " 'JFC',\n",
       " 'GIC',\n",
       " 'TSTB',\n",
       " 'WYD',\n",
       " 'ABT2',\n",
       " 'QFT',\n",
       " 'AP',\n",
       " 'HOIC',\n",
       " 'IBTD',\n",
       " 'WYS',\n",
       " 'WENJA',\n",
       " 'SNAFU',\n",
       " 'IBIWISI',\n",
       " 'TWHE',\n",
       " 'MOOC',\n",
       " 'PTH',\n",
       " 'UNF',\n",
       " 'GAL',\n",
       " 'HAK',\n",
       " 'HUNTY',\n",
       " 'ICWUM',\n",
       " 'KYFC',\n",
       " 'SYL',\n",
       " 'ODTAA',\n",
       " 'AFK',\n",
       " 'BTSOOM',\n",
       " 'LSHITIPAL',\n",
       " 'SFP',\n",
       " 'GGPBL',\n",
       " 'ANFSCD',\n",
       " 'BITFOB',\n",
       " 'FTRF',\n",
       " '4EAE',\n",
       " 'WCW',\n",
       " 'CSABR',\n",
       " 'TIGAS',\n",
       " 'BBSD',\n",
       " 'OBS',\n",
       " 'PEBCAK',\n",
       " 'AYV',\n",
       " 'LFL',\n",
       " 'GMAB',\n",
       " 'HHFO',\n",
       " 'NFS',\n",
       " 'PMJI',\n",
       " 'UGTR',\n",
       " 'VBG',\n",
       " 'BWL',\n",
       " '1337',\n",
       " 'FROG',\n",
       " 'C/S',\n",
       " 'WG',\n",
       " 'INUCOSM',\n",
       " 'PP',\n",
       " 'SMEM',\n",
       " 'YIWGP',\n",
       " 'F4F',\n",
       " 'TMB',\n",
       " '1174',\n",
       " 'IWBNI',\n",
       " 'FKM',\n",
       " 'AFW',\n",
       " 'NE1ER',\n",
       " 'SROI',\n",
       " 'DGYF',\n",
       " 'RTA',\n",
       " 'J/P',\n",
       " 'IME',\n",
       " 'SANM',\n",
       " 'LAGNAF',\n",
       " 'SMART',\n",
       " 'IANAL',\n",
       " 'LL',\n",
       " 'MF',\n",
       " 'UMK',\n",
       " 'PAL',\n",
       " 'A/N',\n",
       " 'NWAL',\n",
       " 'LULU',\n",
       " 'TAKS',\n",
       " 'BRT',\n",
       " 'TTTKA',\n",
       " 'CTO',\n",
       " 'PC',\n",
       " 'NBS',\n",
       " 'LF',\n",
       " '88',\n",
       " 'STYS',\n",
       " 'MIA',\n",
       " 'IGGP',\n",
       " 'WACI',\n",
       " 'WRUD',\n",
       " 'AWGTHTGTTA',\n",
       " 'CBT',\n",
       " 'DSTR8',\n",
       " 'OC',\n",
       " 'HADVD',\n",
       " 'OD',\n",
       " 'VMA',\n",
       " 'BDC',\n",
       " 'OOS',\n",
       " 'WOTD',\n",
       " 'IAE',\n",
       " 'LOLROTF&ICGU',\n",
       " 'KMUF',\n",
       " 'WILB',\n",
       " 'D8',\n",
       " '/R/',\n",
       " 'MC',\n",
       " 'XAXA',\n",
       " 'FOE',\n",
       " 'LTIO',\n",
       " 'T2UT',\n",
       " 'GRRR',\n",
       " 'HF',\n",
       " 'ICBWICBM',\n",
       " 'SXE',\n",
       " 'IDBI',\n",
       " 'YSVW',\n",
       " 'IMML',\n",
       " 'ROTGL',\n",
       " 'GGN',\n",
       " 'HNTW',\n",
       " 'OBE',\n",
       " 'AMOSC',\n",
       " 'WAFS',\n",
       " 'PTAT',\n",
       " 'MT',\n",
       " 'OIRWIS',\n",
       " '86',\n",
       " 'TF',\n",
       " 'BDOA',\n",
       " 'CRAT',\n",
       " 'ANFAWFOS',\n",
       " 'SOGOP',\n",
       " 'X.X',\n",
       " 'DLTBBB',\n",
       " 'WD',\n",
       " 'SFTW',\n",
       " 'ITM',\n",
       " 'TINGTES',\n",
       " 'IFU',\n",
       " 'WTMI',\n",
       " 'SRO',\n",
       " 'NATCH',\n",
       " 'KYS',\n",
       " 'TRDMC',\n",
       " 'FYC',\n",
       " 'FYF',\n",
       " 'WE',\n",
       " 'VWD',\n",
       " 'FUD',\n",
       " 'MHOTY',\n",
       " 'HR',\n",
       " 'LOGO',\n",
       " 'EMBM',\n",
       " 'BION',\n",
       " 'RU\\\\\\\\18',\n",
       " 'HIH',\n",
       " 'YAF',\n",
       " 'GOMB',\n",
       " 'IJWTK',\n",
       " 'UR',\n",
       " 'YTRNW',\n",
       " 'EE OR EES',\n",
       " 'FAANGS',\n",
       " 'SOK',\n",
       " 'BMOF',\n",
       " 'NFF',\n",
       " 'NO',\n",
       " 'FOOT',\n",
       " 'LTM',\n",
       " 'H/P',\n",
       " 'DILLIGAS',\n",
       " 'V',\n",
       " 'ID',\n",
       " 'VBMG',\n",
       " 'AFIAA',\n",
       " 'BTDTGTS',\n",
       " 'OFC',\n",
       " 'BBQ',\n",
       " 'RTSS',\n",
       " 'SPOC',\n",
       " 'WYWH',\n",
       " 'MORF',\n",
       " 'D',\n",
       " 'NISM',\n",
       " 'SAPFU',\n",
       " 'WIIWII',\n",
       " 'SOZ',\n",
       " 'YWIA',\n",
       " 'AFAICT',\n",
       " 'GTL',\n",
       " 'TCK',\n",
       " 'FUM',\n",
       " 'FBOCD',\n",
       " '^URS',\n",
       " 'AAK',\n",
       " 'CBB',\n",
       " 'RTBM',\n",
       " 'SHMILY',\n",
       " 'SPAT',\n",
       " 'TANSTAAFL',\n",
       " 'NTABOM',\n",
       " 'CS&F',\n",
       " '187',\n",
       " 'IDK, MY BFF JILL',\n",
       " 'AWNIAC',\n",
       " 'YSDIW8',\n",
       " 'IIT',\n",
       " 'IMCO',\n",
       " 'NIMBY',\n",
       " 'TNLN',\n",
       " 'TPS',\n",
       " 'GOSPEL',\n",
       " 'R U DA?',\n",
       " 'HUGGLE',\n",
       " 'S',\n",
       " 'TMSGO',\n",
       " 'NLB',\n",
       " 'LUMTP',\n",
       " 'WLU2',\n",
       " 'TTTHTFAL',\n",
       " 'WOM',\n",
       " 'GRX',\n",
       " 'XC',\n",
       " 'LOK',\n",
       " 'BTHOOM',\n",
       " 'ADAD',\n",
       " 'ROFLMAO',\n",
       " 'DRCOWOTO',\n",
       " 'DINK',\n",
       " 'OTW',\n",
       " 'WYSILOB',\n",
       " 'TS',\n",
       " 'GMTA',\n",
       " 'SFETE',\n",
       " 'QQ',\n",
       " 'EOL',\n",
       " 'BOCTAAE',\n",
       " 'Y',\n",
       " 'BANANA',\n",
       " 'SHT',\n",
       " 'DIY',\n",
       " 'WHYDTM',\n",
       " 'DKDC',\n",
       " 'RTFM',\n",
       " 'BBIAF',\n",
       " 'GC',\n",
       " 'GTFOOH',\n",
       " 'IDWTUB',\n",
       " 'LYAAF',\n",
       " 'EAPFS',\n",
       " 'WMBY',\n",
       " 'IDGAF',\n",
       " 'LAQ',\n",
       " 'NIMY',\n",
       " 'PFA',\n",
       " 'XB',\n",
       " 'WTDB',\n",
       " 'CYA',\n",
       " 'IMPOV',\n",
       " 'CMB',\n",
       " 'I 1-D-R',\n",
       " 'MFD',\n",
       " 'HMFIC',\n",
       " 'FAITH',\n",
       " 'MWBRL',\n",
       " 'HOWRU',\n",
       " 'LIG',\n",
       " 'FDFF',\n",
       " 'CQRT',\n",
       " 'JOML',\n",
       " 'LBS',\n",
       " 'WWBA',\n",
       " 'DWWWI',\n",
       " 'BRO',\n",
       " 'GOK',\n",
       " 'FTL',\n",
       " 'IYAOYAS',\n",
       " 'IIWII',\n",
       " 'TFYS',\n",
       " 'TSTL',\n",
       " 'IM',\n",
       " 'BHIMBGO',\n",
       " 'N/M',\n",
       " 'MTSITN',\n",
       " 'RSVP',\n",
       " 'ICIHICPCL',\n",
       " 'SMIZE',\n",
       " 'WOA',\n",
       " 'MSMD',\n",
       " 'BIL',\n",
       " 'REDLYFE',\n",
       " 'XOXOZZZ',\n",
       " 'TOBAL',\n",
       " 'WITW',\n",
       " 'POMS',\n",
       " 'BF4L',\n",
       " 'NICE',\n",
       " 'JHOMF',\n",
       " 'KMP',\n",
       " 'OTOH',\n",
       " 'PCM',\n",
       " 'PLUR',\n",
       " 'MIRL',\n",
       " 'EMP',\n",
       " 'I <3 U',\n",
       " 'RESO',\n",
       " 'TOMTB',\n",
       " 'OTTOMH',\n",
       " 'FASB',\n",
       " 'W',\n",
       " 'SUFID',\n",
       " 'HAG1',\n",
       " 'AAAAA',\n",
       " 'SMH',\n",
       " 'BTW',\n",
       " '1432',\n",
       " 'TRP',\n",
       " 'TLC',\n",
       " 'CLM',\n",
       " 'WRT',\n",
       " 'COL',\n",
       " 'TSOB',\n",
       " 'AGB',\n",
       " 'TILII',\n",
       " 'DBA',\n",
       " 'LD',\n",
       " 'NE1',\n",
       " 'WRUDATM',\n",
       " 'B4',\n",
       " 'SMB',\n",
       " 'GUVMENT',\n",
       " 'ROR',\n",
       " 'FEAR',\n",
       " 'CTFU',\n",
       " 'RBTL',\n",
       " 'TIME',\n",
       " 'GAS',\n",
       " 'FYLTGE',\n",
       " 'J4F',\n",
       " 'ILY2',\n",
       " 'SII',\n",
       " 'TABOM',\n",
       " 'BON',\n",
       " 'S2U',\n",
       " 'WOT',\n",
       " 'YTTWROOMM',\n",
       " 'TTT',\n",
       " 'WIIFM',\n",
       " 'ADIP',\n",
       " 'QED',\n",
       " 'WAWI',\n",
       " 'BFD',\n",
       " 'DPS',\n",
       " 'AML',\n",
       " 'IMFAO',\n",
       " 'WCMTSU',\n",
       " 'CHLN',\n",
       " 'TFDS',\n",
       " 'D00D',\n",
       " 'ONNA',\n",
       " 'URWS',\n",
       " 'ESFOAD',\n",
       " 'AFT',\n",
       " 'FOL',\n",
       " 'BBR',\n",
       " 'N2MJCHBU',\n",
       " 'WILCO',\n",
       " 'WRM',\n",
       " 'DOEI',\n",
       " 'IGYHTBT',\n",
       " 'BAEB',\n",
       " 'CTFO',\n",
       " 'GDW',\n",
       " 'TLTR',\n",
       " 'MFBTY',\n",
       " 'WYT',\n",
       " 'LTF',\n",
       " 'AIH',\n",
       " 'HDM',\n",
       " 'JMDTP30',\n",
       " 'AYC',\n",
       " 'POTS',\n",
       " 'TANJ',\n",
       " '=',\n",
       " 'RMMA',\n",
       " 'RLRT',\n",
       " 'GF',\n",
       " 'FILO',\n",
       " 'KPC',\n",
       " 'DIKU',\n",
       " 'DEY',\n",
       " 'QLS',\n",
       " 'NUB',\n",
       " 'KOTC',\n",
       " 'FUBB',\n",
       " 'FYI',\n",
       " 'C4N',\n",
       " 'VIP',\n",
       " 'MBRFN',\n",
       " 'AF',\n",
       " 'AWC',\n",
       " 'JSO',\n",
       " 'FDU',\n",
       " 'VM',\n",
       " 'R&R',\n",
       " 'CD9',\n",
       " 'NIMJD',\n",
       " 'RN',\n",
       " 'PSO',\n",
       " 'AAMOF',\n",
       " 'DORD',\n",
       " 'IBRB',\n",
       " 'KIR',\n",
       " 'ISTM',\n",
       " 'SRSLY',\n",
       " 'LOLPMP',\n",
       " 'YNK',\n",
       " 'YNGBT',\n",
       " 'DBEYR',\n",
       " 'NTM',\n",
       " 'Z',\n",
       " 'FORD',\n",
       " 'ROTFL',\n",
       " 'ABCD',\n",
       " 'TTYIAF',\n",
       " 'EFFIN',\n",
       " 'GWI',\n",
       " 'R U GOIN?',\n",
       " 'MDR',\n",
       " 'WABI',\n",
       " 'TINWIS',\n",
       " 'IMOWHA',\n",
       " 'FCFS',\n",
       " 'OOTD',\n",
       " 'LIB',\n",
       " 'W/R/T',\n",
       " 'TWSS',\n",
       " 'ISSOYS',\n",
       " 'GLYASDI',\n",
       " 'FOAD',\n",
       " 'CC',\n",
       " 'LO',\n",
       " 'AB/ABT',\n",
       " 'FTE',\n",
       " 'LSB',\n",
       " 'U8',\n",
       " 'CIO',\n",
       " 'IDC',\n",
       " 'ITSFWI',\n",
       " 'CD',\n",
       " 'WAMBAM',\n",
       " 'PTPOP',\n",
       " 'FYE',\n",
       " 'TPTB',\n",
       " 'IYSWIM',\n",
       " 'INCYDK',\n",
       " 'DAFUQ',\n",
       " 'GIGATT',\n",
       " 'TAS',\n",
       " 'TTYLXOXO',\n",
       " 'LOL WUSS',\n",
       " 'CMAO',\n",
       " 'YGBK',\n",
       " 'GBP',\n",
       " 'EAK',\n",
       " ...}"
      ]
     },
     "execution_count": 11,
     "metadata": {},
     "output_type": "execute_result"
    }
   ],
   "source": [
    "slang = pd.read_json(\"myslang.json\", typ = \"series\")\n",
    "# slang.to_frame('count') #para convertir a DataFrame\n",
    "slang_df = slang.reset_index()\n",
    "slang_np = slang_df[\"index\"].to_numpy()\n",
    "slang_list = slang_np.tolist()\n",
    "slang_set = set(slang_list)\n",
    "slang_set"
   ]
  },
  {
   "cell_type": "code",
   "execution_count": 12,
   "metadata": {},
   "outputs": [],
   "source": [
    "#import re\n",
    "def translator(user_string):\n",
    "    user_string = user_string.split(\" \")\n",
    "    j = 0\n",
    "    for _str in user_string:\n",
    "        # Removiendo carácteres especiales\n",
    "        _str = re.sub('[^a-zA-Z0-9-_.]', '', _str)\n",
    "        _str = _str.upper()\n",
    "        # Checa si las palabras seleccionadas coinciden con las abreviaturas en el archivo de \"slang.txt\"\n",
    "        if _str in slang_set:\n",
    "                # Si encuentra una coincidencia, la reemplaza con su respectiva traducción\n",
    "                user_string[j] = slang[_str].lower()\n",
    "    j = j + 1\n",
    "    # Retorna la cadena corregida\n",
    "    return ' '.join(user_string)"
   ]
  },
  {
   "cell_type": "code",
   "execution_count": 13,
   "metadata": {},
   "outputs": [
    {
     "data": {
      "text/plain": [
       "14635    thank got different flight chicago.                                                                              \n",
       "14636    location 20 minutes late flight. warnings communication 15 minutes late flight. that's called shitty customer svc\n",
       "14637    please bring american airlines                                                                                   \n",
       "14638    money, change flight, answer phones! suggestions make commitment??                                               \n",
       "14639    for, four ppl need 2 know many seats next flight. plz put us standby 4 people next flight?                       \n",
       "Name: text, dtype: object"
      ]
     },
     "execution_count": 13,
     "metadata": {},
     "output_type": "execute_result"
    }
   ],
   "source": [
    "data_noSlang = data_noStopwords.apply(lambda x: translator(x))\n",
    "data_noSlang"
   ]
  },
  {
   "cell_type": "markdown",
   "metadata": {},
   "source": [
    "### Si los slangs hubieran estado en un TXT"
   ]
  },
  {
   "cell_type": "code",
   "execution_count": 14,
   "metadata": {},
   "outputs": [],
   "source": [
    "#import csv, rea"
   ]
  },
  {
   "cell_type": "code",
   "execution_count": 15,
   "metadata": {},
   "outputs": [],
   "source": [
    "# def translator(user_string):\n",
    "#     user_string = user_string.split(\" \")\n",
    "#     j = 0\n",
    "#     for _str in user_string:\n",
    "#         # Archivo con las abreviaturas y su traducción\n",
    "#         fileName = \"slang.txt\"\n",
    "#         # Modo de Acceso al archivo (lectura)\n",
    "#         accessMode = \"r\"\n",
    "#         with open(fileName, accessMode) as myCSVfile:\n",
    "#             # Leer un archivo como un CSV con delimitador como \"=\", para que la abreviacion sea guardada en row[0] y las frases en row[1]\n",
    "#             dataFromFile = csv.reader(myCSVfile, delimiter=\"=\")\n",
    "#             # Removiendo carácteres especiales\n",
    "#             _str = re.sub('[^a-zA-Z0-9-_.]', '', _str)\n",
    "#             for row in dataFromFile:\n",
    "#                 # Checa si las palabras seleccionadas coinciden con las abreviaturas en el archivo de \"slang.txt\"\n",
    "#                 if _str.upper() == row[0]:\n",
    "#                     # Si encuentra una coincidencia, la reemplaza con su respectiva traducción\n",
    "#                     user_string[j] = row[1].lower()\n",
    "#             myCSVfile.close()\n",
    "#         j = j + 1\n",
    "#     # Retorna la cadena corregida\n",
    "#     return ' '.join(user_string)"
   ]
  },
  {
   "cell_type": "code",
   "execution_count": 16,
   "metadata": {},
   "outputs": [],
   "source": [
    "#data_noSlang = data_noStopwords.apply(lambda x: translator(x))\n",
    "#data_noSlang"
   ]
  },
  {
   "cell_type": "markdown",
   "metadata": {},
   "source": [
    "## Reducción de carácteres repetidos"
   ]
  },
  {
   "cell_type": "markdown",
   "metadata": {},
   "source": [
    "Como \"haaapppyyyy\" a \"haappyy\""
   ]
  },
  {
   "cell_type": "code",
   "execution_count": 17,
   "metadata": {},
   "outputs": [
    {
     "data": {
      "text/plain": [
       "14635    thank got different flight chicago.                                                                              \n",
       "14636    location 20 minutes late flight. warnings communication 15 minutes late flight. that's called shitty customer svc\n",
       "14637    please bring american airlines                                                                                   \n",
       "14638    money, change flight, answer phones! suggestions make commitment??                                               \n",
       "14639    for, four ppl need 2 know many seats next flight. plz put us standby 4 people next flight?                       \n",
       "Name: text, dtype: object"
      ]
     },
     "execution_count": 17,
     "metadata": {},
     "output_type": "execute_result"
    }
   ],
   "source": [
    "data_noRepeated = data_noSlang.transform(lambda x: re.sub(r'(.)\\1+', r'\\1\\1', x))\n",
    "data_noRepeated"
   ]
  },
  {
   "cell_type": "markdown",
   "metadata": {},
   "source": [
    "## Stemming (volver a las palabras a su respectiva palabra raiz)"
   ]
  },
  {
   "cell_type": "markdown",
   "metadata": {},
   "source": [
    "Existen diferentes tipos de Stemmers, para el lenguaje Inglés,  podemos encontrar 2 de las más populares en la librería NLTK"
   ]
  },
  {
   "cell_type": "markdown",
   "metadata": {},
   "source": [
    "### Porter Stemmer"
   ]
  },
  {
   "cell_type": "markdown",
   "metadata": {},
   "source": [
    "Es conocido por su simplicidad y velocidad"
   ]
  },
  {
   "cell_type": "code",
   "execution_count": 18,
   "metadata": {},
   "outputs": [],
   "source": [
    "#from nltk.stem import PorterStemmer"
   ]
  },
  {
   "cell_type": "code",
   "execution_count": 19,
   "metadata": {},
   "outputs": [
    {
     "data": {
      "text/plain": [
       "14635    thank got differ flight chicago.                                                          \n",
       "14636    locat 20 minut late flight. warn commun 15 minut late flight. that' call shitti custom svc\n",
       "14637    pleas bring american airlin                                                               \n",
       "14638    money, chang flight, answer phones! suggest make commitment??                             \n",
       "14639    for, four ppl need 2 know mani seat next flight. plz put us standbi 4 peopl next flight?  \n",
       "Name: text, dtype: object"
      ]
     },
     "execution_count": 19,
     "metadata": {},
     "output_type": "execute_result"
    }
   ],
   "source": [
    "ps = PorterStemmer()\n",
    "data_PorterStemming = data_noRepeated.apply(lambda x: ' '.join([ps.stem(word) for word in x.split()]))\n",
    "data_PorterStemming"
   ]
  },
  {
   "cell_type": "markdown",
   "metadata": {},
   "source": [
    "### LancasterStemmer"
   ]
  },
  {
   "cell_type": "markdown",
   "metadata": {},
   "source": [
    "Es conocido por ser simple, pero tambien en ser muy duro al stemmizar, ya que realiza iteraciones y podría ocurrir una sobre-stemmización"
   ]
  },
  {
   "cell_type": "code",
   "execution_count": 20,
   "metadata": {},
   "outputs": [],
   "source": [
    "#from nltk.stem import LancasterStemmer"
   ]
  },
  {
   "cell_type": "code",
   "execution_count": 21,
   "metadata": {},
   "outputs": [
    {
     "data": {
      "text/plain": [
       "14635    thank got diff flight chicago.                                                         \n",
       "14636    loc 20 minut lat flight. warn commun 15 minut lat flight. that's cal shitty custom svc \n",
       "14637    pleas bring am airlin                                                                  \n",
       "14638    money, chang flight, answ phones! suggest mak commitment??                             \n",
       "14639    for, four ppl nee 2 know many seat next flight. plz put us standby 4 peopl next flight?\n",
       "Name: text, dtype: object"
      ]
     },
     "execution_count": 21,
     "metadata": {},
     "output_type": "execute_result"
    }
   ],
   "source": [
    "ls = LancasterStemmer()\n",
    "data_LancasterStemming = data_noRepeated.apply(lambda x: ' '.join([ls.stem(word) for word in x.split()]))\n",
    "data_LancasterStemming"
   ]
  },
  {
   "cell_type": "markdown",
   "metadata": {},
   "source": [
    "Sin embargo, ambos stemmers por si solos devuelven la cadena completa como si se tratara de una palabra:\n",
    "\n",
    "' plu ad commerc experience.. tacky.'\n",
    "\n",
    "Cuando debería ser:\n",
    "\n",
    "['plu' 'ad' 'commerc' 'experience' 'tacky']\n",
    "\n",
    "Para lograr ello realizamos una \"Tokenización\""
   ]
  },
  {
   "cell_type": "markdown",
   "metadata": {},
   "source": [
    "## Tokenización"
   ]
  },
  {
   "cell_type": "markdown",
   "metadata": {},
   "source": [
    "### Porter Stemmer"
   ]
  },
  {
   "cell_type": "code",
   "execution_count": 22,
   "metadata": {},
   "outputs": [
    {
     "name": "stderr",
     "output_type": "stream",
     "text": [
      "[nltk_data] Downloading package punkt to\n",
      "[nltk_data]     C:\\Users\\GIYELI\\AppData\\Roaming\\nltk_data...\n",
      "[nltk_data]   Package punkt is already up-to-date!\n"
     ]
    },
    {
     "data": {
      "text/plain": [
       "14635    [thank, got, differ, flight, chicago]                                                           \n",
       "14636    [locat, 20, minut, late, flight, commun, 15, minut, late, flight, 's, call, shitti, custom, svc]\n",
       "14637    [pleas, bring, american, airlin]                                                                \n",
       "14638    [money, flight, phone, make, commit]                                                            \n",
       "14639    [for, ppl, need, 2, know, mani, seat, next, flight, put, us, standbi, 4, peopl, next, flight]   \n",
       "Name: text, dtype: object"
      ]
     },
     "execution_count": 22,
     "metadata": {},
     "output_type": "execute_result"
    }
   ],
   "source": [
    "nltk.download('punkt')\n",
    "#from nltk.tokenize import sent_tokenize, word_tokenize\n",
    "def stemOracion(oracion):\n",
    "    token_words = word_tokenize(oracion)\n",
    "    token_words\n",
    "    stem_sentence = []\n",
    "    punctuations = \"?:!.,;\"\n",
    "    for word in token_words:\n",
    "        if word in punctuations:\n",
    "            token_words.remove(word)\n",
    "            continue\n",
    "        stem_sentence.append(ps.stem(word))\n",
    "    return stem_sentence\n",
    "\n",
    "\n",
    "porter_stemmer_tokenized = data_noRepeated.apply(lambda x: stemOracion(x))\n",
    "porter_stemmer_tokenized"
   ]
  },
  {
   "cell_type": "markdown",
   "metadata": {},
   "source": [
    "### Lancaster Stemmer"
   ]
  },
  {
   "cell_type": "code",
   "execution_count": 23,
   "metadata": {},
   "outputs": [
    {
     "name": "stderr",
     "output_type": "stream",
     "text": [
      "[nltk_data] Downloading package punkt to\n",
      "[nltk_data]     C:\\Users\\GIYELI\\AppData\\Roaming\\nltk_data...\n",
      "[nltk_data]   Package punkt is already up-to-date!\n"
     ]
    },
    {
     "data": {
      "text/plain": [
       "14635    [thank, got, diff, flight, chicago]                                                         \n",
       "14636    [loc, 20, minut, lat, flight, commun, 15, minut, lat, flight, 's, cal, shitty, custom, svc] \n",
       "14637    [pleas, bring, am, airlin]                                                                  \n",
       "14638    [money, flight, phon, mak, commit]                                                          \n",
       "14639    [for, ppl, nee, 2, know, many, seat, next, flight, put, us, standby, 4, peopl, next, flight]\n",
       "Name: text, dtype: object"
      ]
     },
     "execution_count": 23,
     "metadata": {},
     "output_type": "execute_result"
    }
   ],
   "source": [
    "nltk.download('punkt')\n",
    "#from nltk.tokenize import sent_tokenize, word_tokenize\n",
    "def stemOracion(oracion):\n",
    "    token_words = word_tokenize(oracion)\n",
    "    token_words\n",
    "    stem_sentence = []\n",
    "    punctuations = \"?:!.,;\"\n",
    "    for word in token_words:\n",
    "        if word in punctuations:\n",
    "            token_words.remove(word)\n",
    "            continue\n",
    "        stem_sentence.append(ls.stem(word))\n",
    "    return stem_sentence\n",
    "\n",
    "\n",
    "porter_stemmer_tokenized = data_noRepeated.apply(lambda x: stemOracion(x))\n",
    "porter_stemmer_tokenized"
   ]
  },
  {
   "cell_type": "markdown",
   "metadata": {},
   "source": [
    "## Lemmatization (es el Stemming pero con otro proceso)"
   ]
  },
  {
   "cell_type": "markdown",
   "metadata": {},
   "source": [
    "Se desarrollara el Lemmatization para ver si con este proceso se obtienen mejores resultados. El siguiente código tambien incluye la Tokenización"
   ]
  },
  {
   "cell_type": "code",
   "execution_count": 24,
   "metadata": {},
   "outputs": [
    {
     "name": "stderr",
     "output_type": "stream",
     "text": [
      "[nltk_data] Downloading package wordnet to\n",
      "[nltk_data]     C:\\Users\\GIYELI\\AppData\\Roaming\\nltk_data...\n",
      "[nltk_data]   Package wordnet is already up-to-date!\n"
     ]
    },
    {
     "data": {
      "text/plain": [
       "14635    [thank, get, different, flight, chicago]                                                                        \n",
       "14636    [location, 20, minutes, late, flight, communication, 15, minutes, late, flight, 's, call, shitty, customer, svc]\n",
       "14637    [please, bring, american, airlines]                                                                             \n",
       "14638    [money, flight, phone, make, commitment]                                                                        \n",
       "14639    [for, ppl, need, 2, know, many, seat, next, flight, put, us, standby, 4, people, next, flight]                  \n",
       "Name: text, dtype: object"
      ]
     },
     "execution_count": 24,
     "metadata": {},
     "output_type": "execute_result"
    }
   ],
   "source": [
    "#Fuente: https://www.datacamp.com/community/tutorials/stemming-lemmatization-python\n",
    "#from nltk.stem import WordNetLemmatizer\n",
    "nltk.download('wordnet')\n",
    "\n",
    "def lemmatization(oracion):\n",
    "    wordnet_lemmatizer = WordNetLemmatizer()\n",
    "    punctuations = \"?:!.,;$\\\"\\'\\´\\``\\”\\“\\''\"\n",
    "    resultado = []\n",
    "    sentence_words = nltk.word_tokenize(oracion)\n",
    "    for word in sentence_words:\n",
    "        if word in punctuations:\n",
    "            sentence_words.remove(word)\n",
    "            continue\n",
    "        resultado.append(wordnet_lemmatizer.lemmatize(word, pos=\"v\"))\n",
    "    return resultado\n",
    "\n",
    "data_lemmatized = data_noRepeated.apply(lambda x: lemmatization(x))\n",
    "data_lemmatized"
   ]
  },
  {
   "cell_type": "markdown",
   "metadata": {},
   "source": [
    "## Part Of Speech Tagging (POS)"
   ]
  },
  {
   "cell_type": "markdown",
   "metadata": {},
   "source": [
    "Sirve para etiquetar cada palabra en la oración como verbo, sustantivo o pronombre, etc."
   ]
  },
  {
   "cell_type": "code",
   "execution_count": 25,
   "metadata": {},
   "outputs": [
    {
     "name": "stderr",
     "output_type": "stream",
     "text": [
      "[nltk_data] Downloading package averaged_perceptron_tagger to\n",
      "[nltk_data]     C:\\Users\\GIYELI\\AppData\\Roaming\\nltk_data...\n",
      "[nltk_data]   Package averaged_perceptron_tagger is already up-to-\n",
      "[nltk_data]       date!\n"
     ]
    },
    {
     "data": {
      "text/plain": [
       "14635    [(thank, NN), (got, VBD), (different, JJ), (flight, NN), (chicago, NN), (., .)]                                                                                                                                                                              \n",
       "14636    [(location, NN), (20, CD), (minutes, NNS), (late, JJ), (flight, NN), (., .), (warnings, NNS), (communication, NN), (15, CD), (minutes, NNS), (late, JJ), (flight, NN), (., .), (that, DT), ('s, VBZ), (called, VBN), (shitty, JJ), (customer, NN), (svc, NN)]\n",
       "14637    [(please, NN), (bring, VB), (american, JJ), (airlines, NNS)]                                                                                                                                                                                                 \n",
       "14638    [(money, NN), (,, ,), (change, NN), (flight, NN), (,, ,), (answer, JJR), (phones, NNS), (!, .), (suggestions, NNS), (make, VBP), (commitment, NN), (?, .), (?, .)]                                                                                           \n",
       "14639    [(for, IN), (,, ,), (four, CD), (ppl, NN), (need, VBP), (2, CD), (know, VBP), (many, JJ), (seats, NNS), (next, JJ), (flight, NN), (., .), (plz, NN), (put, VBD), (us, PRP), (standby, VB), (4, CD), (people, NNS), (next, JJ), (flight, NN), (?, .)]         \n",
       "Name: text, dtype: object"
      ]
     },
     "execution_count": 25,
     "metadata": {},
     "output_type": "execute_result"
    }
   ],
   "source": [
    "#Fuente: https://towardsdatascience.com/basic-data-cleaning-engineering-session-twitter-sentiment-data-95e5bd2869ec\n",
    "nltk.download('averaged_perceptron_tagger')\n",
    "data_POS = data_noRepeated.apply(lambda x: nltk.pos_tag(nltk.word_tokenize(x)))\n",
    "data_POS"
   ]
  },
  {
   "cell_type": "markdown",
   "metadata": {},
   "source": [
    "# Feature Extraction"
   ]
  },
  {
   "cell_type": "markdown",
   "metadata": {},
   "source": [
    "\"En este caso, puedes definir una característica por cada palabra, indicando si el documento contiene esa palabra. Para ponerle un número limite de características que el clasificador necesita procesar, se empieza por construir una lista de las 2000 palabras mas frecuentes en el corpus en general\"\n",
    "\n",
    "Fuente: http://www.nltk.org/book/ch06.html"
   ]
  },
  {
   "cell_type": "markdown",
   "metadata": {},
   "source": [
    "Primero necesitamos hacer una lista de todas las palabras (**Bag of Words**)\n",
    "\n",
    "Como tengo un objeto de tipo \"Series\" de pandas, primero necesito convertirlo a una lista, para crear así, una **lista de listas**"
   ]
  },
  {
   "cell_type": "code",
   "execution_count": 26,
   "metadata": {},
   "outputs": [],
   "source": [
    "l = data_lemmatized.tolist()\n",
    "# data_lemmatized_prepared = data_lemmatized.apply(lambda x: ' '.join(x))\n",
    "# data_lemmatized_prepared"
   ]
  },
  {
   "cell_type": "markdown",
   "metadata": {},
   "source": [
    "Y crear una lista con todas las palabras, iterando la lista de listas y adjuntandolas a una nueva lista unidimensional"
   ]
  },
  {
   "cell_type": "code",
   "execution_count": 27,
   "metadata": {},
   "outputs": [],
   "source": [
    "all_words = [item for sublist in l for item in sublist]"
   ]
  },
  {
   "cell_type": "code",
   "execution_count": 28,
   "metadata": {},
   "outputs": [],
   "source": [
    "#all_words"
   ]
  },
  {
   "cell_type": "code",
   "execution_count": 29,
   "metadata": {},
   "outputs": [],
   "source": [
    "# Definir el feature extractor\n",
    "\n",
    "# Utilizar FreqDist para encontrar las palabras más utilizadas en todos los documentos\n",
    "all_words_freq = nltk.FreqDist(all_words)\n",
    "\n",
    "# Y tomar los primeros 2000\n",
    "word_features = list(all_words_freq)[:2000]\n",
    "\n",
    "def document_features(document):\n",
    "    document_words = set(document)\n",
    "    features = {}\n",
    "    for word in word_features:\n",
    "        features['contains({})'.format(word)] = (word in document_words)\n",
    "    return features"
   ]
  },
  {
   "cell_type": "markdown",
   "metadata": {},
   "source": [
    "### Bag of Words"
   ]
  },
  {
   "cell_type": "code",
   "execution_count": 30,
   "metadata": {},
   "outputs": [],
   "source": [
    "#word_features"
   ]
  },
  {
   "cell_type": "markdown",
   "metadata": {},
   "source": [
    "## Ejecutando la funcion"
   ]
  },
  {
   "cell_type": "code",
   "execution_count": 31,
   "metadata": {},
   "outputs": [],
   "source": [
    "#document_features(word_features)"
   ]
  },
  {
   "cell_type": "markdown",
   "metadata": {},
   "source": [
    "## Pivoteo"
   ]
  },
  {
   "cell_type": "markdown",
   "metadata": {},
   "source": [
    "Ahora necesitamos crear una estructura en donde las filas sean los documentos y las columnas cada palabra en ese documento con su respectiva clasificación"
   ]
  },
  {
   "cell_type": "markdown",
   "metadata": {},
   "source": [
    "### Convertir los valores de Sentiment a 0 y 1"
   ]
  },
  {
   "cell_type": "code",
   "execution_count": 32,
   "metadata": {},
   "outputs": [],
   "source": [
    "sentiment = data[\"airline_sentiment\"].replace(to_replace=[\"positive\",\"neutral\",\"negative\"], value=[1,0,-1])\n",
    "#sentiment"
   ]
  },
  {
   "cell_type": "markdown",
   "metadata": {},
   "source": [
    "### Eliminar Columnas inecesarias"
   ]
  },
  {
   "cell_type": "markdown",
   "metadata": {},
   "source": [
    "De esta manera solo conservamos las columnas que queremos tener"
   ]
  },
  {
   "cell_type": "code",
   "execution_count": 33,
   "metadata": {},
   "outputs": [],
   "source": [
    "bag_sentiment = pd.DataFrame(dict(data_lemmatized = data_lemmatized, sentiment = sentiment))\n",
    "#bag_sentiment"
   ]
  },
  {
   "cell_type": "code",
   "execution_count": 34,
   "metadata": {},
   "outputs": [],
   "source": [
    "bag = bag_sentiment.values.tolist()\n",
    "feature_sets = [(document_features(d), c) for (d,c) in bag]\n",
    "train_set, test_set = feature_sets[100:], feature_sets[:100]\n",
    "#classifier = nltk.NaiveBayesClassifier.train(train_set)"
   ]
  },
  {
   "cell_type": "code",
   "execution_count": 35,
   "metadata": {},
   "outputs": [],
   "source": [
    "#pd.DataFrame(test_set)"
   ]
  },
  {
   "cell_type": "code",
   "execution_count": null,
   "metadata": {},
   "outputs": [],
   "source": []
  }
 ],
 "metadata": {
  "kernelspec": {
   "display_name": "Python 3",
   "language": "python",
   "name": "python3"
  },
  "language_info": {
   "codemirror_mode": {
    "name": "ipython",
    "version": 3
   },
   "file_extension": ".py",
   "mimetype": "text/x-python",
   "name": "python",
   "nbconvert_exporter": "python",
   "pygments_lexer": "ipython3",
   "version": "3.7.3"
  }
 },
 "nbformat": 4,
 "nbformat_minor": 2
}
