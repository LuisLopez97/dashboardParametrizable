{
 "cells": [
  {
   "cell_type": "markdown",
   "metadata": {},
   "source": [
    "# Feature Extraction"
   ]
  },
  {
   "cell_type": "markdown",
   "metadata": {},
   "source": [
    "\"En este caso, puedes definir una característica por cada palabra, indicando si el documento contiene esa palabra. Para ponerle un número limite de características que el clasificador necesita procesar, se empieza por construir una lista de las 2000 palabras mas frecuentes en el corpus en general\"\n",
    "\n",
    "Fuente: http://www.nltk.org/book/ch06.html"
   ]
  },
  {
   "cell_type": "markdown",
   "metadata": {},
   "source": [
    "Primero necesitamos hacer una lista de todas las palabras (**Bag of Words**)\n",
    "\n",
    "Como tengo un objeto de tipo \"Series\" de pandas, primero necesito convertirlo a una lista, para crear así, una **lista de listas**"
   ]
  },
  {
   "cell_type": "markdown",
   "metadata": {},
   "source": [
    "## Lectura de CSV"
   ]
  },
  {
   "cell_type": "code",
   "execution_count": 1,
   "metadata": {},
   "outputs": [],
   "source": [
    "# Importacion de librerias\n",
    "import numpy as np\n",
    "import pandas as pd\n",
    "import nltk\n",
    "import seaborn as sns\n",
    "import csv\n",
    "# Permite desplegar el texto completo en Jupyter\n",
    "pd.set_option('display.max_colwidth', -1)"
   ]
  },
  {
   "cell_type": "code",
   "execution_count": 2,
   "metadata": {},
   "outputs": [
    {
     "data": {
      "text/plain": [
       "Index(['data_lemmatized', 'sentiment'], dtype='object')"
      ]
     },
     "execution_count": 2,
     "metadata": {},
     "output_type": "execute_result"
    }
   ],
   "source": [
    "# Lectura de CSV\n",
    "data = pd.read_csv(\"data_lemmatized.csv\")\n",
    "#data.head(20) # Muestra los datos\n",
    "data_lemmatized = data[\"data_lemmatized\"]\n",
    "data.keys()"
   ]
  },
  {
   "cell_type": "markdown",
   "metadata": {},
   "source": [
    "## Series to List"
   ]
  },
  {
   "cell_type": "code",
   "execution_count": 3,
   "metadata": {},
   "outputs": [],
   "source": [
    "l = data_lemmatized.tolist()\n",
    "# data_lemmatized_prepared = data_lemmatized.apply(lambda x: ' '.join(x))\n",
    "# data_lemmatized_prepared"
   ]
  },
  {
   "cell_type": "markdown",
   "metadata": {},
   "source": [
    "Y crear una lista con todas las palabras, iterando la lista de listas y adjuntandolas a una nueva lista unidimensional"
   ]
  },
  {
   "cell_type": "markdown",
   "metadata": {},
   "source": [
    "## Bag of Words"
   ]
  },
  {
   "cell_type": "code",
   "execution_count": 4,
   "metadata": {},
   "outputs": [],
   "source": [
    "# Extraer todas las palabras\n",
    "all_words = []\n",
    "for linea in l:\n",
    "    lista = str(linea).split()\n",
    "    all_words += lista\n",
    "    \n",
    "# Utilizar FreqDist para encontrar las palabras más utilizadas en todos los documentos\n",
    "all_words_freq = nltk.FreqDist(all_words)\n",
    "\n",
    "# Y tomar los primeros 2000\n",
    "word_features = list(all_words_freq)[:2000]"
   ]
  },
  {
   "cell_type": "markdown",
   "metadata": {},
   "source": [
    "## Feature Extractor: Contador de frecuencia de palabra por texto"
   ]
  },
  {
   "cell_type": "code",
   "execution_count": 5,
   "metadata": {},
   "outputs": [],
   "source": [
    "# Definir el feature extractor\n",
    "def document_features(document):\n",
    "    document_words = set(document)\n",
    "    features = {}\n",
    "    for word in word_features:\n",
    "        features['contains({})'.format(word)] = (word in document_words)\n",
    "    return features"
   ]
  },
  {
   "cell_type": "markdown",
   "metadata": {},
   "source": [
    "## Conjunto de Entrenamiento"
   ]
  },
  {
   "cell_type": "code",
   "execution_count": 6,
   "metadata": {},
   "outputs": [],
   "source": [
    "# Conjunto de pruebas\n",
    "porcentaje = int(len(data_lemmatized) * .20)"
   ]
  },
  {
   "cell_type": "code",
   "execution_count": 7,
   "metadata": {},
   "outputs": [],
   "source": [
    "train_set, test_set = data[porcentaje:], data[:porcentaje]"
   ]
  },
  {
   "cell_type": "markdown",
   "metadata": {},
   "source": [
    "# Upsampling"
   ]
  },
  {
   "cell_type": "markdown",
   "metadata": {},
   "source": [
    "Como apreciaremos acontinuación, hay mucha polaridad a los tweets negativos. Tenemos que estabilizarlo agregando más tweets positivos y neutros. \n",
    "\n",
    "Esto es, duplicando ciertos tweets hasta llegar a los mismos que los negativos."
   ]
  },
  {
   "cell_type": "code",
   "execution_count": 8,
   "metadata": {},
   "outputs": [
    {
     "data": {
      "text/plain": [
       "-1    62.192623\n",
       " 0    21.431011\n",
       " 1    16.376366\n",
       "Name: sentiment, dtype: float64"
      ]
     },
     "execution_count": 8,
     "metadata": {},
     "output_type": "execute_result"
    }
   ],
   "source": [
    "train_set['sentiment'].value_counts(normalize=True)*100"
   ]
  },
  {
   "cell_type": "code",
   "execution_count": 9,
   "metadata": {},
   "outputs": [
    {
     "data": {
      "text/plain": [
       "<matplotlib.axes._subplots.AxesSubplot at 0x1d342cd4e48>"
      ]
     },
     "execution_count": 9,
     "metadata": {},
     "output_type": "execute_result"
    },
    {
     "data": {
      "image/png": "[encoded data removed]",
      "text/plain": [
       "<Figure size 432x288 with 1 Axes>"
      ]
     },
     "metadata": {
      "needs_background": "light"
     },
     "output_type": "display_data"
    }
   ],
   "source": [
    "sns.countplot(x=\"sentiment\", data=train_set)"
   ]
  },
  {
   "cell_type": "markdown",
   "metadata": {},
   "source": [
    "## Resampling con Sklearn"
   ]
  },
  {
   "cell_type": "code",
   "execution_count": 10,
   "metadata": {},
   "outputs": [],
   "source": [
    "contador_sentimientos = train_set['sentiment'].value_counts()\n",
    "mayor = contador_sentimientos.max()\n",
    "#if(contador_sentimientos[-1] )\n",
    "for items in contador_sentimientos.iteritems():\n",
    "    if items[1] == mayor:\n",
    "        sentimiento_mayor = items[0]\n",
    "        \n",
    "del(contador_sentimientos[sentimiento_mayor])\n",
    "lista_contador_sentimientos = contador_sentimientos.keys()"
   ]
  },
  {
   "cell_type": "code",
   "execution_count": 11,
   "metadata": {},
   "outputs": [
    {
     "data": {
      "text/plain": [
       "-1    7284\n",
       " 1    7284\n",
       " 0    7284\n",
       "Name: sentiment, dtype: int64"
      ]
     },
     "execution_count": 11,
     "metadata": {},
     "output_type": "execute_result"
    }
   ],
   "source": [
    "from sklearn.utils import resample\n",
    "# Separate majority and minority classes\n",
    "df_majority = train_set[train_set.sentiment == sentimiento_mayor]\n",
    "df_minority_1 = train_set[train_set.sentiment == lista_contador_sentimientos[0]]\n",
    "df_minority_2 = train_set[train_set.sentiment == lista_contador_sentimientos[1]]\n",
    " \n",
    "# Upsample minority class\n",
    "df_upsampled_1 = resample(df_minority_1, \n",
    "                                 replace=True,     # sample with replacement\n",
    "                                 n_samples=mayor,    # to match majority class\n",
    "                                 random_state=123) # reproducible results\n",
    "\n",
    "df_upsampled_2 = resample(df_minority_2, \n",
    "                                 replace=True,     # sample with replacement\n",
    "                                 n_samples=mayor,    # to match majority class\n",
    "                                 random_state=123) # reproducible results\n",
    " \n",
    "# Combine majority class with upsampled minority class\n",
    "train_upsampled = pd.concat([df_majority, df_upsampled_1, df_upsampled_2])\n",
    " \n",
    "# Display new class counts\n",
    "train_upsampled[\"sentiment\"].value_counts()"
   ]
  },
  {
   "cell_type": "code",
   "execution_count": 12,
   "metadata": {},
   "outputs": [
    {
     "data": {
      "text/plain": [
       "<matplotlib.axes._subplots.AxesSubplot at 0x1d342daa6d8>"
      ]
     },
     "execution_count": 12,
     "metadata": {},
     "output_type": "execute_result"
    },
    {
     "data": {
      "image/png": "[encoded data removed]",
      "text/plain": [
       "<Figure size 432x288 with 1 Axes>"
      ]
     },
     "metadata": {
      "needs_background": "light"
     },
     "output_type": "display_data"
    }
   ],
   "source": [
    "sns.countplot(x=\"sentiment\", data=train_upsampled)"
   ]
  },
  {
   "cell_type": "markdown",
   "metadata": {},
   "source": [
    "# Conjunto de Entrenamiento y de Prueba para el Feature Extractor"
   ]
  },
  {
   "cell_type": "code",
   "execution_count": 13,
   "metadata": {},
   "outputs": [],
   "source": [
    "train = train_upsampled.values.tolist()\n",
    "test = test_set.values.tolist()\n",
    "train_feature_sets = [(document_features(str(d)), c) for (d,c) in train]\n",
    "test_feature_sets = [(document_features(str(d)), c) for (d,c) in test]"
   ]
  },
  {
   "cell_type": "code",
   "execution_count": 14,
   "metadata": {},
   "outputs": [
    {
     "data": {
      "text/html": [
       "<div>\n",
       "<style scoped>\n",
       "    .dataframe tbody tr th:only-of-type {\n",
       "        vertical-align: middle;\n",
       "    }\n",
       "\n",
       "    .dataframe tbody tr th {\n",
       "        vertical-align: top;\n",
       "    }\n",
       "\n",
       "    .dataframe thead th {\n",
       "        text-align: right;\n",
       "    }\n",
       "</style>\n",
       "<table border=\"1\" class=\"dataframe\">\n",
       "  <thead>\n",
       "    <tr style=\"text-align: right;\">\n",
       "      <th></th>\n",
       "      <th>0</th>\n",
       "      <th>1</th>\n",
       "    </tr>\n",
       "  </thead>\n",
       "  <tbody>\n",
       "    <tr>\n",
       "      <th>0</th>\n",
       "      <td>{'contains(say)': False, 'contains(plus)': False, 'contains(add)': False, 'contains(commercials)': False, 'contains(experience)': False, 'contains(tacky)': False, 'contains(today)': False, 'contains(must)': False, 'contains(mean)': False, 'contains(need)': False, 'contains(take)': False, 'contains(another)': False, 'contains(trip)': False, 'contains(really)': False, 'contains(aggressive)': False, 'contains(blast)': False, 'contains(obnoxious)': False, 'contains(entertainment)': False, 'contains(guests)': False, 'contains(face)': False, 'contains(amp)': False, 'contains(little)': False, 'contains(recourse)': False, 'contains(big)': False, 'contains(bad)': False, 'contains(thing)': False, 'contains(seriously)': False, 'contains(would)': False, 'contains(pay)': False, 'contains(flight)': False, 'contains(seat)': False, 'contains(playingits)': False, 'contains(fly)': False, 'contains(va)': False, 'contains(yes)': False, 'contains(nearly)': False, 'contains(every)': False, 'contains(time)': False, 'contains(vx)': False, 'contains(ear)': False, 'contains(worm)': False, 'contains(go)': False, 'contains(away)': False, 'contains(smiley)': False, 'contains(miss)': False, 'contains(prime)': False, 'contains(opportunity)': False, 'contains(men)': False, 'contains(without)': False, 'contains(hat)': False, 'contains(parody)': False, 'contains(well)': False, 'contains(didntbut)': False, 'contains(amaze)': False, 'contains(arrive)': False, 'contains(hour)': False, 'contains(early)': False, 'contains(youre)': False, 'contains(good)': False, 'contains(know)': False, 'contains(suicide)': False, 'contains(second)': False, 'contains(lead)': False, 'contains(cause)': False, 'contains(death)': False, 'contains(among)': False, 'contains(teens)': False, 'contains(lt)': False, 'contains(pretty)': False, 'contains(graphics)': False, 'contains(much)': False, 'contains(better)': False, 'contains(minimal)': False, 'contains(iconography)': False, 'contains(great)': False, 'contains(deal)': False, 'contains(already)': False, 'contains(think)': False, 'contains(nd)': False, 'contains(even)': False, 'contains(st)': False, 'contains(yet)': False, 'contains(playful)': False, 'contains(sky)': False, 'contains(travel)': False, 'contains(thank)': False, 'contains(sfopdx)': False, 'contains(schedule)': False, 'contains(still)': False, 'contains(action)': False, 'contains(excite)': False, 'contains(first)': False, 'contains(cross)': False, 'contains(country)': False, 'contains(lax)': False, 'contains(mco)': False, 'contains(hear)': False, 'contains(nothing)': False, 'contains(things)': False, 'contains(virgin)': False, ...}</td>\n",
       "      <td>-1</td>\n",
       "    </tr>\n",
       "  </tbody>\n",
       "</table>\n",
       "</div>"
      ],
      "text/plain": [
       "                                                                                                                                                                                                                                                                                                                                                                                                                                                                                                                                                                                                                                                                                                                                                                                                                                                                                                                                                                                                                                                                                                                                                                                                                                                                                                                                                                                                                                                                                                                                                                                                                                                                                                                                                                                                                                                                                                                                                                                                                                                                                                                                                                                                                                                                                                                                                                                                                                                                                                                                                                                                                                                                                                                                        0  \\\n",
       "0  {'contains(say)': False, 'contains(plus)': False, 'contains(add)': False, 'contains(commercials)': False, 'contains(experience)': False, 'contains(tacky)': False, 'contains(today)': False, 'contains(must)': False, 'contains(mean)': False, 'contains(need)': False, 'contains(take)': False, 'contains(another)': False, 'contains(trip)': False, 'contains(really)': False, 'contains(aggressive)': False, 'contains(blast)': False, 'contains(obnoxious)': False, 'contains(entertainment)': False, 'contains(guests)': False, 'contains(face)': False, 'contains(amp)': False, 'contains(little)': False, 'contains(recourse)': False, 'contains(big)': False, 'contains(bad)': False, 'contains(thing)': False, 'contains(seriously)': False, 'contains(would)': False, 'contains(pay)': False, 'contains(flight)': False, 'contains(seat)': False, 'contains(playingits)': False, 'contains(fly)': False, 'contains(va)': False, 'contains(yes)': False, 'contains(nearly)': False, 'contains(every)': False, 'contains(time)': False, 'contains(vx)': False, 'contains(ear)': False, 'contains(worm)': False, 'contains(go)': False, 'contains(away)': False, 'contains(smiley)': False, 'contains(miss)': False, 'contains(prime)': False, 'contains(opportunity)': False, 'contains(men)': False, 'contains(without)': False, 'contains(hat)': False, 'contains(parody)': False, 'contains(well)': False, 'contains(didntbut)': False, 'contains(amaze)': False, 'contains(arrive)': False, 'contains(hour)': False, 'contains(early)': False, 'contains(youre)': False, 'contains(good)': False, 'contains(know)': False, 'contains(suicide)': False, 'contains(second)': False, 'contains(lead)': False, 'contains(cause)': False, 'contains(death)': False, 'contains(among)': False, 'contains(teens)': False, 'contains(lt)': False, 'contains(pretty)': False, 'contains(graphics)': False, 'contains(much)': False, 'contains(better)': False, 'contains(minimal)': False, 'contains(iconography)': False, 'contains(great)': False, 'contains(deal)': False, 'contains(already)': False, 'contains(think)': False, 'contains(nd)': False, 'contains(even)': False, 'contains(st)': False, 'contains(yet)': False, 'contains(playful)': False, 'contains(sky)': False, 'contains(travel)': False, 'contains(thank)': False, 'contains(sfopdx)': False, 'contains(schedule)': False, 'contains(still)': False, 'contains(action)': False, 'contains(excite)': False, 'contains(first)': False, 'contains(cross)': False, 'contains(country)': False, 'contains(lax)': False, 'contains(mco)': False, 'contains(hear)': False, 'contains(nothing)': False, 'contains(things)': False, 'contains(virgin)': False, ...}   \n",
       "\n",
       "   1  \n",
       "0 -1  "
      ]
     },
     "execution_count": 14,
     "metadata": {},
     "output_type": "execute_result"
    }
   ],
   "source": [
    "pd.DataFrame(train_feature_sets).head(1)"
   ]
  },
  {
   "cell_type": "markdown",
   "metadata": {},
   "source": [
    "# Entrenamiento"
   ]
  },
  {
   "cell_type": "code",
   "execution_count": 15,
   "metadata": {},
   "outputs": [],
   "source": [
    "classifier = nltk.NaiveBayesClassifier.train(train_feature_sets)"
   ]
  },
  {
   "cell_type": "markdown",
   "metadata": {},
   "source": [
    "# Evaluación"
   ]
  },
  {
   "cell_type": "code",
   "execution_count": 16,
   "metadata": {},
   "outputs": [
    {
     "name": "stdout",
     "output_type": "stream",
     "text": [
      "0.539275956284153\n"
     ]
    }
   ],
   "source": [
    "print(nltk.classify.accuracy(classifier, test_feature_sets))"
   ]
  },
  {
   "cell_type": "markdown",
   "metadata": {},
   "source": [
    "## Características más informativas"
   ]
  },
  {
   "cell_type": "code",
   "execution_count": 17,
   "metadata": {},
   "outputs": [
    {
     "name": "stdout",
     "output_type": "stream",
     "text": [
      "Most Informative Features\n",
      "             contains(e) = False               1 : -1     =      5.8 : 1.0\n",
      "             contains(n) = False               0 : -1     =      2.3 : 1.0\n",
      "             contains(c) = False               1 : -1     =      1.9 : 1.0\n",
      "             contains(k) = False               0 : 1      =      1.8 : 1.0\n",
      "             contains(h) = False               0 : 1      =      1.8 : 1.0\n",
      "             contains(g) = False               0 : -1     =      1.7 : 1.0\n",
      "             contains(k) = True                1 : 0      =      1.5 : 1.0\n",
      "             contains(x) = True               -1 : 0      =      1.5 : 1.0\n",
      "             contains(v) = True               -1 : 0      =      1.4 : 1.0\n",
      "             contains(b) = True               -1 : 1      =      1.3 : 1.0\n",
      "             contains(c) = True               -1 : 1      =      1.3 : 1.0\n",
      "             contains(q) = True                0 : -1     =      1.3 : 1.0\n",
      "             contains(b) = False               1 : -1     =      1.3 : 1.0\n",
      "             contains(g) = True               -1 : 0      =      1.3 : 1.0\n",
      "             contains(h) = True                1 : 0      =      1.2 : 1.0\n",
      "             contains(v) = False               0 : -1     =      1.2 : 1.0\n",
      "             contains(n) = True               -1 : 0      =      1.1 : 1.0\n",
      "             contains(w) = False               0 : -1     =      1.1 : 1.0\n",
      "             contains(w) = True               -1 : 0      =      1.1 : 1.0\n",
      "             contains(e) = True               -1 : 1      =      1.1 : 1.0\n",
      "             contains(x) = False               0 : -1     =      1.1 : 1.0\n",
      "             contains(q) = False              -1 : 0      =      1.0 : 1.0\n",
      "          contains(fund) = False               1 : -1     =      1.0 : 1.0\n",
      "         contains(delta) = False               1 : -1     =      1.0 : 1.0\n",
      "         contains(stick) = False               1 : -1     =      1.0 : 1.0\n",
      "          contains(serv) = False               1 : -1     =      1.0 : 1.0\n",
      "        contains(repeat) = False               1 : -1     =      1.0 : 1.0\n",
      "          contains(hang) = False               1 : -1     =      1.0 : 1.0\n",
      "      contains(globalfc) = False               1 : -1     =      1.0 : 1.0\n",
      "          contains(past) = False               1 : -1     =      1.0 : 1.0\n",
      "          contains(dmed) = False               1 : -1     =      1.0 : 1.0\n",
      "           contains(jan) = False               1 : -1     =      1.0 : 1.0\n",
      "           contains(fll) = False               1 : -1     =      1.0 : 1.0\n",
      "    contains(negligence) = False               1 : -1     =      1.0 : 1.0\n",
      "           contains(man) = False               1 : -1     =      1.0 : 1.0\n",
      " contains(inconvenience) = False               1 : -1     =      1.0 : 1.0\n",
      "          contains(glad) = False               1 : -1     =      1.0 : 1.0\n",
      "     contains(gateagain) = False               1 : -1     =      1.0 : 1.0\n",
      "         contains(media) = False               1 : -1     =      1.0 : 1.0\n",
      "      contains(classics) = False               1 : -1     =      1.0 : 1.0\n",
      "         contains(thanx) = False               1 : -1     =      1.0 : 1.0\n",
      "            contains(pm) = False               1 : -1     =      1.0 : 1.0\n",
      "       contains(deliver) = False               1 : -1     =      1.0 : 1.0\n",
      "      contains(recourse) = False               1 : -1     =      1.0 : 1.0\n",
      "         contains(whole) = False               1 : -1     =      1.0 : 1.0\n",
      "        contains(travel) = False               1 : -1     =      1.0 : 1.0\n",
      "           contains(nyc) = False               1 : -1     =      1.0 : 1.0\n",
      "       contains(couldnt) = False               1 : -1     =      1.0 : 1.0\n",
      "      contains(actually) = False               1 : -1     =      1.0 : 1.0\n",
      "        contains(bubbly) = False               1 : -1     =      1.0 : 1.0\n",
      "         contains(would) = False               1 : -1     =      1.0 : 1.0\n",
      "      contains(carriers) = False               1 : -1     =      1.0 : 1.0\n",
      "     contains(yearround) = False               1 : -1     =      1.0 : 1.0\n",
      "          contains(wont) = False               1 : -1     =      1.0 : 1.0\n",
      "           contains(ugh) = False               1 : -1     =      1.0 : 1.0\n",
      "       contains(strange) = False               1 : -1     =      1.0 : 1.0\n",
      "      contains(superior) = False               1 : -1     =      1.0 : 1.0\n",
      "          contains(paul) = False               1 : -1     =      1.0 : 1.0\n",
      "         contains(flier) = False               1 : -1     =      1.0 : 1.0\n",
      "           contains(tea) = False               1 : -1     =      1.0 : 1.0\n",
      "   contains(appropriate) = False               1 : -1     =      1.0 : 1.0\n",
      "        contains(manner) = False               1 : -1     =      1.0 : 1.0\n",
      "           contains(nah) = False               1 : -1     =      1.0 : 1.0\n",
      "           contains(dfw) = False               1 : -1     =      1.0 : 1.0\n",
      "          contains(hand) = False               1 : -1     =      1.0 : 1.0\n",
      "        contains(square) = False               1 : -1     =      1.0 : 1.0\n",
      "        contains(giants) = False               1 : -1     =      1.0 : 1.0\n",
      "         contains(small) = False               1 : -1     =      1.0 : 1.0\n",
      "           contains(set) = False               1 : -1     =      1.0 : 1.0\n",
      "       contains(flightd) = False               1 : -1     =      1.0 : 1.0\n",
      "         contains(bench) = False               1 : -1     =      1.0 : 1.0\n",
      "         contains(shift) = False               1 : -1     =      1.0 : 1.0\n",
      "           contains(phn) = False               1 : -1     =      1.0 : 1.0\n",
      "          contains(room) = False               1 : -1     =      1.0 : 1.0\n",
      "    contains(subsequent) = False               1 : -1     =      1.0 : 1.0\n",
      "          contains(woaw) = False               1 : -1     =      1.0 : 1.0\n",
      "           contains(dia) = False               1 : -1     =      1.0 : 1.0\n",
      "    contains(legitimate) = False               1 : -1     =      1.0 : 1.0\n",
      "           contains(rnp) = False               1 : -1     =      1.0 : 1.0\n",
      "     contains(statusand) = False               1 : -1     =      1.0 : 1.0\n",
      "       contains(elevate) = False               1 : -1     =      1.0 : 1.0\n",
      "   contains(unavailable) = False               1 : -1     =      1.0 : 1.0\n",
      "          contains(beat) = False               1 : -1     =      1.0 : 1.0\n",
      "         contains(local) = False               1 : -1     =      1.0 : 1.0\n",
      "          contains(wife) = False               1 : -1     =      1.0 : 1.0\n",
      "       contains(umpteen) = False               1 : -1     =      1.0 : 1.0\n",
      "         contains(share) = False               1 : -1     =      1.0 : 1.0\n",
      "        contains(blazer) = False               1 : -1     =      1.0 : 1.0\n",
      "        contains(expand) = False               1 : -1     =      1.0 : 1.0\n",
      "          contains(late) = False               1 : -1     =      1.0 : 1.0\n",
      "          contains(rout) = False               1 : -1     =      1.0 : 1.0\n",
      "    contains(ridiculous) = False               1 : -1     =      1.0 : 1.0\n",
      "       contains(imagine) = False               1 : -1     =      1.0 : 1.0\n",
      "   contains(consecutive) = False               1 : -1     =      1.0 : 1.0\n",
      "        contains(kickin) = False               1 : -1     =      1.0 : 1.0\n",
      "       contains(outlets) = False               1 : -1     =      1.0 : 1.0\n",
      "          contains(vein) = False               1 : -1     =      1.0 : 1.0\n",
      "          contains(name) = False               1 : -1     =      1.0 : 1.0\n",
      "        contains(eriewr) = False               1 : -1     =      1.0 : 1.0\n",
      "       contains(persist) = False               1 : -1     =      1.0 : 1.0\n"
     ]
    }
   ],
   "source": [
    "classifier.show_most_informative_features(100)"
   ]
  },
  {
   "cell_type": "code",
   "execution_count": null,
   "metadata": {},
   "outputs": [],
   "source": []
  }
 ],
 "metadata": {
  "kernelspec": {
   "display_name": "Python 3",
   "language": "python",
   "name": "python3"
  },
  "language_info": {
   "codemirror_mode": {
    "name": "ipython",
    "version": 3
   },
   "file_extension": ".py",
   "mimetype": "text/x-python",
   "name": "python",
   "nbconvert_exporter": "python",
   "pygments_lexer": "ipython3",
   "version": "3.7.3"
  }
 },
 "nbformat": 4,
 "nbformat_minor": 2
}
