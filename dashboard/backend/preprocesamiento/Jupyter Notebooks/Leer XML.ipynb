{
 "cells": [
  {
   "cell_type": "markdown",
   "metadata": {},
   "source": [
    "# Leer XML (manual)"
   ]
  },
  {
   "cell_type": "code",
   "execution_count": 2,
   "metadata": {},
   "outputs": [],
   "source": [
    "import pandas as pd\n",
    "import xml.etree.ElementTree as et \n",
    "\n",
    "xtree = et.parse(\"tweets_es_interTASS.xml\")\n",
    "xroot = xtree.getroot()\n",
    "\n",
    "df_cols = [\"tweetid\", \"user\", \"content\", \"date\", \"lang\", \"sentiment\"]\n",
    "rows = []\n",
    "pd.set_option('display.max_colwidth', -1)"
   ]
  },
  {
   "cell_type": "code",
   "execution_count": 44,
   "metadata": {},
   "outputs": [],
   "source": [
    "for node in xroot: \n",
    "    t_id = node.find(\"tweetid\").text\n",
    "    t_user = node.find(\"user\").text\n",
    "    t_content = node.find(\"content\").text\n",
    "    t_date = node.find(\"date\").text\n",
    "    t_lang = node.find(\"lang\").text\n",
    "    t_sentiment = node.find(\"./sentiment/polarity/value\").text\n",
    "    \n",
    "    rows.append({\"tweetid\": t_id, \"user\":t_user, \"content\": t_content, \"date\": t_date, \"lang\": t_lang, \"sentiment\": t_sentiment})\n",
    "    out_df = pd.DataFrame(rows, columns=df_cols)"
   ]
  },
  {
   "cell_type": "code",
   "execution_count": 48,
   "metadata": {},
   "outputs": [],
   "source": [
    "out_df.to_csv(\"tweets_TAAS.csv\", index = None, header=True)"
   ]
  },
  {
   "cell_type": "markdown",
   "metadata": {},
   "source": [
    "# Funcion general"
   ]
  },
  {
   "cell_type": "code",
   "execution_count": 50,
   "metadata": {},
   "outputs": [],
   "source": [
    "import pandas as pd\n",
    "import xml.etree.ElementTree as et\n",
    "\n",
    "def parse_XML(xml_file, df_cols): \n",
    "    \"\"\"Parse the input XML file and store the result in a pandas \n",
    "    DataFrame with the given columns. \n",
    "    \n",
    "    The first element of df_cols is supposed to be the identifier \n",
    "    variable, which is an attribute of each node element in the \n",
    "    XML data; other features will be parsed from the text content \n",
    "    of each sub-element. \n",
    "    \"\"\"\n",
    "    \n",
    "    xtree = et.parse(xml_file)\n",
    "    xroot = xtree.getroot()\n",
    "    rows = []\n",
    "    \n",
    "    for node in xroot: \n",
    "        res = []\n",
    "        for el in df_cols: \n",
    "            if node is not None and node.find(el) is not None:\n",
    "                if el == df_cols[-1]:\n",
    "                    res.append(node.find(\"./sentiments/polarity/value\").text)\n",
    "                else:\n",
    "                    res.append(node.find(el).text)\n",
    "            else: \n",
    "                res.append(None)\n",
    "        rows.append({df_cols[i]: res[i] \n",
    "                     for i, _ in enumerate(df_cols)})\n",
    "    \n",
    "    out_df = pd.DataFrame(rows, columns=df_cols)\n",
    "        \n",
    "    return out_df"
   ]
  },
  {
   "cell_type": "code",
   "execution_count": 52,
   "metadata": {},
   "outputs": [],
   "source": [
    "df_cols = [\"tweetid\", \"user\", \"content\", \"date\", \"lang\", \"sentiments\"]\n",
    "out_df = parse_XML(\"tweets_es_TASS2012.xml\", df_cols)"
   ]
  },
  {
   "cell_type": "code",
   "execution_count": 53,
   "metadata": {},
   "outputs": [
    {
     "data": {
      "text/plain": [
       "Index(['tweetid', 'user', 'content', 'date', 'lang', 'sentiment'], dtype='object')"
      ]
     },
     "execution_count": 53,
     "metadata": {},
     "output_type": "execute_result"
    }
   ],
   "source": [
    "out_df.rename(columns = {\"sentiments\": \"sentiment\"}, inplace =True)\n",
    "out_df.columns"
   ]
  },
  {
   "cell_type": "code",
   "execution_count": 54,
   "metadata": {},
   "outputs": [
    {
     "data": {
      "text/html": [
       "<div>\n",
       "<style scoped>\n",
       "    .dataframe tbody tr th:only-of-type {\n",
       "        vertical-align: middle;\n",
       "    }\n",
       "\n",
       "    .dataframe tbody tr th {\n",
       "        vertical-align: top;\n",
       "    }\n",
       "\n",
       "    .dataframe thead th {\n",
       "        text-align: right;\n",
       "    }\n",
       "</style>\n",
       "<table border=\"1\" class=\"dataframe\">\n",
       "  <thead>\n",
       "    <tr style=\"text-align: right;\">\n",
       "      <th></th>\n",
       "      <th>tweetid</th>\n",
       "      <th>user</th>\n",
       "      <th>content</th>\n",
       "      <th>date</th>\n",
       "      <th>lang</th>\n",
       "      <th>sentiment</th>\n",
       "    </tr>\n",
       "  </thead>\n",
       "  <tbody>\n",
       "    <tr>\n",
       "      <th>0</th>\n",
       "      <td>142389495503925248</td>\n",
       "      <td>ccifuentes</td>\n",
       "      <td>Salgo de #VeoTV , que día más largoooooo...</td>\n",
       "      <td>2011-12-02T00:47:55</td>\n",
       "      <td>es</td>\n",
       "      <td>NONE</td>\n",
       "    </tr>\n",
       "    <tr>\n",
       "      <th>1</th>\n",
       "      <td>142389933619945473</td>\n",
       "      <td>CarmendelRiego</td>\n",
       "      <td>@PauladeLasHeras No te libraras de ayudar me/nos. Besos y gracias</td>\n",
       "      <td>2011-12-02T00:49:40</td>\n",
       "      <td>es</td>\n",
       "      <td>NEU</td>\n",
       "    </tr>\n",
       "    <tr>\n",
       "      <th>2</th>\n",
       "      <td>142391947707940864</td>\n",
       "      <td>CarmendelRiego</td>\n",
       "      <td>@marodriguezb Gracias MAR</td>\n",
       "      <td>2011-12-02T00:57:40</td>\n",
       "      <td>es</td>\n",
       "      <td>P</td>\n",
       "    </tr>\n",
       "    <tr>\n",
       "      <th>3</th>\n",
       "      <td>142416095012339712</td>\n",
       "      <td>mgilguerrero</td>\n",
       "      <td>Off pensando en el regalito Sinde, la que se va de la SGAE cuando se van sus corruptos. Intento no sacar conclusiones (lo intento)</td>\n",
       "      <td>2011-12-02T02:33:37</td>\n",
       "      <td>es</td>\n",
       "      <td>N</td>\n",
       "    </tr>\n",
       "    <tr>\n",
       "      <th>4</th>\n",
       "      <td>142422495721562112</td>\n",
       "      <td>paurubio</td>\n",
       "      <td>Conozco a alguien q es adicto al drama! Ja ja ja te suena d algo!</td>\n",
       "      <td>2011-12-02T02:59:03</td>\n",
       "      <td>es</td>\n",
       "      <td>P</td>\n",
       "    </tr>\n",
       "    <tr>\n",
       "      <th>5</th>\n",
       "      <td>142424715175280640</td>\n",
       "      <td>paurubio</td>\n",
       "      <td>RT @FabHddzC: Si amas a alguien, déjalo libre. Si grita ese hombre es mío era @paurubio...</td>\n",
       "      <td>2011-12-02T03:07:52</td>\n",
       "      <td>es</td>\n",
       "      <td>NONE</td>\n",
       "    </tr>\n",
       "    <tr>\n",
       "      <th>6</th>\n",
       "      <td>142483342040907776</td>\n",
       "      <td>Carlos_Latre</td>\n",
       "      <td>Toca @crackoviadeTV3 . Grabación dl especial Navideño...Mari crismas!</td>\n",
       "      <td>2011-12-02T07:00:50</td>\n",
       "      <td>es</td>\n",
       "      <td>P</td>\n",
       "    </tr>\n",
       "    <tr>\n",
       "      <th>7</th>\n",
       "      <td>142493511634259968</td>\n",
       "      <td>Ignacos</td>\n",
       "      <td>Hoy asisitiré en Madrid a un seminario sobre la Estrategia Española de Seguridad organizado por FAES.</td>\n",
       "      <td>2011-12-02T07:41:15</td>\n",
       "      <td>es</td>\n",
       "      <td>NONE</td>\n",
       "    </tr>\n",
       "    <tr>\n",
       "      <th>8</th>\n",
       "      <td>142494476051562496</td>\n",
       "      <td>nacho_uriarte</td>\n",
       "      <td>Buen día todos! Lo primero mandar un abrazo grande a Miguel y a su familia @libertadmontes Hoy podría ser un día para la grandeza humana.</td>\n",
       "      <td>2011-12-02T07:45:05</td>\n",
       "      <td>es</td>\n",
       "      <td>P</td>\n",
       "    </tr>\n",
       "    <tr>\n",
       "      <th>9</th>\n",
       "      <td>142496796416016384</td>\n",
       "      <td>JuanraLucas</td>\n",
       "      <td>Desde el escaño. Todo listo para empezar #endiascomohoy en el Congreso http://t.co/Mu2yIgCb</td>\n",
       "      <td>2011-12-02T07:54:19</td>\n",
       "      <td>es</td>\n",
       "      <td>P</td>\n",
       "    </tr>\n",
       "  </tbody>\n",
       "</table>\n",
       "</div>"
      ],
      "text/plain": [
       "              tweetid            user  \\\n",
       "0  142389495503925248  ccifuentes       \n",
       "1  142389933619945473  CarmendelRiego   \n",
       "2  142391947707940864  CarmendelRiego   \n",
       "3  142416095012339712  mgilguerrero     \n",
       "4  142422495721562112  paurubio         \n",
       "5  142424715175280640  paurubio         \n",
       "6  142483342040907776  Carlos_Latre     \n",
       "7  142493511634259968  Ignacos          \n",
       "8  142494476051562496  nacho_uriarte    \n",
       "9  142496796416016384  JuanraLucas      \n",
       "\n",
       "                                                                                                                                     content  \\\n",
       "0  Salgo de #VeoTV , que día más largoooooo...                                                                                                 \n",
       "1  @PauladeLasHeras No te libraras de ayudar me/nos. Besos y gracias                                                                           \n",
       "2  @marodriguezb Gracias MAR                                                                                                                   \n",
       "3  Off pensando en el regalito Sinde, la que se va de la SGAE cuando se van sus corruptos. Intento no sacar conclusiones (lo intento)          \n",
       "4  Conozco a alguien q es adicto al drama! Ja ja ja te suena d algo!                                                                           \n",
       "5  RT @FabHddzC: Si amas a alguien, déjalo libre. Si grita ese hombre es mío era @paurubio...                                                  \n",
       "6  Toca @crackoviadeTV3 . Grabación dl especial Navideño...Mari crismas!                                                                       \n",
       "7  Hoy asisitiré en Madrid a un seminario sobre la Estrategia Española de Seguridad organizado por FAES.                                       \n",
       "8  Buen día todos! Lo primero mandar un abrazo grande a Miguel y a su familia @libertadmontes Hoy podría ser un día para la grandeza humana.   \n",
       "9  Desde el escaño. Todo listo para empezar #endiascomohoy en el Congreso http://t.co/Mu2yIgCb                                                 \n",
       "\n",
       "                  date lang sentiment  \n",
       "0  2011-12-02T00:47:55  es   NONE      \n",
       "1  2011-12-02T00:49:40  es   NEU       \n",
       "2  2011-12-02T00:57:40  es   P         \n",
       "3  2011-12-02T02:33:37  es   N         \n",
       "4  2011-12-02T02:59:03  es   P         \n",
       "5  2011-12-02T03:07:52  es   NONE      \n",
       "6  2011-12-02T07:00:50  es   P         \n",
       "7  2011-12-02T07:41:15  es   NONE      \n",
       "8  2011-12-02T07:45:05  es   P         \n",
       "9  2011-12-02T07:54:19  es   P         "
      ]
     },
     "execution_count": 54,
     "metadata": {},
     "output_type": "execute_result"
    }
   ],
   "source": [
    "out_df.to_csv(\"tweets_TASS_General.csv\", index = None, header=True)\n",
    "df = pd.read_csv(\"tweets_TASS_General.csv\")\n",
    "df.head(10)"
   ]
  },
  {
   "cell_type": "code",
   "execution_count": 26,
   "metadata": {},
   "outputs": [
    {
     "name": "stdout",
     "output_type": "stream",
     "text": [
      "(506, 6)\n"
     ]
    }
   ],
   "source": [
    "print(df.shape)"
   ]
  },
  {
   "cell_type": "markdown",
   "metadata": {},
   "source": [
    "# Juntar los conjuntos de entrenamiento y pruebas "
   ]
  },
  {
   "cell_type": "markdown",
   "metadata": {},
   "source": [
    "## Juntar los train set"
   ]
  },
  {
   "cell_type": "code",
   "execution_count": 55,
   "metadata": {},
   "outputs": [],
   "source": [
    "tweets_general_df = pd.read_csv(\"tweets_TASS_General.csv\")"
   ]
  },
  {
   "cell_type": "code",
   "execution_count": 56,
   "metadata": {},
   "outputs": [],
   "source": [
    "tweets_intertass_es_df = pd.read_csv(\"tweets_interTAAS_Train_ES.csv\")"
   ]
  },
  {
   "cell_type": "code",
   "execution_count": 57,
   "metadata": {},
   "outputs": [],
   "source": [
    "tweets_intertass_cr_df = pd.read_csv(\"tweets_interTAAS_Train_CR.csv\")"
   ]
  },
  {
   "cell_type": "code",
   "execution_count": 58,
   "metadata": {},
   "outputs": [],
   "source": [
    "tweets_intertass_pe_df = pd.read_csv(\"tweets_interTAAS_Train_PE.csv\")"
   ]
  },
  {
   "cell_type": "code",
   "execution_count": 59,
   "metadata": {},
   "outputs": [
    {
     "name": "stdout",
     "output_type": "stream",
     "text": [
      "(7219, 6)\n",
      "(1008, 6)\n",
      "(800, 6)\n",
      "(1000, 6)\n"
     ]
    }
   ],
   "source": [
    "print(tweets_general_df.shape)\n",
    "print(tweets_intertass_es_df.shape)\n",
    "print(tweets_intertass_cr_df.shape)\n",
    "print(tweets_intertass_pe_df.shape)"
   ]
  },
  {
   "cell_type": "code",
   "execution_count": 60,
   "metadata": {},
   "outputs": [
    {
     "data": {
      "text/plain": [
       "(10027, 6)"
      ]
     },
     "execution_count": 60,
     "metadata": {},
     "output_type": "execute_result"
    }
   ],
   "source": [
    "tweets_es = tweets_general_df.append(tweets_intertass_es_df).append(tweets_intertass_cr_df).append(tweets_intertass_pe_df)\n",
    "tweets_es.shape"
   ]
  },
  {
   "cell_type": "code",
   "execution_count": 61,
   "metadata": {},
   "outputs": [],
   "source": [
    "tweets_es.to_csv(\"tweets_es.csv\", index = None, header=True)"
   ]
  },
  {
   "cell_type": "code",
   "execution_count": null,
   "metadata": {},
   "outputs": [],
   "source": []
  }
 ],
 "metadata": {
  "kernelspec": {
   "display_name": "Python 3",
   "language": "python",
   "name": "python3"
  },
  "language_info": {
   "codemirror_mode": {
    "name": "ipython",
    "version": 3
   },
   "file_extension": ".py",
   "mimetype": "text/x-python",
   "name": "python",
   "nbconvert_exporter": "python",
   "pygments_lexer": "ipython3",
   "version": "3.7.3"
  }
 },
 "nbformat": 4,
 "nbformat_minor": 2
}
