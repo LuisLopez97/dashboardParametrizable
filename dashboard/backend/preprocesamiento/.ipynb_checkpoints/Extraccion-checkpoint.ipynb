{
 "cells": [
  {
   "cell_type": "markdown",
   "metadata": {},
   "source": [
    "# Extracción de Tweets con Tweepy"
   ]
  },
  {
   "cell_type": "code",
   "execution_count": 1,
   "metadata": {},
   "outputs": [],
   "source": [
    "#Librerias\n",
    "import csv\n",
    "import tweepy\n",
    "import json\n",
    "from tweepy import Stream\n",
    "from tweepy.streaming import StreamListener"
   ]
  },
  {
   "cell_type": "markdown",
   "metadata": {},
   "source": [
    "## Autentificación para acceder a Twitter por medio de las credenciales"
   ]
  },
  {
   "cell_type": "code",
   "execution_count": 2,
   "metadata": {},
   "outputs": [],
   "source": [
    "consumer_key = \"hzv8CF7qvlGXvelOOIDOLXvyS\" \n",
    "consumer_secret= \"WxSn72jW90sP4FL9MEIKPmdbZi8WaPSRwOyN9TwLiE1lrYcecJ\" \n",
    "\n",
    "access_token = \"1166089196215422976-FBSUbTOiTBqXzFH9frP827kfDksGZy\"\n",
    "access_token_secret = \"Jrce99HJeSxA6Mh9sjRTbb8XsuKrOshdMMCrGYyeGwE9F\"\n",
    "\n",
    "auth = tweepy.OAuthHandler(consumer_key, consumer_secret)\n",
    "auth.set_access_token(access_token, access_token_secret)\n",
    "\n",
    "api = tweepy.API(auth)"
   ]
  },
  {
   "cell_type": "markdown",
   "metadata": {},
   "source": [
    "## Recolección con escuchador y guardar a CSV"
   ]
  },
  {
   "cell_type": "code",
   "execution_count": 3,
   "metadata": {},
   "outputs": [],
   "source": [
    "class CustomStreamListener(tweepy.StreamListener):\n",
    "    \n",
    "    def on_status(self, status):\n",
    "        text = \"\"\n",
    "        if hasattr(status, \"retweeted_status\"):\n",
    "            if hasattr(status.retweeted_status, \"extended_tweet\"):\n",
    "                text = status.retweeted_status.extended_tweet[\"full_text\"]\n",
    "            else:\n",
    "                text = status.retweeted_status.text\n",
    "        elif hasattr(status, \"extended_tweet\"):\n",
    "            text = status.extended_tweet[\"full_text\"]\n",
    "        else:\n",
    "            text = status.text\n",
    "                \n",
    "        with open('file.csv', 'a', encoding='utf-8', newline='') as f: \n",
    "            print(status.author.screen_name, status.created_at, text)\n",
    "            writer = csv.writer(f)\n",
    "            writer.writerow([status.author.screen_name, status.created_at, text])\n",
    "\n",
    "\n",
    "    def on_error(self, status_code):\n",
    "        print(sys.stderr, 'Encountered error with status code:', status_code)\n",
    "        return True # Don't kill the stream\n",
    "\n",
    "    def on_timeout(self):\n",
    "        print(sys.stderr, 'Timeout...')\n",
    "        return True # Don't kill the stream"
   ]
  },
  {
   "cell_type": "markdown",
   "metadata": {},
   "source": [
    "## Iniciailzar recolección con palabra definida por el usuario"
   ]
  },
  {
   "cell_type": "code",
   "execution_count": 4,
   "metadata": {},
   "outputs": [
    {
     "name": "stdout",
     "output_type": "stream",
     "text": [
      "Introduzca el hashtag:  #Fortnite\n",
      "Nyt_Ram 2019-10-17 22:53:53 It always shocks me with how fucking good people are at this game. #Fortnite\n",
      "r6s_anime 2019-10-17 22:53:55 バトルパスギフトします‼️\n",
      "【応募方法】\n",
      "1このアカウントをフォロー＋リツイート\n",
      "2YouTubeのチャンネル登録 \n",
      "3できればMildomのフォローもお願いします！\n",
      "応募は上の1.2で完了です！3してくれたら嬉しい😊\n",
      "#Fortnite\n",
      "#フォートナイト\n",
      "チャンネルは下に貼ってます！\n",
      "↓↓↓↓↓↓↓↓↓↓↓↓↓↓↓\n",
      "KnivesOutmaster 2019-10-17 22:54:00 Fortnite2マップ巡り！botがバグる！ https://t.co/lWzIfhqdLY @YouTubeさんから\n",
      "#Fortnite #フォートナイト\n",
      "aplsticbag 2019-10-17 22:54:01 These actually were not bots lmao #Fortnite #FortniteChapter2 #FortniteSeason11 https://t.co/HJ64B6gugU\n",
      "BlazedRTs 2019-10-17 22:54:03 Fortnite Chapter 2! back to back wins\n",
      "\n",
      "https://t.co/3QVbR1ux47\n",
      "\n",
      "#Fortnite \n",
      "\n",
      "@ImLiveRT\n",
      "\n",
      "@ShoutGamers\n",
      "\n",
      "@GFXCoach\n",
      "\n",
      "@FameRTR\n",
      "\n",
      "@RSG_Retweet\n",
      "\n",
      "@SGH_RTs\n",
      "\n",
      "@Mighty_RTs\n",
      "\n",
      "@ScrimFinder\n",
      "\n",
      "@CAE_RT\n",
      "\n",
      "@BlazedRTs\n",
      "\n",
      "@FearRTs\n",
      "\n",
      "@SmallStreamersR \n",
      "\n",
      "@ShoutRTs\n",
      "\n",
      "@SocialGamingHub\n",
      "\n",
      "@SupStreamers\n",
      "SGH_RTs 2019-10-17 22:54:04 Fortnite Chapter 2! back to back wins\n",
      "\n",
      "https://t.co/3QVbR1ux47\n",
      "\n",
      "#Fortnite \n",
      "\n",
      "@ImLiveRT\n",
      "\n",
      "@ShoutGamers\n",
      "\n",
      "@GFXCoach\n",
      "\n",
      "@FameRTR\n",
      "\n",
      "@RSG_Retweet\n",
      "\n",
      "@SGH_RTs\n",
      "\n",
      "@Mighty_RTs\n",
      "\n",
      "@ScrimFinder\n",
      "\n",
      "@CAE_RT\n",
      "\n",
      "@BlazedRTs\n",
      "\n",
      "@FearRTs\n",
      "\n",
      "@SmallStreamersR \n",
      "\n",
      "@ShoutRTs\n",
      "\n",
      "@SocialGamingHub\n",
      "\n",
      "@SupStreamers\n",
      "BongManz2nd 2019-10-17 22:54:04 10$ PAYPAL GIVEAWAY!\n",
      "\n",
      "To Enter:\n",
      "\n",
      "&gt;Follow @MPMadDog\n",
      " \n",
      "&gt;Follow https://t.co/iW5Jgedv6J\n",
      "\n",
      "&gt;Tag 2 friends!\n",
      "\n",
      "&gt;Like and RT this tweet!\n",
      "\n",
      "Need to follow so i can DM\n",
      "----------------------------------\n",
      "\n",
      "Winners will be picked in 24 Hours.\n",
      "\n",
      "GOOD LUCK!!!\n",
      "#Fortnite #FortniteChapter2 #Giveaway https://t.co/b1w77rD4eR\n",
      "icesoda_float 2019-10-17 22:54:06 フォートナイトやってる方、絡みに行きます\n",
      "フォロバします！\n",
      "\n",
      "お願い\n",
      "・フォロー\n",
      "・このツイートをRT\n",
      "\n",
      "お返し\n",
      "・フォロバ\n",
      "・固定RT!!\n",
      "\n",
      "結構な確率で絡みに行きます！\n",
      "お願いします🙇‍♀️🙏\n",
      "\n",
      "#拡散希望\n",
      "#固定RT \n",
      "#フォロバ\n",
      "#フォートナイト\n",
      "#Fortnite\n",
      "gomiunkoo 2019-10-17 22:54:07 軽くてきれいな1v1の島アップデート入りました！\n",
      "めっちゃ綺麗じゃないですか...？\n",
      "\n",
      "　　　↓島のコード↓\n",
      "        1231-5502-2162\n",
      "\n",
      "#Fortnite #フォートナイト https://t.co/EkRwXlRD8S\n",
      "Franz30agmailc1 2019-10-17 22:54:07 Love her #NationalGirlfriendsDay #BreconByelection #DemDebate #DemDebate2 #mufc #AVFC #Fortnite https://t.co/7yOptCNVHv\n",
      "rairaikenmaster 2019-10-17 22:54:08 Fortnite2マップ巡り！botがバグる！ https://t.co/lWzIfhqdLY @YouTubeさんから\n",
      "#Fortnite #フォートナイト\n",
      "ImSynh 2019-10-17 22:54:09 NEW Gamebreaking Exploit \n",
      "\n",
      "Unlimited Health! #Fortnite https://t.co/DTPaYSHWdW\n",
      "DLucifix 2019-10-17 22:54:09 Fckin mint \n",
      "@ShinyPandyaPro\n",
      "#Fortnite \n",
      "#PS4share #PS4share\n",
      "\n",
      "https://t.co/CdbOZgR8JN https://t.co/HYTFhfsxaL\n",
      "JalinMiller4 2019-10-17 22:54:14 It’s his own shadow, I’m dying! #Fortnite 🤣💀\n",
      "\n",
      "(🎥/u/Ashox1996) https://t.co/ApuL3b8ktK\n",
      "suares_lucie 2019-10-17 22:54:15 Les joueurs de fortnite en ce moment 😂 #Fortnite https://t.co/PYRIoY1UcC\n",
      "zenufn 2019-10-17 22:54:21 I need a pfp with this combo no cap I will pay whatever @FortniteGame #fortnitepfp #Fortnite tag someone https://t.co/7ii4Weciqd\n"
     ]
    }
   ],
   "source": [
    "csvFile = open('file.csv', 'a', encoding='utf-8', newline='')\n",
    "csvWriter = csv.writer(csvFile)       \n",
    "csvWriter.writerow(['Author','Date','Text'])\n",
    "csvFile.close()\n",
    "\n",
    "streamingAPI = tweepy.streaming.Stream(auth, CustomStreamListener())\n",
    "Palabra= input(\"Introduzca el hashtag:  \")\n",
    "streamingAPI.filter(track=[Palabra], is_async = True)"
   ]
  },
  {
   "cell_type": "code",
   "execution_count": 1,
   "metadata": {},
   "outputs": [
    {
     "data": {
      "text/plain": [
       "398"
      ]
     },
     "execution_count": 1,
     "metadata": {},
     "output_type": "execute_result"
    }
   ],
   "source": [
    "string = \"ãƒãƒˆãƒ«ãƒ‘ã‚¹ã‚®ãƒ•ãƒˆã—ã¾ã™â€¼ï¸ ã€å¿œå‹Ÿæ–¹æ³•ã€‘ 1ã“ã®ã‚¢ã‚«ã‚¦ãƒ³ãƒˆã‚’ãƒ•ã‚©ãƒ­ãƒ¼ï¼‹ãƒªãƒ„ã‚¤ãƒ¼ãƒˆ 2YouTubeã®ãƒãƒ£ãƒ³ãƒãƒ«ç™»éŒ²  3ã§ãã‚Œã°Mildomã®ãƒ•ã‚©ãƒ­ãƒ¼ã‚‚ãŠé¡˜ã„ã—ã¾ã™ï¼ å¿œå‹Ÿã¯ä¸Šã®1.2ã§å®Œäº†ã§ã™ï¼3ã—ã¦ãã‚ŒãŸã‚‰å¬‰ã—ã„ðŸ˜Š #Fortnite #ãƒ•ã‚©ãƒ¼ãƒˆãƒŠã‚¤ãƒˆ ãƒãƒ£ãƒ³ãƒãƒ«ã¯ä¸‹ã«è²¼ã£ã¦ã¾ã™ï¼ â†“â†“â†“â†“â†“â†“â†“â†“â†“â†“â†“â†“â†“â†“â†“\"\n",
    "len(list(string))"
   ]
  },
  {
   "cell_type": "code",
   "execution_count": null,
   "metadata": {},
   "outputs": [],
   "source": []
  }
 ],
 "metadata": {
  "kernelspec": {
   "display_name": "Python 3",
   "language": "python",
   "name": "python3"
  },
  "language_info": {
   "codemirror_mode": {
    "name": "ipython",
    "version": 3
   },
   "file_extension": ".py",
   "mimetype": "text/x-python",
   "name": "python",
   "nbconvert_exporter": "python",
   "pygments_lexer": "ipython3",
   "version": "3.7.3"
  }
 },
 "nbformat": 4,
 "nbformat_minor": 2
}
