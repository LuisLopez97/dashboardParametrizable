{
 "cells": [
  {
   "cell_type": "code",
   "execution_count": 6,
   "metadata": {},
   "outputs": [],
   "source": [
    "from nltk.corpus import stopwords\n",
    "from wordcloud import WordCloud, STOPWORDS"
   ]
  },
  {
   "cell_type": "code",
   "execution_count": 2,
   "metadata": {},
   "outputs": [
    {
     "name": "stdout",
     "output_type": "stream",
     "text": [
      "<class 'list'>\n"
     ]
    }
   ],
   "source": [
    "stop = stopwords.words(\"spanish\")\n",
    "stop_set = set(stop)\n",
    "#tweets = tweets.apply(lambda x: ' '.join([word for word in x.split() if word not in (stop_set)]))"
   ]
  },
  {
   "cell_type": "code",
   "execution_count": 3,
   "metadata": {},
   "outputs": [
    {
     "name": "stdout",
     "output_type": "stream",
     "text": [
      "{'tenida', 'poco', 'tuviesen', 'tuviera', 'estuvieras', 'más', 'esta', 'hubiese', 'tengan', 'las', 'tened', 'hubo', 'nosotros', 'sentidos', 'habremos', 'fuera', 'estabais', 'le', 'nosotras', 'hubieras', 'tuviste', 'fui', 'ese', 'estáis', 'habrían', 'otro', 'ni', 'fueses', 'tuvierais', 'estuvisteis', 'tiene', 'fue', 'tuvo', 'seríamos', 'fuesen', 'hubisteis', 'eres', 'hubieses', 'eras', 'tuve', 'tenemos', 'nuestra', 'fuisteis', 'fueron', 'hubiera', 'habrías', 'les', 'hubimos', 'del', 'sentida', 'estarías', 'estada', 'tendré', 'otra', 'serás', 'estés', 'nuestras', 'tuvimos', 'otras', 'suyas', 'contra', 'seáis', 'pero', 'hemos', 'sean', 'para', 'de', 'que', 'estaría', 'hayan', 'durante', 'tuviéramos', 'seréis', 'estas', 'en', 'sus', 'estaremos', 'hubiste', 'con', 'sí', 'habría', 'habrá', 'vuestro', 'sea', 'estos', 'todo', 'estarán', 'muchos', 'un', 'sentidas', 'vuestras', 'estaré', 'habríais', 'tuyo', 'suyos', 'seremos', 'sobre', 'había', 'estando', 'míos', 'mi', 'seré', 'donde', 'habréis', 'han', 'tengo', 'no', 'habidas', 'hubieron', 'esté', 'y', 'tuvisteis', 'estaba', 'hasta', 'habiendo', 'fuéramos', 'tuvieras', 'habrás', 'tus', 'estuviesen', 'tanto', 'mis', 'hubierais', 'hayáis', 'eran', 'habidos', 'está', 'tendrá', 'será', 'tuvieran', 'qué', 'cual', 'yo', 'tuviese', 'vuestra', 'estuvieron', 'tendrían', 'otros', 'estoy', 'tuvieses', 'estaríamos', 'estén', 'ellos', 'antes', 'estuvieran', 'sin', 'sentido', 'fuimos', 'hubiésemos', 'tendríais', 'fuiste', 'estaban', 'al', 'estarás', 'mía', 'fuésemos', 'tenías', 'teníais', 'estuvierais', 'esto', 'estabas', 'tuviésemos', 'eso', 'tenido', 'hay', 'todos', 'desde', 'éramos', 'porque', 'tuya', 'mí', 'tienen', 'habíamos', 'este', 'tenidos', 'vosotros', 'es', 'estamos', 'también', 'teníamos', 'tuyas', 'estaríais', 'mío', 'tendrán', 'fuerais', 'vuestros', 'tenidas', 'cuando', 'tenían', 'él', 'nos', 'ella', 'estuviera', 'estad', 'su', 'son', 'sintiendo', 'algunos', 'teniendo', 'vosotras', 'esos', 'estarían', 'hayas', 'tienes', 'hubiesen', 'estuvimos', 'el', 'seríais', 'hayamos', 'suya', 'tuvieron', 'seamos', 'estuvieseis', 'hubieran', 'estuvieses', 'nada', 'habían', 'estaréis', 'lo', 'algo', 'habríamos', 'se', 'tenía', 'suyo', 'muy', 'estuvo', 'tengáis', 'fuese', 'estábamos', 'haya', 'quienes', 'fueran', 'tendréis', 'tuyos', 'tuvieseis', 'ante', 'habías', 'estará', 'hube', 'tendríamos', 'habrán', 'soy', 'fueseis', 'algunas', 'e', 'como', 'estuviese', 'habido', 'una', 'entre', 'te', 'están', 'sois', 'estar', 'tendrías', 'me', 'tengas', 'estuve', 'tendría', 'esas', 'has', 'habré', 'serían', 'somos', 'hubiéramos', 'uno', 'los', 'he', 'estuviste', 'os', 'mucho', 'estás', 'era', 'serán', 'estado', 'fueras', 'tendrás', 'erais', 'tenga', 'habida', 'hubieseis', 'seas', 'por', 'estéis', 'sentid', 'tú', 'nuestros', 'sería', 'habíais', 'tenéis', 'serías', 'ti', 'ha', 'a', 'estados', 'o', 'ya', 'nuestro', 'tendremos', 'esa', 'unos', 'mías', 'tu', 'estemos', 'ellas', 'la', 'habéis', 'estuviéramos', 'quien', 'siente', 'estuviésemos', 'estadas', 'tengamos'}\n"
     ]
    }
   ],
   "source": [
    "print(stop_set)"
   ]
  },
  {
   "cell_type": "code",
   "execution_count": 4,
   "metadata": {},
   "outputs": [
    {
     "name": "stdout",
     "output_type": "stream",
     "text": [
      "{'tenida', 'poco', 'tuviesen', 'tuviera', 'estuvieras', 'más', 'esta', 'hubiese', 'tengan', 'las', 'tened', 'hubo', 'nosotros', 'sentidos', 'habremos', 'fuera', 'estabais', 'le', 'nosotras', 'hubieras', 'tuviste', 'fui', 'ese', 'estáis', 'habrían', 'otro', 'ni', 'fueses', 'tuvierais', 'estuvisteis', 'tiene', 'fue', 'tuvo', 'seríamos', 'fuesen', 'hubisteis', 'eres', 'hubieses', 'eras', 'tuve', 'tenemos', 'nuestra', 'fuisteis', 'fueron', 'hubiera', 'habrías', 'les', 'hubimos', 'del', 'sentida', 'estarías', 'estada', 'tendré', 'otra', 'serás', 'estés', 'nuestras', 'tuvimos', 'otras', 'suyas', 'contra', 'seáis', 'pero', 'hemos', 'sean', 'para', 'de', 'que', 'estaría', 'hayan', 'durante', 'tuviéramos', 'seréis', 'estas', 'en', 'sus', 'estaremos', 'hubiste', 'con', 'sí', 'habría', 'habrá', 'vuestro', 'sea', 'estos', 'todo', 'estarán', 'muchos', 'un', 'sentidas', 'vuestras', 'estaré', 'habríais', 'tuyo', 'suyos', 'seremos', 'sobre', 'había', 'estando', 'míos', 'mi', 'seré', 'donde', 'habréis', 'han', 'tengo', 'habidas', 'hubieron', 'esté', 'y', 'tuvisteis', 'estaba', 'hasta', 'habiendo', 'fuéramos', 'tuvieras', 'habrás', 'tus', 'estuviesen', 'tanto', 'mis', 'hubierais', 'hayáis', 'eran', 'habidos', 'está', 'tendrá', 'será', 'tuvieran', 'qué', 'cual', 'yo', 'tuviese', 'vuestra', 'estuvieron', 'tendrían', 'otros', 'estoy', 'tuvieses', 'estaríamos', 'estén', 'ellos', 'antes', 'estuvieran', 'sin', 'sentido', 'fuimos', 'hubiésemos', 'tendríais', 'fuiste', 'estaban', 'al', 'estarás', 'mía', 'fuésemos', 'tenías', 'teníais', 'estuvierais', 'esto', 'estabas', 'tuviésemos', 'eso', 'tenido', 'hay', 'todos', 'desde', 'éramos', 'porque', 'tuya', 'mí', 'tienen', 'habíamos', 'este', 'tenidos', 'vosotros', 'es', 'estamos', 'también', 'teníamos', 'tuyas', 'estaríais', 'mío', 'tendrán', 'fuerais', 'vuestros', 'tenidas', 'cuando', 'tenían', 'él', 'nos', 'ella', 'estuviera', 'estad', 'su', 'son', 'sintiendo', 'algunos', 'teniendo', 'vosotras', 'esos', 'estarían', 'hayas', 'tienes', 'hubiesen', 'estuvimos', 'el', 'seríais', 'hayamos', 'suya', 'tuvieron', 'seamos', 'estuvieseis', 'hubieran', 'estuvieses', 'nada', 'habían', 'estaréis', 'lo', 'algo', 'habríamos', 'se', 'tenía', 'suyo', 'muy', 'estuvo', 'tengáis', 'fuese', 'estábamos', 'haya', 'quienes', 'fueran', 'tendréis', 'tuyos', 'tuvieseis', 'ante', 'habías', 'estará', 'hube', 'tendríamos', 'habrán', 'soy', 'fueseis', 'algunas', 'e', 'como', 'estuviese', 'habido', 'una', 'entre', 'te', 'están', 'sois', 'estar', 'tendrías', 'me', 'tengas', 'estuve', 'tendría', 'esas', 'has', 'habré', 'serían', 'somos', 'hubiéramos', 'uno', 'los', 'he', 'estuviste', 'os', 'mucho', 'estás', 'era', 'serán', 'estado', 'fueras', 'tendrás', 'erais', 'tenga', 'habida', 'hubieseis', 'seas', 'por', 'estéis', 'sentid', 'tú', 'nuestros', 'sería', 'habíais', 'tenéis', 'serías', 'ti', 'ha', 'a', 'estados', 'o', 'ya', 'nuestro', 'tendremos', 'esa', 'unos', 'mías', 'tu', 'estemos', 'ellas', 'la', 'habéis', 'estuviéramos', 'quien', 'siente', 'estuviésemos', 'estadas', 'tengamos'}\n"
     ]
    }
   ],
   "source": [
    "stop_set.discard('no')\n",
    "print(stop_set)"
   ]
  },
  {
   "cell_type": "code",
   "execution_count": 7,
   "metadata": {},
   "outputs": [
    {
     "name": "stdout",
     "output_type": "stream",
     "text": [
      "<class 'set'>\n"
     ]
    }
   ],
   "source": [
    "print(type(STOPWORDS))"
   ]
  },
  {
   "cell_type": "code",
   "execution_count": null,
   "metadata": {},
   "outputs": [],
   "source": []
  }
 ],
 "metadata": {
  "kernelspec": {
   "display_name": "Python 3",
   "language": "python",
   "name": "python3"
  },
  "language_info": {
   "codemirror_mode": {
    "name": "ipython",
    "version": 3
   },
   "file_extension": ".py",
   "mimetype": "text/x-python",
   "name": "python",
   "nbconvert_exporter": "python",
   "pygments_lexer": "ipython3",
   "version": "3.7.3"
  }
 },
 "nbformat": 4,
 "nbformat_minor": 2
}
